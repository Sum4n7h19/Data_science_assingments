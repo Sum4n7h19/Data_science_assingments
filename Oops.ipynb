{
 "cells": [
  {
   "cell_type": "code",
   "execution_count": 1,
   "id": "63a77b5d",
   "metadata": {},
   "outputs": [],
   "source": [
    "\"\"\"Q1.A \"Class\" is like an object constructor.or a blueprint for creating object.\n",
    "To create a Class.use the keyword class.\"\"\"\n",
    "\"\"\"where addint is class and a and b are objects\"\"\"\n",
    "class addint:\n",
    "    a=5\n",
    "    b=10\n",
    "        "
   ]
  },
  {
   "cell_type": "code",
   "execution_count": 2,
   "id": "bcf6bb70",
   "metadata": {},
   "outputs": [],
   "source": [
    "obj1=addint"
   ]
  },
  {
   "cell_type": "code",
   "execution_count": 3,
   "id": "e3177122",
   "metadata": {},
   "outputs": [
    {
     "name": "stdout",
     "output_type": "stream",
     "text": [
      "15\n"
     ]
    }
   ],
   "source": [
    "print(addint.a+addint.b)"
   ]
  },
  {
   "cell_type": "code",
   "execution_count": 4,
   "id": "df06e399",
   "metadata": {},
   "outputs": [
    {
     "data": {
      "text/plain": [
       "'Q2.The four pillars of oops are \\n*Inheritence\\n*Polymorphism\\n*Encapsulation\\n*Abstraction'"
      ]
     },
     "execution_count": 4,
     "metadata": {},
     "output_type": "execute_result"
    }
   ],
   "source": [
    "\"\"\"Q2.The four pillars of oops are \n",
    "*Inheritence\n",
    "*Polymorphism\n",
    "*Encapsulation\n",
    "*Abstraction\"\"\""
   ]
  },
  {
   "cell_type": "code",
   "execution_count": 5,
   "id": "0386af67",
   "metadata": {},
   "outputs": [
    {
     "data": {
      "text/plain": [
       "'Q3.The __init__() function assigns a values to object properties or other operations that are necessary todo when the\\nobject is being is created'"
      ]
     },
     "execution_count": 5,
     "metadata": {},
     "output_type": "execute_result"
    }
   ],
   "source": [
    "\"\"\"Q3.The __init__() function assigns a values to object properties or other operations that are necessary todo when the\n",
    "object is being is created\"\"\""
   ]
  },
  {
   "cell_type": "code",
   "execution_count": 6,
   "id": "7c14f819",
   "metadata": {},
   "outputs": [
    {
     "data": {
      "text/plain": [
       "'Q4.self is used to access the attribute and methods in oops.'"
      ]
     },
     "execution_count": 6,
     "metadata": {},
     "output_type": "execute_result"
    }
   ],
   "source": [
    "\"\"\"Q4.self is used to access the attribute and methods in oops.\"\"\""
   ]
  },
  {
   "cell_type": "code",
   "execution_count": 7,
   "id": "defd8d32",
   "metadata": {},
   "outputs": [],
   "source": [
    "\"\"\"Q5.Inheritance allows us to inherit properties from one class to another class\"\"\"\n",
    "\"\"\"There are five types of inheritence.\"\"\"\n",
    "#Single inheritance\n",
    "class Person:\n",
    "    \n",
    "    def __init__(self,First_name,Last_name):\n",
    "        self.First_name=First_name\n",
    "        self.Last_name=Last_name\n",
    "        \n",
    "    def Enter_name(self):\n",
    "        print(self.First_name,self.Last_name)\n",
    "        "
   ]
  },
  {
   "cell_type": "code",
   "execution_count": 8,
   "id": "54c254b9",
   "metadata": {},
   "outputs": [],
   "source": [
    "class person_name(Person):\n",
    "    \n",
    "    pass\n",
    "        \n"
   ]
  },
  {
   "cell_type": "code",
   "execution_count": 9,
   "id": "5d2251b2",
   "metadata": {},
   "outputs": [
    {
     "name": "stdout",
     "output_type": "stream",
     "text": [
      "Sharath Kumar\n"
     ]
    }
   ],
   "source": [
    "name=person_name(\"Sharath\",\"Kumar\")\n",
    "name.Enter_name()"
   ]
  },
  {
   "cell_type": "code",
   "execution_count": 10,
   "id": "d69bb5d2",
   "metadata": {},
   "outputs": [],
   "source": [
    "#Mutiple inheritance\n",
    "class mother:\n",
    "    \n",
    "    def mom(self,mother_name):\n",
    "        self.mother_name\n",
    "    \n",
    "class father:\n",
    "    \n",
    "    def dad(self,father_name):\n",
    "        self.father_name\n",
    "\n",
    "class parents(mother,father):\n",
    "    \n",
    "    def parent(self):\n",
    "        print(\"mother=\",self.mother_name)\n",
    "        print(\"father=\",self.father_name)\n",
    "        pass"
   ]
  },
  {
   "cell_type": "code",
   "execution_count": 11,
   "id": "f34e0c02",
   "metadata": {},
   "outputs": [
    {
     "name": "stdout",
     "output_type": "stream",
     "text": [
      "mother= Saritha\n",
      "father= Mahesh\n"
     ]
    }
   ],
   "source": [
    "name=parents()\n",
    "name.mother_name=\"Saritha\"\n",
    "name.father_name=\"Mahesh\"\n",
    "name.parent()"
   ]
  },
  {
   "cell_type": "code",
   "execution_count": 12,
   "id": "92873c2a",
   "metadata": {},
   "outputs": [],
   "source": [
    "#Multilevel inheritance\n",
    "class grandfather:\n",
    "\n",
    "    def grandpa(self, grandfather_name):\n",
    "        self.grandfather_name\n",
    "        \n",
    "\n",
    "\n",
    "class father(grandfather):\n",
    "\n",
    "    def dad(self, father_name, grandfather_name):\n",
    "        self.father_name\n",
    "        \n",
    "\n",
    "\n",
    "class son(father):\n",
    "\n",
    "    def son(self, son_name, grandfather_name, father_name):\n",
    "        self.son_name\n",
    "        \n",
    "        \n",
    "class family(son,father,grandfather):\n",
    "    def family_tree(self):\n",
    "        print(\"Grandpa=\", self.grandfather_name)\n",
    "        print(\"father=\", self.father_name)\n",
    "        print(\"Son=\", self.son_name)\n",
    "        pass\n"
   ]
  },
  {
   "cell_type": "code",
   "execution_count": 13,
   "id": "6e8a019a",
   "metadata": {},
   "outputs": [],
   "source": [
    "name = family()\n",
    "name.grandfather_name = \"Shankarapa\"\n",
    "name.father_name = \"Mahesh\"\n",
    "name.son_name = \"Sumanth\""
   ]
  },
  {
   "cell_type": "code",
   "execution_count": 14,
   "id": "26041d74",
   "metadata": {},
   "outputs": [
    {
     "name": "stdout",
     "output_type": "stream",
     "text": [
      "Grandpa= Shankarapa\n",
      "father= Mahesh\n",
      "Son= Sumanth\n"
     ]
    }
   ],
   "source": [
    "name.family_tree()"
   ]
  },
  {
   "cell_type": "code",
   "execution_count": 15,
   "id": "e8a9f170",
   "metadata": {},
   "outputs": [],
   "source": [
    "#hierarchical inheritance\n",
    "class queen:\n",
    "    \n",
    "    def queen_bee(self):\n",
    "        print(\"This is the Queen bee ruler of the hive\")\n",
    "       \n",
    "        \n",
    "class drone(queen):\n",
    "    \n",
    "    def drone_bee(self):\n",
    "        print(\"This is the the Drone bee only male in the hive\")\n",
    "        \n",
    "class worker(queen):\n",
    "    \n",
    "    def worker_bee(self):\n",
    "        print(\"This is the Worker bee we are the worker who prduce honey for the Queen\")\n",
    "    "
   ]
  },
  {
   "cell_type": "code",
   "execution_count": 16,
   "id": "7d9c5f03",
   "metadata": {},
   "outputs": [
    {
     "name": "stdout",
     "output_type": "stream",
     "text": [
      "This is the Queen bee ruler of the hive\n",
      "This is the the Drone bee only male in the hive\n",
      "This is the Queen bee ruler of the hive\n",
      "This is the Worker bee we are the worker who prduce honey for the Queen\n"
     ]
    }
   ],
   "source": [
    "bee_hive_1=drone()\n",
    "bee_hive_2=worker()\n",
    "bee_hive_1.queen_bee()\n",
    "bee_hive_1.drone_bee()\n",
    "bee_hive_2.queen_bee()\n",
    "bee_hive_2.worker_bee()"
   ]
  },
  {
   "cell_type": "code",
   "execution_count": 17,
   "id": "d941f82b",
   "metadata": {},
   "outputs": [],
   "source": [
    "#Hybrid inheritance\n",
    "class company:\n",
    "    def company(self):\n",
    "        print(\"Company profit=100000\")\n",
    "        pass\n",
    "    \n",
    "    \n",
    "class investors(company):\n",
    "    def incestors(self):\n",
    "        print(\"Investors profits=20000\")\n",
    "      \n",
    "        \n",
    "class management(company):\n",
    "    \n",
    "    def management(self):\n",
    "        print(\"Mangement salary=2000\")\n",
    "        \n",
    "        \n",
    "\n",
    "class worker(management,company):\n",
    "    def worker(self):\n",
    "        print(\"Workers salary=3000\")"
   ]
  },
  {
   "cell_type": "code",
   "execution_count": 18,
   "id": "f6b3ab30",
   "metadata": {},
   "outputs": [],
   "source": [
    "profit=worker()"
   ]
  },
  {
   "cell_type": "code",
   "execution_count": 19,
   "id": "ee4d2bb3",
   "metadata": {},
   "outputs": [
    {
     "name": "stdout",
     "output_type": "stream",
     "text": [
      "Mangement salary=2000\n"
     ]
    }
   ],
   "source": [
    "profit.management()"
   ]
  },
  {
   "cell_type": "code",
   "execution_count": 20,
   "id": "67ccbf98",
   "metadata": {},
   "outputs": [
    {
     "name": "stdout",
     "output_type": "stream",
     "text": [
      "Workers salary=3000\n"
     ]
    }
   ],
   "source": [
    "profit.worker()"
   ]
  },
  {
   "cell_type": "code",
   "execution_count": 21,
   "id": "33aadfb4",
   "metadata": {},
   "outputs": [
    {
     "name": "stdout",
     "output_type": "stream",
     "text": [
      "Company profit=100000\n"
     ]
    }
   ],
   "source": [
    "profit.company()"
   ]
  }
 ],
 "metadata": {
  "kernelspec": {
   "display_name": "Python 3 (ipykernel)",
   "language": "python",
   "name": "python3"
  },
  "language_info": {
   "codemirror_mode": {
    "name": "ipython",
    "version": 3
   },
   "file_extension": ".py",
   "mimetype": "text/x-python",
   "name": "python",
   "nbconvert_exporter": "python",
   "pygments_lexer": "ipython3",
   "version": "3.10.9"
  }
 },
 "nbformat": 4,
 "nbformat_minor": 5
}
