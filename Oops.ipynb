{
 "cells": [
  {
   "cell_type": "code",
   "execution_count": 165,
   "id": "63a77b5d",
   "metadata": {},
   "outputs": [],
   "source": [
    "\"\"\"Q1.A \"Class\" is like an object constructor.or a blueprint for creating object.\n",
    "To create a Class.use the keyword class.\"\"\"\n",
    "\"\"\"where addint is class and a and b are objects\"\"\"\n",
    "class addint:\n",
    "    a=5\n",
    "    b=10\n",
    "        "
   ]
  },
  {
   "cell_type": "code",
   "execution_count": 166,
   "id": "bcf6bb70",
   "metadata": {},
   "outputs": [],
   "source": [
    "obj1=addint"
   ]
  },
  {
   "cell_type": "code",
   "execution_count": 167,
   "id": "e3177122",
   "metadata": {},
   "outputs": [
    {
     "name": "stdout",
     "output_type": "stream",
     "text": [
      "15\n"
     ]
    }
   ],
   "source": [
    "print(addint.a+addint.b)"
   ]
  },
  {
   "cell_type": "code",
   "execution_count": 168,
   "id": "df06e399",
   "metadata": {},
   "outputs": [
    {
     "data": {
      "text/plain": [
       "'Q2.The four pillars of oops are \\n*Inheritence\\n*Polymorphism\\n*Encapsulation\\n*Abstraction'"
      ]
     },
     "execution_count": 168,
     "metadata": {},
     "output_type": "execute_result"
    }
   ],
   "source": [
    "\"\"\"Q2.The four pillars of oops are \n",
    "*Inheritence\n",
    "*Polymorphism\n",
    "*Encapsulation\n",
    "*Abstraction\"\"\""
   ]
  },
  {
   "cell_type": "code",
   "execution_count": 169,
   "id": "0386af67",
   "metadata": {},
   "outputs": [
    {
     "data": {
      "text/plain": [
       "'Q3.The __init__() function assigns a values to object properties or other operations that are necessary todo when the\\nobject is being is created'"
      ]
     },
     "execution_count": 169,
     "metadata": {},
     "output_type": "execute_result"
    }
   ],
   "source": [
    "\"\"\"Q3.The __init__() function assigns a values to object properties or other operations that are necessary todo when the\n",
    "object is being is created\"\"\""
   ]
  },
  {
   "cell_type": "code",
   "execution_count": 170,
   "id": "7c14f819",
   "metadata": {},
   "outputs": [
    {
     "data": {
      "text/plain": [
       "'Q4.self is used to access the attribute and methods in oops.'"
      ]
     },
     "execution_count": 170,
     "metadata": {},
     "output_type": "execute_result"
    }
   ],
   "source": [
    "\"\"\"Q4.self is used to access the attribute and methods in oops.\"\"\""
   ]
  },
  {
   "cell_type": "code",
   "execution_count": 171,
   "id": "defd8d32",
   "metadata": {},
   "outputs": [],
   "source": [
    "\"\"\"Q5.Inheritance allows us to inherit properties from one class to another class\"\"\"\n",
    "\"\"\"There are five types of inheritence.\"\"\"\n",
    "#Single inheritance\n",
    "class Person:\n",
    "    \n",
    "    def __init__(self,First_name,Last_name):\n",
    "        self.First_name=First_name\n",
    "        self.Last_name=Last_name\n",
    "        \n",
    "    def Enter_name(self):\n",
    "        print(self.First_name,self.Last_name)\n",
    "        "
   ]
  },
  {
   "cell_type": "code",
   "execution_count": 172,
   "id": "54c254b9",
   "metadata": {},
   "outputs": [],
   "source": [
    "class person_name(Person):\n",
    "    \n",
    "    pass\n",
    "        \n"
   ]
  },
  {
   "cell_type": "code",
   "execution_count": 185,
   "id": "5d2251b2",
   "metadata": {},
   "outputs": [
    {
     "name": "stdout",
     "output_type": "stream",
     "text": [
      "Sharath Kumar\n"
     ]
    }
   ],
   "source": [
    "name=person_name(\"Sharath\",\"Kumar\")\n",
    "name.Enter_name()"
   ]
  },
  {
   "cell_type": "code",
   "execution_count": 174,
   "id": "d69bb5d2",
   "metadata": {},
   "outputs": [],
   "source": [
    "#Mutiple inheritance\n",
    "class mother:\n",
    "    \n",
    "    def mom(self,mother_name):\n",
    "        self.mother_name\n",
    "    \n",
    "class father:\n",
    "    \n",
    "    def dad(self,father_name):\n",
    "        self.father_name\n",
    "\n",
    "class parents(mother,father):\n",
    "    \n",
    "    def parent(self):\n",
    "        print(\"mother=\",self.mother_name)\n",
    "        print(\"father=\",self.father_name)\n",
    "        pass"
   ]
  },
  {
   "cell_type": "code",
   "execution_count": 175,
   "id": "f34e0c02",
   "metadata": {},
   "outputs": [
    {
     "name": "stdout",
     "output_type": "stream",
     "text": [
      "mother= Saritha\n",
      "father= Mahesh\n"
     ]
    }
   ],
   "source": [
    "name=parents()\n",
    "name.mother_name=\"Saritha\"\n",
    "name.father_name=\"Mahesh\"\n",
    "name.parent()"
   ]
  },
  {
   "cell_type": "code",
   "execution_count": 176,
   "id": "92873c2a",
   "metadata": {},
   "outputs": [],
   "source": [
    "#Multilevel inheritance\n",
    "class grandfather:\n",
    "\n",
    "    def grandpa(self, grandfather_name):\n",
    "        self.grandfather_name\n",
    "        \n",
    "\n",
    "\n",
    "class father(grandfather):\n",
    "\n",
    "    def dad(self, father_name, grandfather_name):\n",
    "        self.father_name\n",
    "        \n",
    "\n",
    "\n",
    "class son(father):\n",
    "\n",
    "    def son(self, son_name, grandfather_name, father_name):\n",
    "        self.son_name\n",
    "        \n",
    "        \n",
    "class family(son,father,grandfather):\n",
    "    def family_tree(self):\n",
    "        print(\"Grandpa=\", self.grandfather_name)\n",
    "        print(\"father=\", self.father_name)\n",
    "        print(\"Son=\", self.son_name)\n",
    "        pass\n"
   ]
  },
  {
   "cell_type": "code",
   "execution_count": 177,
   "id": "6e8a019a",
   "metadata": {},
   "outputs": [],
   "source": [
    "name = family()\n",
    "name.grandfather_name = \"Shankarapa\"\n",
    "name.father_name = \"Mahesh\"\n",
    "name.son_name = \"Sumanth\""
   ]
  },
  {
   "cell_type": "code",
   "execution_count": 178,
   "id": "26041d74",
   "metadata": {},
   "outputs": [
    {
     "name": "stdout",
     "output_type": "stream",
     "text": [
      "Grandpa= Shankarapa\n",
      "father= Mahesh\n",
      "Son= Sumanth\n"
     ]
    }
   ],
   "source": [
    "name.family_tree()"
   ]
  },
  {
   "cell_type": "code",
   "execution_count": 179,
   "id": "e8a9f170",
   "metadata": {},
   "outputs": [],
   "source": [
    "#hierarchical inheritance\n",
    "class queen:\n",
    "    \n",
    "    def queen_bee(self):\n",
    "        print(\"This is the Queen bee ruler of the hive\")\n",
    "       \n",
    "        \n",
    "class drone(queen):\n",
    "    \n",
    "    def drone_bee(self):\n",
    "        print(\"This is the the Drone bee only male in the hive\")\n",
    "        \n",
    "class worker(queen):\n",
    "    \n",
    "    def worker_bee(self):\n",
    "        print(\"This is the Worker bee we are the worker who prduce honey for the Queen\")\n",
    "    "
   ]
  },
  {
   "cell_type": "code",
   "execution_count": 180,
   "id": "7d9c5f03",
   "metadata": {},
   "outputs": [
    {
     "name": "stdout",
     "output_type": "stream",
     "text": [
      "This is the Queen bee ruler of the hive\n",
      "This is the the Drone bee only male in the hive\n",
      "This is the Queen bee ruler of the hive\n",
      "This is the Worker bee we are the worker who prduce honey for the Queen\n"
     ]
    }
   ],
   "source": [
    "bee_hive_1=drone()\n",
    "bee_hive_2=worker()\n",
    "bee_hive_1.queen_bee()\n",
    "bee_hive_1.drone_bee()\n",
    "bee_hive_2.queen_bee()\n",
    "bee_hive_2.worker_bee()"
   ]
  },
  {
   "cell_type": "code",
   "execution_count": 187,
   "id": "d941f82b",
   "metadata": {},
   "outputs": [],
   "source": [
    "#Hybrid inheritance\n",
    "class company:\n",
    "    def company(self,company):\n",
    "        self.company=company\n",
    "    \n",
    "    \n",
    "class investors(company):\n",
    "    def investors(self,invest):\n",
    "        self.invest=invest\n",
    "      \n",
    "    \n",
    "class resources(investors,company):\n",
    "    def resource(self,requirements):\n",
    "        self.resources=requirements\n",
    "        \n",
    "        \n",
    "class management(investors,company):\n",
    "    \n",
    "    def management(self,management):\n",
    "        self.management=management\n",
    "        \n",
    "        \n",
    "\n",
    "class worker(management,resources):\n",
    "    def worker(self,worker):\n",
    "        self.worker=worker  "
   ]
  },
  {
   "cell_type": "code",
   "execution_count": 188,
   "id": "f6b3ab30",
   "metadata": {},
   "outputs": [],
   "source": [
    " class Accounts(worker,management,resources,investors,company): \n",
    "    \n",
    "    def company_detail(self):\n",
    "        print(\"Company profit=\",self.company)\n",
    "        print(\"Investors profits=\",self.invest)\n",
    "        print(\"Expenses on resources=\",self.resources)\n",
    "        print(\"Mangement salary=\",self.management)\n",
    "        print(\"Workers salary=\",self.worker)\n",
    "        pass\n",
    "    \n",
    "        \n",
    "        "
   ]
  },
  {
   "cell_type": "code",
   "execution_count": 1,
   "id": "ee4d2bb3",
   "metadata": {},
   "outputs": [
    {
     "ename": "NameError",
     "evalue": "name 'Accounts' is not defined",
     "output_type": "error",
     "traceback": [
      "\u001b[1;31m---------------------------------------------------------------------------\u001b[0m",
      "\u001b[1;31mNameError\u001b[0m                                 Traceback (most recent call last)",
      "Cell \u001b[1;32mIn[1], line 1\u001b[0m\n\u001b[1;32m----> 1\u001b[0m profit\u001b[38;5;241m=\u001b[39m\u001b[43mAccounts\u001b[49m(\u001b[38;5;241m10000\u001b[39m,\u001b[38;5;241m8000\u001b[39m,\u001b[38;5;241m3000\u001b[39m,\u001b[38;5;241m4000\u001b[39m,\u001b[38;5;241m3000\u001b[39m)\n",
      "\u001b[1;31mNameError\u001b[0m: name 'Accounts' is not defined"
     ]
    }
   ],
   "source": [
    "profit=Accounts(10000,8000,3000,4000,3000)\n",
    "#profit.company=\n",
    "#profit.invest=\n",
    "#profit.resources= \n",
    "#profit.management=\n",
    "#profit.worker="
   ]
  },
  {
   "cell_type": "code",
   "execution_count": 2,
   "id": "67ccbf98",
   "metadata": {},
   "outputs": [
    {
     "ename": "NameError",
     "evalue": "name 'profit' is not defined",
     "output_type": "error",
     "traceback": [
      "\u001b[1;31m---------------------------------------------------------------------------\u001b[0m",
      "\u001b[1;31mNameError\u001b[0m                                 Traceback (most recent call last)",
      "Cell \u001b[1;32mIn[2], line 1\u001b[0m\n\u001b[1;32m----> 1\u001b[0m \u001b[43mprofit\u001b[49m\u001b[38;5;241m.\u001b[39mcompany_detail()\n",
      "\u001b[1;31mNameError\u001b[0m: name 'profit' is not defined"
     ]
    }
   ],
   "source": [
    "profit.company_detail()\n"
   ]
  },
  {
   "cell_type": "code",
   "execution_count": null,
   "id": "33aadfb4",
   "metadata": {},
   "outputs": [],
   "source": []
  }
 ],
 "metadata": {
  "kernelspec": {
   "display_name": "Python 3 (ipykernel)",
   "language": "python",
   "name": "python3"
  },
  "language_info": {
   "codemirror_mode": {
    "name": "ipython",
    "version": 3
   },
   "file_extension": ".py",
   "mimetype": "text/x-python",
   "name": "python",
   "nbconvert_exporter": "python",
   "pygments_lexer": "ipython3",
   "version": "3.10.9"
  }
 },
 "nbformat": 4,
 "nbformat_minor": 5
}
