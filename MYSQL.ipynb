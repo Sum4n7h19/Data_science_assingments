{
 "cells": [
  {
   "cell_type": "markdown",
   "id": "a4994a9a",
   "metadata": {},
   "source": [
    "#Q1\n",
    "A database is a structured collection of data that is organized and stored in a computer system. It provides a way to store, manage, and retrieve information efficiently. Databases are widely used in various applications, ranging from small-scale personal projects to large-scale enterprise systems.\n",
    "\n",
    "SQL (Structured Query Language) and NoSQL (Not Only SQL) are two different types of database management systems, each with its own approach to storing and retrieving data.\n",
    "\n",
    "SQL Databases:\n",
    "SQL databases are based on the relational model and use SQL as the standard language for managing and querying data. They are characterized by the following:\n",
    "\n",
    "1. Structure: SQL databases have a well-defined schema that defines the structure of the data. Data is organized into tables with predefined columns and data types, and relationships can be established between tables using primary and foreign keys.\n",
    "\n",
    "2. Data integrity: SQL databases enforce data integrity through features such as unique constraints, foreign key constraints, and transaction support. These ensure that the data remains consistent and accurate.\n",
    "\n",
    "3. ACID properties: SQL databases are designed to guarantee ACID properties: Atomicity (transactions are all or nothing), Consistency (data remains consistent before and after transactions), Isolation (transactions are executed independently), and Durability (committed data is permanently saved).\n",
    "\n",
    "4. Scalability: SQL databases generally provide vertical scalability (increasing hardware resources on a single server) and horizontal scalability (distributing data across multiple servers using techniques like sharding).\n",
    "\n",
    "NoSQL Databases:\n",
    "NoSQL databases depart from the traditional relational model and offer a more flexible and scalable approach to data storage. Here are some key characteristics of NoSQL databases:\n",
    "\n",
    "1. Schema flexibility: NoSQL databases are schema-less or have a flexible schema. They allow storing and retrieving unstructured or semi-structured data without a fixed schema. This flexibility makes NoSQL databases suitable for handling rapidly changing or diverse data formats.\n",
    "\n",
    "2. Scalability: NoSQL databases are designed to scale horizontally, meaning they can distribute data across multiple servers and handle large amounts of data and high traffic loads. They often use techniques like sharding and replication to achieve scalability.\n",
    "\n",
    "3. Querying: NoSQL databases typically provide flexible query mechanisms, which may vary depending on the specific database type. While some NoSQL databases offer query languages similar to SQL, others use non-SQL query languages or APIs specific to their data model.\n",
    "\n",
    "4. Trade-offs: NoSQL databases often prioritize scalability, performance, and high availability over strict consistency. They may sacrifice some ACID properties to achieve greater scalability and performance, focusing on eventual consistency instead."
   ]
  },
  {
   "cell_type": "markdown",
   "id": "bafd45a9",
   "metadata": {},
   "source": [
    "#Q2\n",
    "DDL stands for Data Definition Language. It is a subset of SQL (Structured Query Language) used to define and manage the structure of a database. DDL statements are used to create, modify, and delete database objects such as tables, indexes, views, and constraints."
   ]
  },
  {
   "cell_type": "code",
   "execution_count": 2,
   "id": "6dfbc37f",
   "metadata": {},
   "outputs": [],
   "source": [
    "#SQL DDL LANGUAGE\n",
    "\"\"\"used to create database in the sql language\"\"\"\n",
    "CREATE DATABASE SUMANTH(\n",
    "ID INT PRIMARY KEY,\n",
    "NAME VARCHAR(100),\n",
    "EMAIL VARCHAR(100),\n",
    ");\n"
   ]
  },
  {
   "cell_type": "code",
   "execution_count": 3,
   "id": "0fa63b11",
   "metadata": {},
   "outputs": [],
   "source": [
    "\"\"\"used to delete database or tables in the sql language\"\"\"\n",
    "DROP DATABASE sumanth;"
   ]
  },
  {
   "cell_type": "code",
   "execution_count": null,
   "id": "bb6d77f6",
   "metadata": {},
   "outputs": [],
   "source": [
    "\"\"\"Used to add or alter,delete or rename column or the table\"\"\"\n",
    "ALTER TABLE STUDENTS\n",
    "ADD E_MAIL_ID VARCHAR(100);"
   ]
  },
  {
   "cell_type": "code",
   "execution_count": null,
   "id": "85127820",
   "metadata": {},
   "outputs": [],
   "source": [
    "\"\"\"used to delete all the existing data form the table without deleteing the columns or strcture of the table \"\"\"\n",
    "TRUNCATE TABLE STUDENTS;"
   ]
  },
  {
   "cell_type": "markdown",
   "id": "b5f89485",
   "metadata": {},
   "source": [
    "#Q3\n",
    "DML stands for Data Manipulation Language. It is a subset of SQL (Structured Query Language) used to manipulate and modify the data stored in a database. DML statements are used to perform operations such as inserting new data, updating existing data, and deleting data from database tables."
   ]
  },
  {
   "cell_type": "code",
   "execution_count": null,
   "id": "75cd7f29",
   "metadata": {},
   "outputs": [],
   "source": [
    "\"\"\"used to insert the data to the created columns\"\"\"\n",
    "INSERT INTO STUDENTS ( ST_ID,NAME,PHONE_NO,E_MAIL_ID)\n",
    "VALUES (1 , 'Sumanth M' , '45578565' ,'example@gmail.com');"
   ]
  },
  {
   "cell_type": "code",
   "execution_count": null,
   "id": "e96e14fb",
   "metadata": {},
   "outputs": [],
   "source": [
    "\"\"\"used to update or change the data in the table inside the database\"\"\"\n",
    "UPDATE students\n",
    "SET PHONE_NO = '1234567891'\n",
    "WHERE NAME =  'Sumanth M'"
   ]
  },
  {
   "cell_type": "code",
   "execution_count": null,
   "id": "26f09b05",
   "metadata": {},
   "outputs": [],
   "source": [
    "\"\"\"used to delete the selected one or more in the rows in the table\"\"\"\n",
    "DELETE FROM STUDENTS\n",
    "WHERE ST_ID = '1';"
   ]
  },
  {
   "cell_type": "markdown",
   "id": "a7f66b6b",
   "metadata": {},
   "source": [
    "#Q4\n",
    "DQL stands for Data Query Language. It is a subset of SQL (Structured Query Language) used to retrieve data from a database. DQL statements are primarily used to query and fetch specific data from one or more tables in the database."
   ]
  },
  {
   "cell_type": "code",
   "execution_count": null,
   "id": "48fd9c8d",
   "metadata": {},
   "outputs": [],
   "source": [
    "\"\"\"USED to select a particular column or data in the SQL\"\"\"\n",
    "select NAME,ST_ID\n",
    "from STUDENTS;"
   ]
  },
  {
   "cell_type": "markdown",
   "id": "aee1314e",
   "metadata": {},
   "source": [
    "#Q5\n",
    "Primary Key:\n",
    "A primary key is a column or a combination of columns in a database table that uniquely identifies each row or record in that table. It serves as a unique identifier and ensures the integrity and uniqueness of data within the table. Here are some key points about primary keys:\n",
    "\n",
    "1. Uniqueness: Every value in the primary key column(s) must be unique. No two rows can have the same primary key value.\n",
    "\n",
    "2. Non-nullability: The primary key column(s) cannot contain null values. Each row must have a valid value for the primary key.\n",
    "\n",
    "3. Single value or combination: A primary key can be a single column or a combination of columns (composite key) that together uniquely identify a row.\n",
    "\n",
    "4. Indexing: By default, most database systems automatically create an index on the primary key column(s), which improves the performance of search and retrieval operations.\n",
    "\n",
    "5. Example: In a table called \"Customers,\" a primary key column \"CustomerID\" could be used to uniquely identify each customer. Each customer record would have a different, non-null value in the \"CustomerID\" column.\n",
    "\n",
    "Foreign Key:\n",
    "A foreign key is a column or a combination of columns in a database table that establishes a link or a relationship between two tables. It represents a reference to the primary key of another table, creating a relationship between the two tables. Here are some key points about foreign keys:\n",
    "\n",
    "1. Relationship: A foreign key establishes a relationship between two tables by referencing the primary key of another table. It ensures referential integrity and maintains consistency between related tables.\n",
    "\n",
    "2. Referencing primary key: The foreign key column(s) in one table refers to the primary key column(s) of another table.\n",
    "\n",
    "3. Maintaining integrity: A foreign key constraint can be defined to enforce referential integrity, which ensures that the values in the foreign key column(s) of the referencing table exist in the referenced primary key column(s) of the referenced table.\n",
    "\n",
    "4. Multiple foreign keys: A table can have multiple foreign keys, each referring to a different primary key in other tables, allowing for complex relationships.\n",
    "\n",
    "5. Example: In a database with two tables, \"Orders\" and \"Customers,\" the \"Orders\" table may have a foreign key column \"CustomerID\" that references the primary key column \"CustomerID\" in the \"Customers\" table. This establishes a relationship between the two tables, allowing orders to be associated with specific customers."
   ]
  },
  {
   "cell_type": "code",
   "execution_count": 7,
   "id": "0023912f",
   "metadata": {},
   "outputs": [],
   "source": [
    "#Q6\n",
    "import mysql.connector\n",
    "\n",
    "sdb=mysql.connector.connect(host='localhost',user='root',password='********')\n",
    "\"\"\"cursor is used to create a cursor object which can be used execute sql statements and fetch all the results \n",
    "from the databse\"\"\"\n",
    "scursor = sdb.cursor()\n",
    "\"\"\"Execute statement is used to execute sql queries using the cursor\"\"\"\n",
    "scursor.execute(\"CREATE DATABASE IF NOT EXISTS appu\")"
   ]
  },
  {
   "cell_type": "markdown",
   "id": "1ae8f788",
   "metadata": {},
   "source": [
    "#Q7\n",
    "The order of execution of SQL clauses in an SQL query typically follows a specific sequence. Here's the general order of execution:\n",
    "\n",
    "1. FROM: The FROM clause specifies the table(s) from which the data will be retrieved. It identifies the source table(s) for the query.\n",
    "\n",
    "2. WHERE: The WHERE clause is used to filter the data based on specified conditions. It narrows down the result set by applying logical conditions to the data.\n",
    "\n",
    "3. GROUP BY: The GROUP BY clause is used to group rows together based on specific columns. It is often used in combination with aggregate functions like SUM, AVG, COUNT, etc., to perform calculations on grouped data.\n",
    "\n",
    "4. HAVING: The HAVING clause filters the grouped data further based on conditions similar to the WHERE clause. It is used to filter the result set after the GROUP BY operation.\n",
    "\n",
    "5. SELECT: The SELECT clause specifies the columns to be retrieved from the table(s). It determines which columns will appear in the final result set.\n",
    "\n",
    "6. ORDER BY: The ORDER BY clause is used to sort the result set based on specified columns. It arranges the rows in ascending (ASC) or descending (DESC) order.\n",
    "\n",
    "7. LIMIT/OFFSET: The LIMIT/OFFSET clause is used to limit the number of rows returned or skip a certain number of rows. It is typically used for pagination or to restrict the result set size."
   ]
  },
  {
   "cell_type": "code",
   "execution_count": null,
   "id": "d398e2ed",
   "metadata": {},
   "outputs": [],
   "source": []
  }
 ],
 "metadata": {
  "kernelspec": {
   "display_name": "Python 3 (ipykernel)",
   "language": "python",
   "name": "python3"
  },
  "language_info": {
   "codemirror_mode": {
    "name": "ipython",
    "version": 3
   },
   "file_extension": ".py",
   "mimetype": "text/x-python",
   "name": "python",
   "nbconvert_exporter": "python",
   "pygments_lexer": "ipython3",
   "version": "3.10.9"
  }
 },
 "nbformat": 4,
 "nbformat_minor": 5
}
