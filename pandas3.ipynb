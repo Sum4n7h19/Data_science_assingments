{
 "cells": [
  {
   "cell_type": "code",
   "execution_count": 1,
   "id": "bd2cbcef",
   "metadata": {},
   "outputs": [],
   "source": [
    "import pandas as pd"
   ]
  },
  {
   "cell_type": "code",
   "execution_count": 2,
   "id": "6e86e3e7",
   "metadata": {},
   "outputs": [],
   "source": [
    "course_name = ['Data Science','Machine Learning','Big Data','Data Engineer']\n",
    "duration = [2,3,6,4]\n",
    "df = pd.DataFrame(data = {'course_name':course_name, 'duration':duration})"
   ]
  },
  {
   "cell_type": "code",
   "execution_count": 3,
   "id": "3a6b04a1",
   "metadata": {},
   "outputs": [
    {
     "data": {
      "text/html": [
       "<div>\n",
       "<style scoped>\n",
       "    .dataframe tbody tr th:only-of-type {\n",
       "        vertical-align: middle;\n",
       "    }\n",
       "\n",
       "    .dataframe tbody tr th {\n",
       "        vertical-align: top;\n",
       "    }\n",
       "\n",
       "    .dataframe thead th {\n",
       "        text-align: right;\n",
       "    }\n",
       "</style>\n",
       "<table border=\"1\" class=\"dataframe\">\n",
       "  <thead>\n",
       "    <tr style=\"text-align: right;\">\n",
       "      <th></th>\n",
       "      <th>course_name</th>\n",
       "      <th>duration</th>\n",
       "    </tr>\n",
       "  </thead>\n",
       "  <tbody>\n",
       "    <tr>\n",
       "      <th>0</th>\n",
       "      <td>Data Science</td>\n",
       "      <td>2</td>\n",
       "    </tr>\n",
       "    <tr>\n",
       "      <th>1</th>\n",
       "      <td>Machine Learning</td>\n",
       "      <td>3</td>\n",
       "    </tr>\n",
       "    <tr>\n",
       "      <th>2</th>\n",
       "      <td>Big Data</td>\n",
       "      <td>6</td>\n",
       "    </tr>\n",
       "    <tr>\n",
       "      <th>3</th>\n",
       "      <td>Data Engineer</td>\n",
       "      <td>4</td>\n",
       "    </tr>\n",
       "  </tbody>\n",
       "</table>\n",
       "</div>"
      ],
      "text/plain": [
       "        course_name  duration\n",
       "0      Data Science         2\n",
       "1  Machine Learning         3\n",
       "2          Big Data         6\n",
       "3     Data Engineer         4"
      ]
     },
     "execution_count": 3,
     "metadata": {},
     "output_type": "execute_result"
    }
   ],
   "source": [
    "df"
   ]
  },
  {
   "cell_type": "code",
   "execution_count": 4,
   "id": "b78812d3",
   "metadata": {},
   "outputs": [
    {
     "data": {
      "text/plain": [
       "course_name    Machine Learning\n",
       "duration                      3\n",
       "Name: 1, dtype: object"
      ]
     },
     "execution_count": 4,
     "metadata": {},
     "output_type": "execute_result"
    }
   ],
   "source": [
    "#Q1\n",
    "df.iloc[1]"
   ]
  },
  {
   "cell_type": "markdown",
   "id": "68f1759f",
   "metadata": {},
   "source": [
    "#Q2\n",
    "The loc takes a value in the dataframe or series and returns the value,whereas the iloc uses the index values to search the vales in the dataframe."
   ]
  },
  {
   "cell_type": "code",
   "execution_count": 5,
   "id": "19179712",
   "metadata": {},
   "outputs": [],
   "source": [
    "#Q3\n",
    "import pandas as pd\n",
    "import numpy as np\n",
    "columns = ['column_1', 'column_2', 'column_3', 'column_4', 'column_5', 'column_6']\n",
    "indices = [1,2,3,4,5,6]\n",
    "#Creating a dataframe:\n",
    "df1 = pd.DataFrame(np.random.rand(6,6), columns = columns, index = indices)\n",
    "\n",
    "new_df=df1.reindex([3,0,1,2])"
   ]
  },
  {
   "cell_type": "code",
   "execution_count": 6,
   "id": "0534f025",
   "metadata": {},
   "outputs": [
    {
     "data": {
      "text/html": [
       "<div>\n",
       "<style scoped>\n",
       "    .dataframe tbody tr th:only-of-type {\n",
       "        vertical-align: middle;\n",
       "    }\n",
       "\n",
       "    .dataframe tbody tr th {\n",
       "        vertical-align: top;\n",
       "    }\n",
       "\n",
       "    .dataframe thead th {\n",
       "        text-align: right;\n",
       "    }\n",
       "</style>\n",
       "<table border=\"1\" class=\"dataframe\">\n",
       "  <thead>\n",
       "    <tr style=\"text-align: right;\">\n",
       "      <th></th>\n",
       "      <th>column_1</th>\n",
       "      <th>column_2</th>\n",
       "      <th>column_3</th>\n",
       "      <th>column_4</th>\n",
       "      <th>column_5</th>\n",
       "      <th>column_6</th>\n",
       "    </tr>\n",
       "  </thead>\n",
       "  <tbody>\n",
       "    <tr>\n",
       "      <th>1</th>\n",
       "      <td>0.107682</td>\n",
       "      <td>0.426358</td>\n",
       "      <td>0.825503</td>\n",
       "      <td>0.156599</td>\n",
       "      <td>0.364393</td>\n",
       "      <td>0.573805</td>\n",
       "    </tr>\n",
       "    <tr>\n",
       "      <th>2</th>\n",
       "      <td>0.263746</td>\n",
       "      <td>0.032509</td>\n",
       "      <td>0.829966</td>\n",
       "      <td>0.729987</td>\n",
       "      <td>0.174707</td>\n",
       "      <td>0.924018</td>\n",
       "    </tr>\n",
       "    <tr>\n",
       "      <th>3</th>\n",
       "      <td>0.414998</td>\n",
       "      <td>0.753462</td>\n",
       "      <td>0.106061</td>\n",
       "      <td>0.012387</td>\n",
       "      <td>0.351211</td>\n",
       "      <td>0.604243</td>\n",
       "    </tr>\n",
       "    <tr>\n",
       "      <th>4</th>\n",
       "      <td>0.530636</td>\n",
       "      <td>0.788429</td>\n",
       "      <td>0.881529</td>\n",
       "      <td>0.101824</td>\n",
       "      <td>0.570251</td>\n",
       "      <td>0.803532</td>\n",
       "    </tr>\n",
       "    <tr>\n",
       "      <th>5</th>\n",
       "      <td>0.041290</td>\n",
       "      <td>0.342473</td>\n",
       "      <td>0.692800</td>\n",
       "      <td>0.751585</td>\n",
       "      <td>0.567629</td>\n",
       "      <td>0.502735</td>\n",
       "    </tr>\n",
       "    <tr>\n",
       "      <th>6</th>\n",
       "      <td>0.202082</td>\n",
       "      <td>0.387806</td>\n",
       "      <td>0.134417</td>\n",
       "      <td>0.754184</td>\n",
       "      <td>0.185362</td>\n",
       "      <td>0.744956</td>\n",
       "    </tr>\n",
       "  </tbody>\n",
       "</table>\n",
       "</div>"
      ],
      "text/plain": [
       "   column_1  column_2  column_3  column_4  column_5  column_6\n",
       "1  0.107682  0.426358  0.825503  0.156599  0.364393  0.573805\n",
       "2  0.263746  0.032509  0.829966  0.729987  0.174707  0.924018\n",
       "3  0.414998  0.753462  0.106061  0.012387  0.351211  0.604243\n",
       "4  0.530636  0.788429  0.881529  0.101824  0.570251  0.803532\n",
       "5  0.041290  0.342473  0.692800  0.751585  0.567629  0.502735\n",
       "6  0.202082  0.387806  0.134417  0.754184  0.185362  0.744956"
      ]
     },
     "execution_count": 6,
     "metadata": {},
     "output_type": "execute_result"
    }
   ],
   "source": [
    "df1"
   ]
  },
  {
   "cell_type": "code",
   "execution_count": 7,
   "id": "12e0e08e",
   "metadata": {},
   "outputs": [
    {
     "data": {
      "text/html": [
       "<div>\n",
       "<style scoped>\n",
       "    .dataframe tbody tr th:only-of-type {\n",
       "        vertical-align: middle;\n",
       "    }\n",
       "\n",
       "    .dataframe tbody tr th {\n",
       "        vertical-align: top;\n",
       "    }\n",
       "\n",
       "    .dataframe thead th {\n",
       "        text-align: right;\n",
       "    }\n",
       "</style>\n",
       "<table border=\"1\" class=\"dataframe\">\n",
       "  <thead>\n",
       "    <tr style=\"text-align: right;\">\n",
       "      <th></th>\n",
       "      <th>column_1</th>\n",
       "      <th>column_2</th>\n",
       "      <th>column_3</th>\n",
       "      <th>column_4</th>\n",
       "      <th>column_5</th>\n",
       "      <th>column_6</th>\n",
       "    </tr>\n",
       "  </thead>\n",
       "  <tbody>\n",
       "    <tr>\n",
       "      <th>3</th>\n",
       "      <td>0.414998</td>\n",
       "      <td>0.753462</td>\n",
       "      <td>0.106061</td>\n",
       "      <td>0.012387</td>\n",
       "      <td>0.351211</td>\n",
       "      <td>0.604243</td>\n",
       "    </tr>\n",
       "    <tr>\n",
       "      <th>0</th>\n",
       "      <td>NaN</td>\n",
       "      <td>NaN</td>\n",
       "      <td>NaN</td>\n",
       "      <td>NaN</td>\n",
       "      <td>NaN</td>\n",
       "      <td>NaN</td>\n",
       "    </tr>\n",
       "    <tr>\n",
       "      <th>1</th>\n",
       "      <td>0.107682</td>\n",
       "      <td>0.426358</td>\n",
       "      <td>0.825503</td>\n",
       "      <td>0.156599</td>\n",
       "      <td>0.364393</td>\n",
       "      <td>0.573805</td>\n",
       "    </tr>\n",
       "    <tr>\n",
       "      <th>2</th>\n",
       "      <td>0.263746</td>\n",
       "      <td>0.032509</td>\n",
       "      <td>0.829966</td>\n",
       "      <td>0.729987</td>\n",
       "      <td>0.174707</td>\n",
       "      <td>0.924018</td>\n",
       "    </tr>\n",
       "  </tbody>\n",
       "</table>\n",
       "</div>"
      ],
      "text/plain": [
       "   column_1  column_2  column_3  column_4  column_5  column_6\n",
       "3  0.414998  0.753462  0.106061  0.012387  0.351211  0.604243\n",
       "0       NaN       NaN       NaN       NaN       NaN       NaN\n",
       "1  0.107682  0.426358  0.825503  0.156599  0.364393  0.573805\n",
       "2  0.263746  0.032509  0.829966  0.729987  0.174707  0.924018"
      ]
     },
     "execution_count": 7,
     "metadata": {},
     "output_type": "execute_result"
    }
   ],
   "source": [
    "new_df"
   ]
  },
  {
   "cell_type": "code",
   "execution_count": 8,
   "id": "d7965395",
   "metadata": {},
   "outputs": [
    {
     "data": {
      "text/plain": [
       "column_1    0.263746\n",
       "column_2    0.032509\n",
       "column_3    0.829966\n",
       "column_4    0.729987\n",
       "column_5    0.174707\n",
       "column_6    0.924018\n",
       "Name: 2, dtype: float64"
      ]
     },
     "execution_count": 8,
     "metadata": {},
     "output_type": "execute_result"
    }
   ],
   "source": [
    "new_df.loc[2]"
   ]
  },
  {
   "cell_type": "code",
   "execution_count": 9,
   "id": "d70fd284",
   "metadata": {},
   "outputs": [
    {
     "data": {
      "text/plain": [
       "column_1    0.107682\n",
       "column_2    0.426358\n",
       "column_3    0.825503\n",
       "column_4    0.156599\n",
       "column_5    0.364393\n",
       "column_6    0.573805\n",
       "Name: 1, dtype: float64"
      ]
     },
     "execution_count": 9,
     "metadata": {},
     "output_type": "execute_result"
    }
   ],
   "source": [
    "new_df.iloc[2]"
   ]
  },
  {
   "cell_type": "markdown",
   "id": "86251829",
   "metadata": {},
   "source": [
    "the new_df.loc returns the index value with 2,where as the new_df.iloc returns the index value of 1."
   ]
  },
  {
   "cell_type": "code",
   "execution_count": 10,
   "id": "b5928954",
   "metadata": {},
   "outputs": [
    {
     "data": {
      "text/plain": [
       "column_1    0.260072\n",
       "column_2    0.455173\n",
       "column_3    0.578379\n",
       "column_4    0.417761\n",
       "column_5    0.368926\n",
       "column_6    0.692215\n",
       "dtype: float64"
      ]
     },
     "execution_count": 10,
     "metadata": {},
     "output_type": "execute_result"
    }
   ],
   "source": [
    "#Q4 i.\n",
    "df1.mean()"
   ]
  },
  {
   "cell_type": "code",
   "execution_count": 11,
   "id": "61e027d6",
   "metadata": {},
   "outputs": [
    {
     "data": {
      "text/plain": [
       "0.2816915616068856"
      ]
     },
     "execution_count": 11,
     "metadata": {},
     "output_type": "execute_result"
    }
   ],
   "source": [
    "#Q2 ii\n",
    "\n",
    "df1['column_2'].std()"
   ]
  },
  {
   "cell_type": "code",
   "execution_count": 12,
   "id": "b64be9d2",
   "metadata": {},
   "outputs": [],
   "source": [
    "#Q5\n",
    "df1['column_2'].loc[2]='sumanth'"
   ]
  },
  {
   "cell_type": "code",
   "execution_count": 13,
   "id": "c3da1e45",
   "metadata": {},
   "outputs": [
    {
     "data": {
      "text/html": [
       "<div>\n",
       "<style scoped>\n",
       "    .dataframe tbody tr th:only-of-type {\n",
       "        vertical-align: middle;\n",
       "    }\n",
       "\n",
       "    .dataframe tbody tr th {\n",
       "        vertical-align: top;\n",
       "    }\n",
       "\n",
       "    .dataframe thead th {\n",
       "        text-align: right;\n",
       "    }\n",
       "</style>\n",
       "<table border=\"1\" class=\"dataframe\">\n",
       "  <thead>\n",
       "    <tr style=\"text-align: right;\">\n",
       "      <th></th>\n",
       "      <th>column_1</th>\n",
       "      <th>column_2</th>\n",
       "      <th>column_3</th>\n",
       "      <th>column_4</th>\n",
       "      <th>column_5</th>\n",
       "      <th>column_6</th>\n",
       "    </tr>\n",
       "  </thead>\n",
       "  <tbody>\n",
       "    <tr>\n",
       "      <th>1</th>\n",
       "      <td>0.107682</td>\n",
       "      <td>0.426358</td>\n",
       "      <td>0.825503</td>\n",
       "      <td>0.156599</td>\n",
       "      <td>0.364393</td>\n",
       "      <td>0.573805</td>\n",
       "    </tr>\n",
       "    <tr>\n",
       "      <th>2</th>\n",
       "      <td>0.263746</td>\n",
       "      <td>sumanth</td>\n",
       "      <td>0.829966</td>\n",
       "      <td>0.729987</td>\n",
       "      <td>0.174707</td>\n",
       "      <td>0.924018</td>\n",
       "    </tr>\n",
       "    <tr>\n",
       "      <th>3</th>\n",
       "      <td>0.414998</td>\n",
       "      <td>0.753462</td>\n",
       "      <td>0.106061</td>\n",
       "      <td>0.012387</td>\n",
       "      <td>0.351211</td>\n",
       "      <td>0.604243</td>\n",
       "    </tr>\n",
       "    <tr>\n",
       "      <th>4</th>\n",
       "      <td>0.530636</td>\n",
       "      <td>0.788429</td>\n",
       "      <td>0.881529</td>\n",
       "      <td>0.101824</td>\n",
       "      <td>0.570251</td>\n",
       "      <td>0.803532</td>\n",
       "    </tr>\n",
       "    <tr>\n",
       "      <th>5</th>\n",
       "      <td>0.041290</td>\n",
       "      <td>0.342473</td>\n",
       "      <td>0.692800</td>\n",
       "      <td>0.751585</td>\n",
       "      <td>0.567629</td>\n",
       "      <td>0.502735</td>\n",
       "    </tr>\n",
       "    <tr>\n",
       "      <th>6</th>\n",
       "      <td>0.202082</td>\n",
       "      <td>0.387806</td>\n",
       "      <td>0.134417</td>\n",
       "      <td>0.754184</td>\n",
       "      <td>0.185362</td>\n",
       "      <td>0.744956</td>\n",
       "    </tr>\n",
       "  </tbody>\n",
       "</table>\n",
       "</div>"
      ],
      "text/plain": [
       "   column_1  column_2  column_3  column_4  column_5  column_6\n",
       "1  0.107682  0.426358  0.825503  0.156599  0.364393  0.573805\n",
       "2  0.263746   sumanth  0.829966  0.729987  0.174707  0.924018\n",
       "3  0.414998  0.753462  0.106061  0.012387  0.351211  0.604243\n",
       "4  0.530636  0.788429  0.881529  0.101824  0.570251  0.803532\n",
       "5  0.041290  0.342473  0.692800  0.751585  0.567629  0.502735\n",
       "6  0.202082  0.387806  0.134417  0.754184  0.185362  0.744956"
      ]
     },
     "execution_count": 13,
     "metadata": {},
     "output_type": "execute_result"
    }
   ],
   "source": [
    "df1"
   ]
  },
  {
   "cell_type": "code",
   "execution_count": 14,
   "id": "9fcdc8d9",
   "metadata": {},
   "outputs": [
    {
     "name": "stderr",
     "output_type": "stream",
     "text": [
      "C:\\Users\\wwwsu\\AppData\\Local\\Temp\\ipykernel_21084\\2053335143.py:1: FutureWarning: The default value of numeric_only in DataFrame.mean is deprecated. In a future version, it will default to False. In addition, specifying 'numeric_only=None' is deprecated. Select only valid columns or specify the value of numeric_only to silence this warning.\n",
      "  df1.mean()\n"
     ]
    },
    {
     "data": {
      "text/plain": [
       "column_1    0.260072\n",
       "column_3    0.578379\n",
       "column_4    0.417761\n",
       "column_5    0.368926\n",
       "column_6    0.692215\n",
       "dtype: float64"
      ]
     },
     "execution_count": 14,
     "metadata": {},
     "output_type": "execute_result"
    }
   ],
   "source": [
    "df1.mean()"
   ]
  },
  {
   "cell_type": "code",
   "execution_count": 15,
   "id": "4ee18b7d",
   "metadata": {},
   "outputs": [
    {
     "ename": "TypeError",
     "evalue": "'DataFrame' object is not callable",
     "output_type": "error",
     "traceback": [
      "\u001b[1;31m---------------------------------------------------------------------------\u001b[0m",
      "\u001b[1;31mTypeError\u001b[0m                                 Traceback (most recent call last)",
      "Cell \u001b[1;32mIn[15], line 1\u001b[0m\n\u001b[1;32m----> 1\u001b[0m \u001b[43mdf1\u001b[49m\u001b[43m(\u001b[49m\u001b[38;5;124;43m'\u001b[39;49m\u001b[38;5;124;43mcolumn_2\u001b[39;49m\u001b[38;5;124;43m'\u001b[39;49m\u001b[43m)\u001b[49m\u001b[38;5;241m.\u001b[39mmean()\n",
      "\u001b[1;31mTypeError\u001b[0m: 'DataFrame' object is not callable"
     ]
    }
   ],
   "source": [
    "df1('column_2').mean()"
   ]
  },
  {
   "cell_type": "markdown",
   "id": "cb80f125",
   "metadata": {},
   "source": [
    "Due to change in the datatype the dataframe can't recognize the object"
   ]
  },
  {
   "cell_type": "markdown",
   "id": "84e32399",
   "metadata": {},
   "source": [
    "#Q6\n",
    "In pandas, a window function is used to perform calculations on a specified range of rows in a DataFrame or Series. These calculations are typically applied over a sliding or expanding window of data, allowing you to analyze data within a specific context. Window functions are extremely useful for tasks like calculating moving averages, cumulative sums, and more complex aggregations that involve a certain window of data.\n",
    "\n",
    "Pandas provides a variety of window functions that you can use. These functions can be broadly categorized into the following types:\n",
    "\n",
    "a.Aggregating Functions:\n",
    "\n",
    "1.mean(): Compute the mean of values in the window.\n",
    "\n",
    "2.sum(): Compute the sum of values in the window.\n",
    "\n",
    "3.min(): Compute the minimum value in the window.\n",
    "\n",
    "4.max(): Compute the maximum value in the window.\n",
    "\n",
    "5.count(): Count the number of non-null values in the window.\n",
    "\n",
    "6.median(): Compute the median of values in the window.\n",
    "\n",
    "7.std(): Compute the standard deviation of values in the window.\n",
    "\n",
    "8.var(): Compute the variance of values in the window.\n",
    "\n",
    "b.Expanding Functions:\n",
    "\n",
    "1.expanding().sum(): Compute the cumulative sum of values up to the current row.\n",
    "\n",
    "2.expanding().mean(): Compute the cumulative mean of values up to the current row.\n",
    "\n",
    "3.expanding().min(): Compute the cumulative minimum value up to the current row.\n",
    "\n",
    "4.expanding().max(): Compute the cumulative maximum value up to the current row.\n",
    "\n",
    "c.Rolling Functions:\n",
    "\n",
    "1.rolling().sum(): Compute the rolling sum of values within a fixed-size window.\n",
    "\n",
    "2.rolling().mean(): Compute the rolling mean of values within a fixed-size window.\n",
    "\n",
    "3.rolling().min(): Compute the rolling minimum value within a fixed-size window.\n",
    "\n",
    "4.rolling().max(): Compute the rolling maximum value within a fixed-size window.\n",
    "\n",
    "Custom Window Functions:\n",
    "You can also apply custom functions using the apply() method with rolling or expanding windows."
   ]
  },
  {
   "cell_type": "code",
   "execution_count": 16,
   "id": "4bf6c82c",
   "metadata": {},
   "outputs": [],
   "source": [
    "#Q7\n",
    "\n",
    "present=pd.to_datetime('today')\n",
    "\n",
    "present_month=present.month\n",
    "present_year=present.year"
   ]
  },
  {
   "cell_type": "code",
   "execution_count": 17,
   "id": "33605a1a",
   "metadata": {},
   "outputs": [
    {
     "name": "stdout",
     "output_type": "stream",
     "text": [
      "present month:8 \n",
      "present year:2023\n"
     ]
    }
   ],
   "source": [
    "print(f'present month:{present_month} \\npresent year:{present_year}')"
   ]
  },
  {
   "cell_type": "code",
   "execution_count": 18,
   "id": "eea8d001",
   "metadata": {},
   "outputs": [
    {
     "name": "stdout",
     "output_type": "stream",
     "text": [
      "Time Difference: 730 days, 0 hours, 0 minutes\n"
     ]
    }
   ],
   "source": [
    "#Q8\n",
    "import pandas as pd\n",
    "\n",
    "date1_str = '2020-06-22'\n",
    "date2_str = '2022-06-22'\n",
    "\n",
    "\n",
    "date1 = pd.to_datetime(date1_str)\n",
    "date2 = pd.to_datetime(date2_str)\n",
    "\n",
    "time_difference = date2 - date1\n",
    "\n",
    "days = time_difference.days\n",
    "hours = time_difference.seconds // 3600\n",
    "minutes = (time_difference.seconds % 3600) // 60\n",
    "\n",
    "print(f\"Time Difference: {days} days, {hours} hours, {minutes} minutes\")\n"
   ]
  },
  {
   "cell_type": "code",
   "execution_count": 43,
   "id": "4c1d80bf",
   "metadata": {},
   "outputs": [
    {
     "name": "stdout",
     "output_type": "stream",
     "text": [
      "Enter CSV file Path: titanic_dataset.csv\n",
      "Enter Column name: Pclass\n",
      "Enter Category order: 1,2,3\n"
     ]
    },
    {
     "data": {
      "text/html": [
       "<div>\n",
       "<style scoped>\n",
       "    .dataframe tbody tr th:only-of-type {\n",
       "        vertical-align: middle;\n",
       "    }\n",
       "\n",
       "    .dataframe tbody tr th {\n",
       "        vertical-align: top;\n",
       "    }\n",
       "\n",
       "    .dataframe thead th {\n",
       "        text-align: right;\n",
       "    }\n",
       "</style>\n",
       "<table border=\"1\" class=\"dataframe\">\n",
       "  <thead>\n",
       "    <tr style=\"text-align: right;\">\n",
       "      <th></th>\n",
       "      <th>PassengerId</th>\n",
       "      <th>Survived</th>\n",
       "      <th>Pclass</th>\n",
       "      <th>Name</th>\n",
       "      <th>Sex</th>\n",
       "      <th>Age</th>\n",
       "      <th>SibSp</th>\n",
       "      <th>Parch</th>\n",
       "      <th>Ticket</th>\n",
       "      <th>Fare</th>\n",
       "      <th>Cabin</th>\n",
       "      <th>Embarked</th>\n",
       "    </tr>\n",
       "  </thead>\n",
       "  <tbody>\n",
       "    <tr>\n",
       "      <th>0</th>\n",
       "      <td>1</td>\n",
       "      <td>0</td>\n",
       "      <td>NaN</td>\n",
       "      <td>Braund, Mr. Owen Harris</td>\n",
       "      <td>male</td>\n",
       "      <td>22.0</td>\n",
       "      <td>1</td>\n",
       "      <td>0</td>\n",
       "      <td>A/5 21171</td>\n",
       "      <td>7.2500</td>\n",
       "      <td>NaN</td>\n",
       "      <td>S</td>\n",
       "    </tr>\n",
       "    <tr>\n",
       "      <th>1</th>\n",
       "      <td>2</td>\n",
       "      <td>1</td>\n",
       "      <td>NaN</td>\n",
       "      <td>Cumings, Mrs. John Bradley (Florence Briggs Th...</td>\n",
       "      <td>female</td>\n",
       "      <td>38.0</td>\n",
       "      <td>1</td>\n",
       "      <td>0</td>\n",
       "      <td>PC 17599</td>\n",
       "      <td>71.2833</td>\n",
       "      <td>C85</td>\n",
       "      <td>C</td>\n",
       "    </tr>\n",
       "    <tr>\n",
       "      <th>2</th>\n",
       "      <td>3</td>\n",
       "      <td>1</td>\n",
       "      <td>NaN</td>\n",
       "      <td>Heikkinen, Miss. Laina</td>\n",
       "      <td>female</td>\n",
       "      <td>26.0</td>\n",
       "      <td>0</td>\n",
       "      <td>0</td>\n",
       "      <td>STON/O2. 3101282</td>\n",
       "      <td>7.9250</td>\n",
       "      <td>NaN</td>\n",
       "      <td>S</td>\n",
       "    </tr>\n",
       "    <tr>\n",
       "      <th>3</th>\n",
       "      <td>4</td>\n",
       "      <td>1</td>\n",
       "      <td>NaN</td>\n",
       "      <td>Futrelle, Mrs. Jacques Heath (Lily May Peel)</td>\n",
       "      <td>female</td>\n",
       "      <td>35.0</td>\n",
       "      <td>1</td>\n",
       "      <td>0</td>\n",
       "      <td>113803</td>\n",
       "      <td>53.1000</td>\n",
       "      <td>C123</td>\n",
       "      <td>S</td>\n",
       "    </tr>\n",
       "    <tr>\n",
       "      <th>4</th>\n",
       "      <td>5</td>\n",
       "      <td>0</td>\n",
       "      <td>NaN</td>\n",
       "      <td>Allen, Mr. William Henry</td>\n",
       "      <td>male</td>\n",
       "      <td>35.0</td>\n",
       "      <td>0</td>\n",
       "      <td>0</td>\n",
       "      <td>373450</td>\n",
       "      <td>8.0500</td>\n",
       "      <td>NaN</td>\n",
       "      <td>S</td>\n",
       "    </tr>\n",
       "    <tr>\n",
       "      <th>...</th>\n",
       "      <td>...</td>\n",
       "      <td>...</td>\n",
       "      <td>...</td>\n",
       "      <td>...</td>\n",
       "      <td>...</td>\n",
       "      <td>...</td>\n",
       "      <td>...</td>\n",
       "      <td>...</td>\n",
       "      <td>...</td>\n",
       "      <td>...</td>\n",
       "      <td>...</td>\n",
       "      <td>...</td>\n",
       "    </tr>\n",
       "    <tr>\n",
       "      <th>886</th>\n",
       "      <td>887</td>\n",
       "      <td>0</td>\n",
       "      <td>NaN</td>\n",
       "      <td>Montvila, Rev. Juozas</td>\n",
       "      <td>male</td>\n",
       "      <td>27.0</td>\n",
       "      <td>0</td>\n",
       "      <td>0</td>\n",
       "      <td>211536</td>\n",
       "      <td>13.0000</td>\n",
       "      <td>NaN</td>\n",
       "      <td>S</td>\n",
       "    </tr>\n",
       "    <tr>\n",
       "      <th>887</th>\n",
       "      <td>888</td>\n",
       "      <td>1</td>\n",
       "      <td>NaN</td>\n",
       "      <td>Graham, Miss. Margaret Edith</td>\n",
       "      <td>female</td>\n",
       "      <td>19.0</td>\n",
       "      <td>0</td>\n",
       "      <td>0</td>\n",
       "      <td>112053</td>\n",
       "      <td>30.0000</td>\n",
       "      <td>B42</td>\n",
       "      <td>S</td>\n",
       "    </tr>\n",
       "    <tr>\n",
       "      <th>888</th>\n",
       "      <td>889</td>\n",
       "      <td>0</td>\n",
       "      <td>NaN</td>\n",
       "      <td>Johnston, Miss. Catherine Helen \"Carrie\"</td>\n",
       "      <td>female</td>\n",
       "      <td>NaN</td>\n",
       "      <td>1</td>\n",
       "      <td>2</td>\n",
       "      <td>W./C. 6607</td>\n",
       "      <td>23.4500</td>\n",
       "      <td>NaN</td>\n",
       "      <td>S</td>\n",
       "    </tr>\n",
       "    <tr>\n",
       "      <th>889</th>\n",
       "      <td>890</td>\n",
       "      <td>1</td>\n",
       "      <td>NaN</td>\n",
       "      <td>Behr, Mr. Karl Howell</td>\n",
       "      <td>male</td>\n",
       "      <td>26.0</td>\n",
       "      <td>0</td>\n",
       "      <td>0</td>\n",
       "      <td>111369</td>\n",
       "      <td>30.0000</td>\n",
       "      <td>C148</td>\n",
       "      <td>C</td>\n",
       "    </tr>\n",
       "    <tr>\n",
       "      <th>890</th>\n",
       "      <td>891</td>\n",
       "      <td>0</td>\n",
       "      <td>NaN</td>\n",
       "      <td>Dooley, Mr. Patrick</td>\n",
       "      <td>male</td>\n",
       "      <td>32.0</td>\n",
       "      <td>0</td>\n",
       "      <td>0</td>\n",
       "      <td>370376</td>\n",
       "      <td>7.7500</td>\n",
       "      <td>NaN</td>\n",
       "      <td>Q</td>\n",
       "    </tr>\n",
       "  </tbody>\n",
       "</table>\n",
       "<p>891 rows × 12 columns</p>\n",
       "</div>"
      ],
      "text/plain": [
       "     PassengerId  Survived Pclass  \\\n",
       "0              1         0    NaN   \n",
       "1              2         1    NaN   \n",
       "2              3         1    NaN   \n",
       "3              4         1    NaN   \n",
       "4              5         0    NaN   \n",
       "..           ...       ...    ...   \n",
       "886          887         0    NaN   \n",
       "887          888         1    NaN   \n",
       "888          889         0    NaN   \n",
       "889          890         1    NaN   \n",
       "890          891         0    NaN   \n",
       "\n",
       "                                                  Name     Sex   Age  SibSp  \\\n",
       "0                              Braund, Mr. Owen Harris    male  22.0      1   \n",
       "1    Cumings, Mrs. John Bradley (Florence Briggs Th...  female  38.0      1   \n",
       "2                               Heikkinen, Miss. Laina  female  26.0      0   \n",
       "3         Futrelle, Mrs. Jacques Heath (Lily May Peel)  female  35.0      1   \n",
       "4                             Allen, Mr. William Henry    male  35.0      0   \n",
       "..                                                 ...     ...   ...    ...   \n",
       "886                              Montvila, Rev. Juozas    male  27.0      0   \n",
       "887                       Graham, Miss. Margaret Edith  female  19.0      0   \n",
       "888           Johnston, Miss. Catherine Helen \"Carrie\"  female   NaN      1   \n",
       "889                              Behr, Mr. Karl Howell    male  26.0      0   \n",
       "890                                Dooley, Mr. Patrick    male  32.0      0   \n",
       "\n",
       "     Parch            Ticket     Fare Cabin Embarked  \n",
       "0        0         A/5 21171   7.2500   NaN        S  \n",
       "1        0          PC 17599  71.2833   C85        C  \n",
       "2        0  STON/O2. 3101282   7.9250   NaN        S  \n",
       "3        0            113803  53.1000  C123        S  \n",
       "4        0            373450   8.0500   NaN        S  \n",
       "..     ...               ...      ...   ...      ...  \n",
       "886      0            211536  13.0000   NaN        S  \n",
       "887      0            112053  30.0000   B42        S  \n",
       "888      2        W./C. 6607  23.4500   NaN        S  \n",
       "889      0            111369  30.0000  C148        C  \n",
       "890      0            370376   7.7500   NaN        Q  \n",
       "\n",
       "[891 rows x 12 columns]"
      ]
     },
     "execution_count": 43,
     "metadata": {},
     "output_type": "execute_result"
    }
   ],
   "source": [
    "#Q9\n",
    "import pandas as pd\n",
    "\n",
    "csv_file=input(\"Enter CSV file Path: \")\n",
    "Col_name=input(\"Enter Column name: \")\n",
    "Category_order=input(\"Enter Category order: \")\n",
    "\n",
    "df11=pd.read_csv(csv_file)\n",
    "df11[Col_name]=pd.Categorical(df11[Col_name],categories=Category_order.split(',') ,ordered=True)\n",
    "df11.sort_values(by=Col_name)\n"
   ]
  },
  {
   "cell_type": "code",
   "execution_count": 59,
   "id": "8655b27b",
   "metadata": {},
   "outputs": [
    {
     "name": "stdout",
     "output_type": "stream",
     "text": [
      "Enter CSV file: CSV_for_EDA.csv\n"
     ]
    },
    {
     "data": {
      "text/plain": [
       "<Axes: >"
      ]
     },
     "execution_count": 59,
     "metadata": {},
     "output_type": "execute_result"
    },
    {
     "data": {
      "image/png": "[encoded data removed]",
      "text/plain": [
       "<Figure size 640x480 with 1 Axes>"
      ]
     },
     "metadata": {},
     "output_type": "display_data"
    }
   ],
   "source": [
    "# Q10\n",
    "df_i=input(\"Enter CSV file: \")\n",
    "df12=pd.read_csv(df_i)\n",
    "df12['date']=pd.to_datetime(df12['date'])\n",
    "df12.plot()"
   ]
  },
  {
   "cell_type": "code",
   "execution_count": 81,
   "id": "c7c75776",
   "metadata": {},
   "outputs": [],
   "source": [
    "#Q11\n",
    "df13=pd.read_csv('student.csv')\n",
    "Mean=df13['Test_Score'].mean()\n",
    "Median=df13['Test_Score'].median()\n",
    "Mode=df13['Test_Score'].mode()\n"
   ]
  },
  {
   "cell_type": "code",
   "execution_count": 84,
   "id": "1fb7de0b",
   "metadata": {},
   "outputs": [],
   "source": [
    "results=pd.DataFrame({\n",
    "    'Metrics':['Mean','Median','Mode'],\n",
    "    'Value': [Mean,Median,Mode[0]]\n",
    "})"
   ]
  },
  {
   "cell_type": "code",
   "execution_count": 85,
   "id": "093bc950",
   "metadata": {},
   "outputs": [
    {
     "data": {
      "text/html": [
       "<div>\n",
       "<style scoped>\n",
       "    .dataframe tbody tr th:only-of-type {\n",
       "        vertical-align: middle;\n",
       "    }\n",
       "\n",
       "    .dataframe tbody tr th {\n",
       "        vertical-align: top;\n",
       "    }\n",
       "\n",
       "    .dataframe thead th {\n",
       "        text-align: right;\n",
       "    }\n",
       "</style>\n",
       "<table border=\"1\" class=\"dataframe\">\n",
       "  <thead>\n",
       "    <tr style=\"text-align: right;\">\n",
       "      <th></th>\n",
       "      <th>Metrics</th>\n",
       "      <th>Value</th>\n",
       "    </tr>\n",
       "  </thead>\n",
       "  <tbody>\n",
       "    <tr>\n",
       "      <th>0</th>\n",
       "      <td>Mean</td>\n",
       "      <td>83.5</td>\n",
       "    </tr>\n",
       "    <tr>\n",
       "      <th>1</th>\n",
       "      <td>Median</td>\n",
       "      <td>85.0</td>\n",
       "    </tr>\n",
       "    <tr>\n",
       "      <th>2</th>\n",
       "      <td>Mode</td>\n",
       "      <td>85.0</td>\n",
       "    </tr>\n",
       "  </tbody>\n",
       "</table>\n",
       "</div>"
      ],
      "text/plain": [
       "  Metrics  Value\n",
       "0    Mean   83.5\n",
       "1  Median   85.0\n",
       "2    Mode   85.0"
      ]
     },
     "execution_count": 85,
     "metadata": {},
     "output_type": "execute_result"
    }
   ],
   "source": [
    "results"
   ]
  },
  {
   "cell_type": "code",
   "execution_count": null,
   "id": "0bc879cb",
   "metadata": {},
   "outputs": [],
   "source": []
  }
 ],
 "metadata": {
  "kernelspec": {
   "display_name": "Python 3 (ipykernel)",
   "language": "python",
   "name": "python3"
  },
  "language_info": {
   "codemirror_mode": {
    "name": "ipython",
    "version": 3
   },
   "file_extension": ".py",
   "mimetype": "text/x-python",
   "name": "python",
   "nbconvert_exporter": "python",
   "pygments_lexer": "ipython3",
   "version": "3.10.9"
  }
 },
 "nbformat": 4,
 "nbformat_minor": 5
}
