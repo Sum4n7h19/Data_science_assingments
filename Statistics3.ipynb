{
 "cells": [
  {
   "cell_type": "markdown",
   "id": "e549e380",
   "metadata": {},
   "source": [
    "**Q1**\n",
    "A Probability Density Function (PDF) is a statistical function that describes the likelihood of a continuous random variable taking on a particular value. It is used to model the probability distribution of a continuous random variable. The PDF is a non-negative function, and the area under the curve over a given range represents the probability of the random variable falling within that range.\n",
    "\n",
    "Mathematically, for a continuous random variable X, the PDF is denoted as f(x) and satisfies the following properties:\n",
    "\n",
    "f(x) is non-negative for all values of x.\n",
    "The total area under the curve is equal to 1, representing the entire probability space.\n",
    "The probability of X falling within a particular interval [a, b] is given by the integral of the PDF over that interval, i.e., ∫(from a to b) f(x) dx.\n",
    "\n",
    "**Q2**\n",
    "There are various types of probability distributions in statistics. Some of the common ones include:\n",
    "\n",
    "Uniform Distribution: All outcomes are equally likely, and the PDF is a constant over a specific interval.\n",
    "\n",
    "Normal Distribution (Gaussian Distribution): It is a bell-shaped, symmetric distribution characterized by its mean (μ) and standard deviation (σ).\n",
    "\n",
    "Binomial Distribution: Used to model the number of successes in a fixed number of Bernoulli trials. It has parameters n (number of trials) and p (probability of success in each trial).\n",
    "\n",
    "Poisson Distribution: Models the number of events occurring in a fixed interval of time or space. It is often used for rare events.\n",
    "\n",
    "Exponential Distribution: Models the time between events in a Poisson process. It's used for modeling waiting times.\n",
    "\n",
    "Gamma Distribution: Generalizes the exponential distribution and is used to model the time until a Poisson process reaches a certain number of events.\n",
    "\n",
    "Bernoulli Distribution: Represents a binary outcome (success or failure) with a probability p of success.\n",
    "\n",
    "Geometric Distribution: Models the number of trials needed to achieve the first success in a sequence of independent Bernoulli trials.\n",
    "\n",
    "Logistic Distribution: Used for modeling growth processes and can be symmetric or asymmetric.\n",
    "\n",
    "Cauchy Distribution: A heavy-tailed distribution with undefined mean and variance.\n"
   ]
  },
  {
   "cell_type": "code",
   "execution_count": 1,
   "id": "9da77468",
   "metadata": {},
   "outputs": [
    {
     "name": "stdout",
     "output_type": "stream",
     "text": [
      "The PDF at x = 2.0 is 0.2129653370149015\n"
     ]
    }
   ],
   "source": [
    "#Q3\n",
    "import numpy as np\n",
    "from scipy.stats import norm\n",
    "\n",
    "def normal_pdf(mean, std_dev, x):\n",
    "\n",
    "    pdf_value = norm.pdf(x, loc=mean, scale=std_dev)\n",
    "    return pdf_value\n",
    "\n",
    "# Example usage:\n",
    "mean = 3.0\n",
    "std_dev = 1.5\n",
    "x = 2.0\n",
    "pdf = normal_pdf(mean, std_dev, x)\n",
    "print(f\"The PDF at x = {x} is {pdf}\")\n"
   ]
  },
  {
   "cell_type": "markdown",
   "id": "6cb5a30b",
   "metadata": {},
   "source": [
    "**Q4**\n",
    "It models the number of successes (k) in a fixed number of independent Bernoulli trials (n).\n",
    "The trials are assumed to be independent and have the same probability of success (p) in each trial.\n",
    "The probability mass function of the binomial distribution is given by: P(X=k) = (n choose k) * p^k * (1-p)^(n-k), where \"n choose k\" represents binomial coefficients.\n",
    "The mean (μ) of the distribution is μ = n * p, and the variance (σ^2) is σ^2 = n * p * (1-p).\n",
    "Two examples where the binomial distribution can be applied:\n",
    "\n",
    "Coin Tossing: Modeling the number of heads (or tails) when flipping a fair coin a fixed number of times. Here, success (heads) has a probability of 0.5 (p), and the number of trials (n) is the number of coin tosses.\n",
    "\n",
    "Quality Control: Assessing the number of defective items in a sample of products from a production line. If you know the probability of a product being defective (p) and you inspect a fixed number of items (n), the binomial distribution can be used to determine the likelihood of finding a certain number of defective items."
   ]
  },
  {
   "cell_type": "code",
   "execution_count": 3,
   "id": "c8b64b46",
   "metadata": {},
   "outputs": [
    {
     "data": {
      "image/png": "[encoded data removed]",
      "text/plain": [
       "<Figure size 640x480 with 1 Axes>"
      ]
     },
     "metadata": {},
     "output_type": "display_data"
    }
   ],
   "source": [
    "#Q5\n",
    "import numpy as np\n",
    "import matplotlib.pyplot as plt\n",
    "\n",
    "# Parameters\n",
    "n = 1000  # Sample size\n",
    "p = 0.4   # Probability of success\n",
    "\n",
    "# Generate random sample from a binomial distribution\n",
    "sample = np.random.binomial(n=1, p=p, size=n)\n",
    "\n",
    "# Plot a histogram\n",
    "plt.hist(sample, bins=2, density=True, alpha=0.6, color='b')\n",
    "plt.title(f'Binomial Distribution (n={n}, p={p})')\n",
    "plt.xlabel('Success (1) or Failure (0)')\n",
    "plt.ylabel('Probability')\n",
    "plt.show()"
   ]
  },
  {
   "cell_type": "code",
   "execution_count": 4,
   "id": "a83fd3b3",
   "metadata": {},
   "outputs": [],
   "source": [
    "#Q6\n",
    "from scipy.stats import poisson\n",
    "\n",
    "def poisson_cdf(mean, k):\n",
    "    \n",
    "    cdf_value = poisson.cdf(k, mu=mean)\n",
    "    return cdf_value\n"
   ]
  },
  {
   "cell_type": "markdown",
   "id": "541ca09d",
   "metadata": {},
   "source": [
    "**Q7**\n",
    "Binomial Distribution: It models the number of successes (k) in a fixed number of independent Bernoulli trials (n), where each trial has a probability of success (p). It is discrete and has two parameters, n and p.\n",
    "\n",
    "Poisson Distribution: It models the number of events occurring in a fixed interval of time or space. It is also discrete and has one parameter, which is the mean (λ) that represents the average rate of event occurrences. Poisson distribution assumes events are rare and independent.\n",
    "\n",
    "The key differences between them are the number of trials or events being modeled and the probability of success or event rate. Binomial deals with a fixed number of trials, while Poisson deals with a variable number of events in a fixed interval."
   ]
  },
  {
   "cell_type": "code",
   "execution_count": 5,
   "id": "35e6f859",
   "metadata": {},
   "outputs": [
    {
     "name": "stdout",
     "output_type": "stream",
     "text": [
      "Sample Mean: 4.885\n",
      "Sample Variance: 4.8717749999999995\n"
     ]
    }
   ],
   "source": [
    "#Q8\n",
    "import numpy as np\n",
    "\n",
    "# Parameters\n",
    "sample_size = 1000\n",
    "mean = 5\n",
    "\n",
    "# Generate random sample from a Poisson distribution\n",
    "sample = np.random.poisson(lam=mean, size=sample_size)\n",
    "\n",
    "# Calculate sample mean and variance\n",
    "sample_mean = np.mean(sample)\n",
    "sample_variance = np.var(sample)\n",
    "\n",
    "print(f\"Sample Mean: {sample_mean}\")\n",
    "print(f\"Sample Variance: {sample_variance}\")\n"
   ]
  },
  {
   "cell_type": "markdown",
   "id": "e870a8ef",
   "metadata": {},
   "source": [
    "**Q9**In a Binomial Distribution, the mean (μ) is given by μ = n * p, where n is the number of trials and p is the probability of success in each trial. The variance (σ^2) is given by σ^2 = n * p * (1-p).\n",
    "\n",
    "In a Poisson Distribution, both the mean (λ) and variance (σ^2) are equal and given by μ = σ^2 = λ. The mean and variance are directly related and are both equal to the rate parameter of the distribution.\n",
    "\n",
    "In both distributions, the variance is a measure of the spread or variability in the data. The relationship between the mean and variance can provide insights into the shape and characteristics of the distribution. When the mean and variance are equal, it often indicates a Poisson-like distribution, where events occur at a roughly constant rate.\n",
    "\n",
    "**Q10** In a normal distribution, the least frequent data appears farthest from the mean. In a standard normal distribution (with mean = 0 and standard deviation = 1), the least frequent data values are located in the tails of the distribution, which are the extreme values far from the mean.\n",
    "\n",
    "In a standard normal distribution, approximately 68% of the data falls within one standard deviation of the mean (in the central portion of the distribution), while the remaining 32% is distributed in the tails. The least frequent data, therefore, appears in the tails, particularly in the tails that are multiple standard deviations away from the mean."
   ]
  }
 ],
 "metadata": {
  "kernelspec": {
   "display_name": "Python 3 (ipykernel)",
   "language": "python",
   "name": "python3"
  },
  "language_info": {
   "codemirror_mode": {
    "name": "ipython",
    "version": 3
   },
   "file_extension": ".py",
   "mimetype": "text/x-python",
   "name": "python",
   "nbconvert_exporter": "python",
   "pygments_lexer": "ipython3",
   "version": "3.11.5"
  }
 },
 "nbformat": 4,
 "nbformat_minor": 5
}
