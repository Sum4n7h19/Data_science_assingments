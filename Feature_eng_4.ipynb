{
 "cells": [
  {
   "cell_type": "markdown",
   "id": "64d1f444",
   "metadata": {},
   "source": [
    "\n",
    "**Q1.**\n",
    "\n",
    "*Data Encoding:*\n",
    "Data encoding refers to the process of converting data from one format or representation to another. In the context of data science, encoding is commonly used to convert categorical or textual data into a numerical format that can be easily processed by machine learning algorithms. The goal is to represent information in a way that can be efficiently utilized for analysis and model training.\n",
    "\n",
    "*Usefulness in Data Science:*\n",
    "\n",
    "Algorithm Compatibility: Many machine learning algorithms require numerical input. Encoding allows you to represent categorical features or text data in a format suitable for these algorithms.\n",
    "\n",
    "Improved Model Performance: Effective encoding can enhance the performance of machine learning models by providing them with meaningful representations of categorical information.\n",
    "\n",
    "Feature Engineering: Encoding is a crucial step in feature engineering, helping to extract valuable information from categorical variables and improve model accuracy.\n",
    "\n",
    "Reduced Storage: Numerical representations generally require less storage than categorical or text data, contributing to more efficient data handling.\n",
    "\n",
    "Consistency in Analysis: Encoding ensures a consistent format across different types of data, facilitating data analysis and comparisons."
   ]
  },
  {
   "cell_type": "markdown",
   "id": "6e77fc2b",
   "metadata": {},
   "source": [
    "**Q2.**\n",
    "*Nominal Encoding:*\n",
    "Nominal encoding is a type of categorical variable encoding where each category or label is assigned a unique numerical identifier. The numerical values are arbitrary and do not imply any inherent order or ranking among the categories. Nominal encoding is suitable for variables with unordered categories.\n",
    "\n",
    "8Example:8\n",
    "Consider a dataset with a \"Color\" column containing categorical values such as 'Red,' 'Blue,' and 'Green.' Nominal encoding would assign unique numerical labels to each color without implying any order:\n",
    "\n",
    "- 'Red' → 1\n",
    "- 'Blue' → 2\n",
    "- 'Green' → 3"
   ]
  },
  {
   "cell_type": "code",
   "execution_count": 1,
   "id": "1e2ca4e5",
   "metadata": {},
   "outputs": [
    {
     "name": "stdout",
     "output_type": "stream",
     "text": [
      "        color\n",
      "0   intensity\n",
      "1         hue\n",
      "2   intensity\n",
      "3  saturation\n",
      "4  saturation\n"
     ]
    },
    {
     "name": "stderr",
     "output_type": "stream",
     "text": [
      "C:\\Users\\wwwsu\\anaconda3\\Lib\\site-packages\\sklearn\\preprocessing\\_label.py:114: DataConversionWarning: A column-vector y was passed when a 1d array was expected. Please change the shape of y to (n_samples, ), for example using ravel().\n",
      "  y = column_or_1d(y, warn=True)\n"
     ]
    },
    {
     "data": {
      "text/plain": [
       "array([1, 0, 1, 2, 2])"
      ]
     },
     "execution_count": 1,
     "metadata": {},
     "output_type": "execute_result"
    }
   ],
   "source": [
    "import pandas as pd\n",
    "from sklearn.preprocessing import LabelEncoder\n",
    "\n",
    "df = pd.DataFrame(['intensity', 'hue', 'intensity', 'saturation','saturation'],columns = ['color'])\n",
    "print(df)\n",
    "\n",
    "lblEncode = LabelEncoder()\n",
    "lblEncode.fit_transform(df[['color']])"
   ]
  },
  {
   "cell_type": "markdown",
   "id": "ecb2a45e",
   "metadata": {},
   "source": [
    "#### Q3\n",
    "\n",
    "***Nominal Encoding vs. One-Hot Encoding:***\n",
    "\n",
    "Nominal encoding and one-hot encoding are both techniques used to represent categorical variables in a numerical format, but they serve different purposes and are preferred in different situations.\n",
    "\n",
    "**Nominal Encoding:**\n",
    "\n",
    "Definition: Nominal encoding assigns a unique numerical label to each category in a categorical variable.\n",
    "Use Cases:\n",
    "Variables with No Inherent Order: Nominal encoding is suitable when the categorical variable has no inherent order or ranking among its categories.\n",
    "Reducing Dimensionality: Nominal encoding is more compact in terms of the number of columns compared to one-hot encoding. It is useful when dealing with a large number of categories to avoid creating too many new columns.\n",
    "Example Scenario: Colors of products in an online store (e.g., 'Red,' 'Blue,' 'Green').\n",
    "\n",
    "\n",
    "**One-Hot Encoding:**\n",
    "\n",
    "Definition: One-hot encoding creates binary columns for each category, where each column represents the presence or absence of a particular category.\n",
    "Use Cases:\n",
    "Variables with Order: One-hot encoding is suitable when there is a meaningful order or ranking among the categories, and preserving this order is important.\n",
    "Machine Learning Models: Some machine learning models, such as linear regression, may benefit from one-hot encoding when dealing with categorical variables.\n",
    "Example Scenario: Education levels ('High School,' 'College,' 'Graduate') where the order may be relevant."
   ]
  },
  {
   "cell_type": "code",
   "execution_count": 2,
   "id": "2f8557fa",
   "metadata": {},
   "outputs": [
    {
     "name": "stdout",
     "output_type": "stream",
     "text": [
      "     flowers\n",
      "0       rose\n",
      "1   marigold\n",
      "2  sunflower\n",
      "3    jasmine\n"
     ]
    },
    {
     "name": "stderr",
     "output_type": "stream",
     "text": [
      "C:\\Users\\wwwsu\\anaconda3\\Lib\\site-packages\\sklearn\\preprocessing\\_label.py:114: DataConversionWarning: A column-vector y was passed when a 1d array was expected. Please change the shape of y to (n_samples, ), for example using ravel().\n",
      "  y = column_or_1d(y, warn=True)\n"
     ]
    },
    {
     "data": {
      "text/plain": [
       "array([2, 1, 3, 0])"
      ]
     },
     "execution_count": 2,
     "metadata": {},
     "output_type": "execute_result"
    }
   ],
   "source": [
    "#Example\n",
    "import pandas as pd\n",
    "from sklearn.preprocessing import LabelEncoder\n",
    "data = {'flowers': ['rose', 'marigold', 'sunflower', 'jasmine']}\n",
    "df1 = pd.DataFrame(data)\n",
    "print(df1)\n",
    "lblEncode = LabelEncoder()\n",
    "lblEncode.fit_transform(df1[['flowers']])"
   ]
  },
  {
   "cell_type": "markdown",
   "id": "06fe6d0c",
   "metadata": {},
   "source": [
    "**Q4.**\n",
    "\n",
    "If the categorical data has 5 unique values and there is no inherent order or ranking among them, nominal encoding would be a suitable choice. Nominal encoding assigns a unique numerical label to each category, and it is appropriate when the categories are unordered.\n",
    "\n",
    "*Reasons for Choosing Nominal Encoding:*\n",
    "\n",
    "- No Inherent Order: Nominal encoding is suitable when the categorical values have no meaningful order or ranking.\n",
    "- Compact Representation: Nominal encoding creates a single numerical column, providing a more compact representation compared to one-hot encoding. This is advantageous when dealing with a moderate number of unique values."
   ]
  },
  {
   "cell_type": "code",
   "execution_count": 3,
   "id": "f5f913e2",
   "metadata": {},
   "outputs": [
    {
     "name": "stderr",
     "output_type": "stream",
     "text": [
      "C:\\Users\\wwwsu\\anaconda3\\Lib\\site-packages\\sklearn\\preprocessing\\_label.py:114: DataConversionWarning: A column-vector y was passed when a 1d array was expected. Please change the shape of y to (n_samples, ), for example using ravel().\n",
      "  y = column_or_1d(y, warn=True)\n"
     ]
    },
    {
     "data": {
      "text/plain": [
       "array([2, 1, 3, 0])"
      ]
     },
     "execution_count": 3,
     "metadata": {},
     "output_type": "execute_result"
    }
   ],
   "source": [
    "lblEncode = LabelEncoder()\n",
    "lblEncode.fit_transform(df1[['flowers']])"
   ]
  },
  {
   "cell_type": "markdown",
   "id": "2dd52034",
   "metadata": {},
   "source": [
    "**Q5**\n",
    "\n",
    "Nominal encoding, also known as label encoding, involves assigning a unique numerical label to each category in a categorical variable. When applying nominal encoding to a categorical column, it results in creating a single new column with numerical labels. Therefore, for each of the two categorical columns, only one new column would be created.\n",
    "\n",
    "In general, if you have n categorical columns and you apply nominal encoding to each of them, the total number of new columns created would be n.\n",
    "\n",
    "Given the information:\n",
    "\n",
    "Total columns in the dataset: 5\n",
    "Number of categorical columns: 2\n",
    "The number of new columns created after applying nominal encoding to the categorical columns would be \n",
    "2*1=2.\n",
    "\n",
    "So, in this specific scenario, two new columns would be created as a result of nominal encoding."
   ]
  },
  {
   "cell_type": "markdown",
   "id": "de4cabcb",
   "metadata": {},
   "source": [
    "**Q6**\n",
    "\n",
    "The choice of encoding technique for transforming categorical data into a format suitable for machine learning algorithms depends on the nature of the categorical variables and the specific requirements of the machine learning model. In the context of a dataset containing information about different types of animals, including their species, habitat, and diet, two common encoding techniques are one-hot encoding and label (nominal) encoding. The choice between them depends on the characteristics of the categorical variables:\n",
    "\n",
    "***One-Hot Encoding:***\n",
    "\n",
    "*Justification:*\n",
    "Use one-hot encoding when the categorical variables have no inherent order or ranking, and there is no meaningful numeric relationship between the categories.\n",
    "One-hot encoding is suitable for nominal variables, and it represents each category as a binary column (0 or 1).\n",
    "Example:\n",
    "If the \"species\" column has categories like 'Lion,' 'Elephant,' and 'Giraffe,' one-hot encoding would create separate binary columns for each species.\n",
    "Label (Nominal) Encoding:\n",
    "\n",
    "*Justification:*\n",
    "Use label encoding when the categorical variables have an ordinal relationship or when preserving the order is important for the analysis.\n",
    "Label encoding assigns a unique numerical label to each category, and the numerical values have an ordinal relationship.\n",
    "Example:\n",
    "If the \"habitat\" column has categories like 'Forest,' 'Desert,' and 'Ocean,' and there is a meaningful order (e.g., Forest < Desert < Ocean), label encoding might be appropriate.\n",
    "Overall Recommendation:\n",
    "\n",
    "Given that the information includes \"species,\" \"habitat,\" and \"diet,\" it's likely that these variables are nominal (no inherent order). Therefore, one-hot encoding is a generally safe and widely used choice for transforming such categorical data into a format suitable for machine learning algorithms."
   ]
  },
  {
   "cell_type": "markdown",
   "id": "74ad239f",
   "metadata": {},
   "source": [
    "#### Q7\n",
    "In the context of predicting customer churn for a telecommunications company with a dataset containing categorical features such as gender and contract type, you would need to use encoding techniques to transform these categorical variables into numerical format suitable for machine learning algorithms. Two common encoding techniques are **one-hot encoding** and **label encoding**. The choice between them depends on the nature of the categorical variables. Here's a step-by-step explanation of how you might implement the encoding:\n",
    "\n",
    "**Step 1: Explore the Categorical Variables**\n",
    "- Identify which features are categorical. In your case, it's mentioned that the categorical features are \"gender\" and \"contract type.\"\n",
    "\n",
    "**Step 2: Decide on the Encoding Technique:**\n",
    "\n",
    "1. **One-Hot Encoding:**\n",
    "   - Use one-hot encoding when the categorical variables have no inherent order or ranking, and there is no meaningful numeric relationship between the categories.\n",
    "   - One-hot encoding creates binary columns for each category, representing the presence or absence of that category.\n",
    "   - This technique is appropriate for nominal variables.\n",
    "   \n",
    "2. **Label Encoding:**\n",
    "   - Use label encoding when the categorical variables have an ordinal relationship or when preserving the order is important for the analysis.\n",
    "   - Label encoding assigns a unique numerical label to each category, and the numerical values have an ordinal relationship.\n",
    "   - This technique may be suitable for ordinal variables.\n",
    "\n",
    "**Step 3: Implementing One-Hot Encoding:**"
   ]
  },
  {
   "cell_type": "code",
   "execution_count": 8,
   "id": "d7f1d456",
   "metadata": {},
   "outputs": [
    {
     "name": "stdout",
     "output_type": "stream",
     "text": [
      "[[0. 0. 1. 0. 1.]\n",
      " [1. 0. 0. 1. 0.]\n",
      " [0. 0. 1. 1. 0.]\n",
      " ...\n",
      " [0. 0. 1. 1. 0.]\n",
      " [1. 0. 0. 0. 1.]\n",
      " [0. 0. 1. 0. 1.]]\n",
      "     survived   age  sibsp  parch     fare embarked   class    who  \\\n",
      "0           0  22.0      1      0   7.2500        S   Third    man   \n",
      "1           1  38.0      1      0  71.2833        C   First  woman   \n",
      "2           1  26.0      0      0   7.9250        S   Third  woman   \n",
      "3           1  35.0      1      0  53.1000        S   First  woman   \n",
      "4           0  35.0      0      0   8.0500        S   Third    man   \n",
      "..        ...   ...    ...    ...      ...      ...     ...    ...   \n",
      "886         0  27.0      0      0  13.0000        S  Second    man   \n",
      "887         1  19.0      0      0  30.0000        S   First  woman   \n",
      "888         0   NaN      1      2  23.4500        S   Third  woman   \n",
      "889         1  26.0      0      0  30.0000        C   First    man   \n",
      "890         0  32.0      0      0   7.7500        Q   Third    man   \n",
      "\n",
      "     adult_male deck  embark_town alive  alone  pclass_1  pclass_2  pclass_3  \\\n",
      "0          True  NaN  Southampton    no  False       0.0       0.0       1.0   \n",
      "1         False    C    Cherbourg   yes  False       1.0       0.0       0.0   \n",
      "2         False  NaN  Southampton   yes   True       0.0       0.0       1.0   \n",
      "3         False    C  Southampton   yes  False       1.0       0.0       0.0   \n",
      "4          True  NaN  Southampton    no   True       0.0       0.0       1.0   \n",
      "..          ...  ...          ...   ...    ...       ...       ...       ...   \n",
      "886        True  NaN  Southampton    no   True       0.0       1.0       0.0   \n",
      "887       False    B  Southampton   yes   True       1.0       0.0       0.0   \n",
      "888       False  NaN  Southampton    no  False       0.0       0.0       1.0   \n",
      "889        True    C    Cherbourg   yes   True       1.0       0.0       0.0   \n",
      "890        True  NaN   Queenstown    no   True       0.0       0.0       1.0   \n",
      "\n",
      "     sex_female  sex_male  \n",
      "0           0.0       1.0  \n",
      "1           1.0       0.0  \n",
      "2           1.0       0.0  \n",
      "3           1.0       0.0  \n",
      "4           0.0       1.0  \n",
      "..          ...       ...  \n",
      "886         0.0       1.0  \n",
      "887         1.0       0.0  \n",
      "888         1.0       0.0  \n",
      "889         0.0       1.0  \n",
      "890         0.0       1.0  \n",
      "\n",
      "[891 rows x 18 columns]\n"
     ]
    }
   ],
   "source": [
    "import pandas as pd\n",
    "from sklearn.preprocessing import OneHotEncoder\n",
    "import seaborn as sns\n",
    "df = sns.load_dataset('titanic')\n",
    "cate_columns = [ 'pclass', 'sex']\n",
    "encode = OneHotEncoder()\n",
    "\n",
    "enCode = encode.fit_transform(df[cate_columns]).toarray()\n",
    "print(enCode)\n",
    "\n",
    "encoded_df = pd.DataFrame(enCode, columns=encode.get_feature_names_out())\n",
    "df_encoded = pd.concat([df, encoded_df], axis=1)\n",
    "df_encoded = df_encoded.drop(cate_columns, axis=1)\n",
    "print(df_encoded)"
   ]
  },
  {
   "cell_type": "markdown",
   "id": "fb72276e",
   "metadata": {},
   "source": [
    "**Step 4: Implementing Label Encoding (if applicable):**"
   ]
  },
  {
   "cell_type": "code",
   "execution_count": 9,
   "id": "48026d54",
   "metadata": {},
   "outputs": [
    {
     "name": "stdout",
     "output_type": "stream",
     "text": [
      "     survived     sex   age  sibsp  parch     fare embarked   class    who  \\\n",
      "0           0    male  22.0      1      0   7.2500        S   Third    man   \n",
      "1           1  female  38.0      1      0  71.2833        C   First  woman   \n",
      "2           1  female  26.0      0      0   7.9250        S   Third  woman   \n",
      "3           1  female  35.0      1      0  53.1000        S   First  woman   \n",
      "4           0    male  35.0      0      0   8.0500        S   Third    man   \n",
      "..        ...     ...   ...    ...    ...      ...      ...     ...    ...   \n",
      "886         0    male  27.0      0      0  13.0000        S  Second    man   \n",
      "887         1  female  19.0      0      0  30.0000        S   First  woman   \n",
      "888         0  female   NaN      1      2  23.4500        S   Third  woman   \n",
      "889         1    male  26.0      0      0  30.0000        C   First    man   \n",
      "890         0    male  32.0      0      0   7.7500        Q   Third    man   \n",
      "\n",
      "     adult_male deck  embark_town alive  alone  pclass_encoded  \n",
      "0          True  NaN  Southampton    no  False               2  \n",
      "1         False    C    Cherbourg   yes  False               0  \n",
      "2         False  NaN  Southampton   yes   True               2  \n",
      "3         False    C  Southampton   yes  False               0  \n",
      "4          True  NaN  Southampton    no   True               2  \n",
      "..          ...  ...          ...   ...    ...             ...  \n",
      "886        True  NaN  Southampton    no   True               1  \n",
      "887       False    B  Southampton   yes   True               0  \n",
      "888       False  NaN  Southampton    no  False               2  \n",
      "889        True    C    Cherbourg   yes   True               0  \n",
      "890        True  NaN   Queenstown    no   True               2  \n",
      "\n",
      "[891 rows x 15 columns]\n"
     ]
    }
   ],
   "source": [
    "from sklearn.preprocessing import LabelEncoder\n",
    "\n",
    "# Assuming 'df' is your DataFrame with columns: 'gender', 'contract_type', 'age', 'monthly_charges', 'tenure'\n",
    "\n",
    "\n",
    "ordinal_columns = ['pclass']  # If 'contract_type' is ordinal\n",
    "\n",
    "\n",
    "label_encoder = LabelEncoder()\n",
    "for column in ordinal_columns:\n",
    "    df[column + '_encoded'] = label_encoder.fit_transform(df[column])\n",
    "\n",
    "\n",
    "df_encoded = df.drop(ordinal_columns, axis=1)\n",
    "\n",
    "\n",
    "print(df_encoded)"
   ]
  },
  {
   "cell_type": "markdown",
   "id": "c0cf0ef5",
   "metadata": {},
   "source": [
    "**Note:**\n",
    "- In the code examples, one-hot encoding is applied to the \"gender\" and \"contract_type\" columns, and the resulting binary columns are concatenated with the original DataFrame. The original categorical columns are dropped to avoid multicollinearity issues.\n",
    "- If \"contract_type\" is ordinal and has a meaningful order, label encoding is applied to it.\n",
    "- The final encoded DataFrame (`df_encoded`) can be used for further analysis or model training."
   ]
  }
 ],
 "metadata": {
  "kernelspec": {
   "display_name": "Python 3 (ipykernel)",
   "language": "python",
   "name": "python3"
  },
  "language_info": {
   "codemirror_mode": {
    "name": "ipython",
    "version": 3
   },
   "file_extension": ".py",
   "mimetype": "text/x-python",
   "name": "python",
   "nbconvert_exporter": "python",
   "pygments_lexer": "ipython3",
   "version": "3.11.5"
  }
 },
 "nbformat": 4,
 "nbformat_minor": 5
}
