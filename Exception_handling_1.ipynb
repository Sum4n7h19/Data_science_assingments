{
 "cells": [
  {
   "cell_type": "code",
   "execution_count": 1,
   "id": "e33162a4",
   "metadata": {},
   "outputs": [
    {
     "data": {
      "text/plain": [
       "\"when error occurs or exceptions the python code will stop or generate an error message.An error occured during execution \\nif the code or phrase is incorrect or invalid the python code will stop or generate an error message this is called a syntax error.\\nthis can be tackled using inbuilt functions in exception handling 'Try' and 'except'\""
      ]
     },
     "execution_count": 1,
     "metadata": {},
     "output_type": "execute_result"
    }
   ],
   "source": [
    "#Q1 \n",
    "\"\"\"when error occurs or exceptions the python code will stop or generate an error message.An error occured during execution \n",
    "if the code or phrase is incorrect or invalid the python code will stop or generate an error message this is called a syntax error.\n",
    "this can be tackled using inbuilt functions in exception handling 'Try' and 'except'\"\"\""
   ]
  },
  {
   "cell_type": "code",
   "execution_count": 2,
   "id": "bf24a663",
   "metadata": {},
   "outputs": [
    {
     "ename": "TypeError",
     "evalue": "unsupported operand type(s) for +: 'int' and 'str'",
     "output_type": "error",
     "traceback": [
      "\u001b[1;31m---------------------------------------------------------------------------\u001b[0m",
      "\u001b[1;31mTypeError\u001b[0m                                 Traceback (most recent call last)",
      "Cell \u001b[1;32mIn[2], line 5\u001b[0m\n\u001b[0;32m      3\u001b[0m j\u001b[38;5;241m=\u001b[39m\u001b[38;5;241m125\u001b[39m\n\u001b[0;32m      4\u001b[0m k\u001b[38;5;241m=\u001b[39m\u001b[38;5;124m\"\u001b[39m\u001b[38;5;124msum\u001b[39m\u001b[38;5;124m\"\u001b[39m\n\u001b[1;32m----> 5\u001b[0m \u001b[38;5;28mprint\u001b[39m(\u001b[43mj\u001b[49m\u001b[38;5;241;43m+\u001b[39;49m\u001b[43mk\u001b[49m)\n",
      "\u001b[1;31mTypeError\u001b[0m: unsupported operand type(s) for +: 'int' and 'str'"
     ]
    }
   ],
   "source": [
    "#Q2\n",
    "\"\"\"If the exception isn't handeled properly the program terminates with an error message\"\"\"\n",
    "j=125\n",
    "k=\"sum\"\n",
    "print(j+k)"
   ]
  },
  {
   "cell_type": "code",
   "execution_count": null,
   "id": "e93e3973",
   "metadata": {},
   "outputs": [],
   "source": [
    "#Q3 \n",
    "\"\"\" The 'Try' and 'except' keywords are used to handle exceptions\"\"\"\n",
    "try:\n",
    "    f=open(\"text1.txt\", 'r')\n",
    "except:\n",
    "    print(\"Above statement is incorrect,the program continues.\")\n"
   ]
  },
  {
   "cell_type": "code",
   "execution_count": null,
   "id": "edfdab89",
   "metadata": {},
   "outputs": [],
   "source": [
    "#Q4\n",
    "#a\n",
    "try:\n",
    "    f=open(\"text2.txt\", 'r')\n",
    "except:\n",
    "    print(\"read mode is not available\")"
   ]
  },
  {
   "cell_type": "code",
   "execution_count": null,
   "id": "b845ed98",
   "metadata": {},
   "outputs": [],
   "source": [
    "#b\n",
    "try:\n",
    "    s=open(\"text1.txt\", 'r')\n",
    "    try:\n",
    "        print(s.write(\"Hello\"))\n",
    "    except:\n",
    "        print(\"Somenthing is not possible\")\n",
    "    finally:\n",
    "        s.close()\n",
    "except:\n",
    "        print(\"txt file is closed\")"
   ]
  },
  {
   "cell_type": "code",
   "execution_count": null,
   "id": "149ca864",
   "metadata": {},
   "outputs": [],
   "source": [
    "#c\n",
    "x=\"standardard\"\n",
    "if x is not int:\n",
    "    raise TypeError(\"x is a string\")"
   ]
  },
  {
   "cell_type": "code",
   "execution_count": null,
   "id": "d17d4a36",
   "metadata": {},
   "outputs": [],
   "source": [
    "#Q5\n",
    "\"\"\"Custom exception handling are used using the exception class used to create user defined exceptions\"\"\"\n",
    "class InvalidException(Exception):\n",
    "    pass\n",
    "name=input(\"Enter your name: \")\n",
    "try:\n",
    "    if len(name)<=2:\n",
    "        raise InvalidException\n",
    "    else:\n",
    "        print(f\"your name is {name}\")\n",
    "                \n",
    "                \n",
    "except InvalidException:\n",
    "        print(\"the entered name is incorrect\")"
   ]
  },
  {
   "cell_type": "code",
   "execution_count": 3,
   "id": "7d61c5df",
   "metadata": {},
   "outputs": [
    {
     "name": "stdout",
     "output_type": "stream",
     "text": [
      "Enter your age: -11\n",
      "Invalid age format\n"
     ]
    }
   ],
   "source": [
    "#Q6\n",
    "class FormatException(Exception):\n",
    "    pass\n",
    "try:\n",
    "    age=int(input(\"Enter your age: \"))\n",
    "    if age>=60 and age<=150:\n",
    "        print(\"Your are a Senior Citizen\")\n",
    "    elif age>=40 and age<=60:\n",
    "        print(\"Your are an adult citizen\")\n",
    "    elif age>=20 and age<=40:\n",
    "        print(\"Your are an young adult\")\n",
    "    elif age>=16 and age <= 20:\n",
    "        print(\"Your are a teenager\")\n",
    "    elif age>=0 and age <=16:\n",
    "        print(\"Your are still a child\")\n",
    "    else: \n",
    "        age<0 and age>=150\n",
    "        raise FormatException\n",
    "except FormatException:\n",
    "    print(\"Invalid age format\")    "
   ]
  },
  {
   "cell_type": "code",
   "execution_count": null,
   "id": "ba6827da",
   "metadata": {},
   "outputs": [],
   "source": []
  },
  {
   "cell_type": "code",
   "execution_count": null,
   "id": "830951f0",
   "metadata": {},
   "outputs": [],
   "source": []
  },
  {
   "cell_type": "code",
   "execution_count": null,
   "id": "0a38cea2",
   "metadata": {},
   "outputs": [],
   "source": []
  }
 ],
 "metadata": {
  "kernelspec": {
   "display_name": "Python 3 (ipykernel)",
   "language": "python",
   "name": "python3"
  },
  "language_info": {
   "codemirror_mode": {
    "name": "ipython",
    "version": 3
   },
   "file_extension": ".py",
   "mimetype": "text/x-python",
   "name": "python",
   "nbconvert_exporter": "python",
   "pygments_lexer": "ipython3",
   "version": "3.10.9"
  }
 },
 "nbformat": 4,
 "nbformat_minor": 5
}
