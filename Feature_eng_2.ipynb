{
 "cells": [
  {
   "cell_type": "markdown",
   "id": "2d4b3eed",
   "metadata": {},
   "source": [
    "Q1. **Filter Method in Feature Selection:**\n",
    "   - The filter method evaluates the relevance of features based on statistical measures or scores without involving a machine learning model.\n",
    "   - It works by ranking features using certain criteria such as correlation, variance, or mutual information.\n",
    "   - Features are selected or eliminated before the model is trained.\n",
    "\n",
    "Q2. **Wrapper Method vs. Filter Method:**\n",
    "   - **Wrapper Method:** Involves the use of a specific machine learning algorithm to evaluate the performance of feature subsets. It selects or eliminates features based on the model's predictive performance.\n",
    "   - **Filter Method:** Uses statistical measures or scores to rank features without involving a machine learning model. Features are selected or eliminated before model training.\n",
    "\n",
    "Q3. **Embedded Feature Selection Methods:**\n",
    "   - **LASSO (Least Absolute Shrinkage and Selection Operator):** Adds a penalty term to the linear regression objective function, encouraging sparsity in the coefficients.\n",
    "   - **Decision Trees and Random Forests:** Feature importance can be obtained from decision tree-based models.\n",
    "   - **Regularized Regression Models:** Models like Ridge and Elastic Net perform feature selection as part of the regularization process.\n",
    "\n",
    "Q4. **Drawbacks of Filter Method:**\n",
    "   - **Ignores Feature Dependencies:** Filter methods evaluate features independently, ignoring potential dependencies among them.\n",
    "   - **Limited by Statistical Measures:** Relies on statistical measures, which might not capture complex relationships present in the data.\n",
    "   - **Not Optimized for Specific Models:** The selected features may not be the most relevant for a particular machine learning algorithm.\n",
    "\n",
    "Q5. **Filter vs. Wrapper Method Selection:**\n",
    "   - **Filter Method:** Preferred when there's a large dataset, and a quick pre-processing step is needed. It's computationally less expensive.\n",
    "   - **Wrapper Method:** Preferred when the dataset is smaller, and the goal is to optimize the model's performance with the most relevant features.\n",
    "\n",
    "Q6. **Filter Method for Customer Churn Prediction:**\n",
    "   - Use correlation analysis to identify features correlated with customer churn.\n",
    "   - Evaluate statistical measures like mutual information or information gain.\n",
    "   - Eliminate less relevant features based on pre-defined thresholds.\n",
    "\n",
    "Q7. **Embedded Method for Soccer Match Outcome Prediction:**\n",
    "   - Utilize decision tree-based models like Random Forest.\n",
    "   - Extract feature importance scores provided by the model.\n",
    "   - Select features with higher importance scores.\n",
    "\n",
    "Q8. **Wrapper Method for House Price Prediction:**\n",
    "   - Use a subset of features to train the model and evaluate its performance.\n",
    "   - Iteratively add or remove features and assess model performance.\n",
    "   - Select the set of features that optimizes the model's predictive accuracy."
   ]
  }
 ],
 "metadata": {
  "kernelspec": {
   "display_name": "Python 3 (ipykernel)",
   "language": "python",
   "name": "python3"
  },
  "language_info": {
   "codemirror_mode": {
    "name": "ipython",
    "version": 3
   },
   "file_extension": ".py",
   "mimetype": "text/x-python",
   "name": "python",
   "nbconvert_exporter": "python",
   "pygments_lexer": "ipython3",
   "version": "3.11.5"
  }
 },
 "nbformat": 4,
 "nbformat_minor": 5
}
