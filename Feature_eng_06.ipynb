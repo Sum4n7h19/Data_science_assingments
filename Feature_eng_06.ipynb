{
 "cells": [
  {
   "cell_type": "code",
   "execution_count": 1,
   "id": "f3562c50-3df1-4553-9a32-c8ac24c7e39e",
   "metadata": {},
   "outputs": [],
   "source": [
    "import pandas as pd\n",
    "import numpy as np"
   ]
  },
  {
   "cell_type": "code",
   "execution_count": 2,
   "id": "4792472f-3a06-4d76-981a-7d2a76f18bf7",
   "metadata": {},
   "outputs": [],
   "source": [
    "#Q1\n",
    "# Creating data\n",
    "study_hours = [2, 6, 4, 8, 5, 1, 7]\n",
    "test_scores = [58, 70, 63, 89, 40, 53, 83] "
   ]
  },
  {
   "cell_type": "code",
   "execution_count": 3,
   "id": "e596f099-ad92-4442-9f6f-3572ea462b64",
   "metadata": {},
   "outputs": [
    {
     "name": "stdout",
     "output_type": "stream",
     "text": [
      "[2, 6, 4, 8, 5, 1, 7]\n",
      "[58, 70, 63, 89, 40, 53, 83]\n"
     ]
    }
   ],
   "source": [
    "print(study_hours)\n",
    "print(test_scores)"
   ]
  },
  {
   "cell_type": "code",
   "execution_count": 4,
   "id": "23c2f5ca-0e33-4df8-8685-72a9e82fbcf1",
   "metadata": {},
   "outputs": [
    {
     "name": "stdout",
     "output_type": "stream",
     "text": [
      "Pearson correlation coeffecient: 0.7021945497129889\n",
      "Interpretation: The above data has positive linear realtionship \n"
     ]
    }
   ],
   "source": [
    "# Using pearson correlation coeffecient for the above data\n",
    "CorrCoff = np.corrcoef(study_hours, test_scores)[0, 1]\n",
    "\n",
    "if CorrCoff > 0:\n",
    "    interpret = \"The above data has positive linear realtionship \"\n",
    "elif CorrCoff < 0:\n",
    "    interpret = \"The above data has negative linear realtionship \"\n",
    "else:\n",
    "    interpret = \"There in no linear realtionship \"\n",
    "\n",
    "print(f\"Pearson correlation coeffecient: {CorrCoff}\")\n",
    "print(f\"Interpretation: {interpret}\")"
   ]
  },
  {
   "cell_type": "code",
   "execution_count": 5,
   "id": "e0b7367b-afe6-42ce-8f77-b1eb87b60633",
   "metadata": {},
   "outputs": [
    {
     "name": "stdout",
     "output_type": "stream",
     "text": [
      "[4, 5, 8, 6, 7, 10, 3]\n",
      "[3, 8, 4, 4, 2, 7, 9]\n"
     ]
    }
   ],
   "source": [
    "#Q2\n",
    "# Creating a data\n",
    "sleep_hours = [4, 5, 8, 6, 7, 10, 3]\n",
    "jobSatisifaction = [3, 8, 4, 4, 2, 7, 9]\n",
    "print(sleep_hours)\n",
    "print(jobSatisifaction)"
   ]
  },
  {
   "cell_type": "code",
   "execution_count": 6,
   "id": "c4c67e25-c485-400e-95ce-63a066f49f20",
   "metadata": {},
   "outputs": [
    {
     "name": "stdout",
     "output_type": "stream",
     "text": [
      "Spearman correlation: -0.2882999880625789\n",
      "P value: 0.5306506599466652\n",
      "Interpretation: The above data has no monotonic correlation\n"
     ]
    }
   ],
   "source": [
    "# Using spearman correlation  for the above data\n",
    "from scipy.stats import spearmanr\n",
    "spearmanCorr, p_value = spearmanr(sleep_hours, jobSatisifaction)\n",
    "\n",
    "if spearmanCorr > 0:\n",
    "    interpret1 = \"The above data has positive monotonic correlation\"\n",
    "elif spearmanCorr > 0:\n",
    "    interpret1 = \"The above data has negative monotonic correlation\"\n",
    "else:\n",
    "    interpret1 = \"The above data has no monotonic correlation\"\n",
    "\n",
    "print(f\"Spearman correlation: {spearmanCorr}\")\n",
    "print(f\"P value: {p_value}\")\n",
    "print(f\"Interpretation: {interpret1}\")"
   ]
  },
  {
   "cell_type": "code",
   "execution_count": 7,
   "id": "8dd6bd92-77bc-496a-b4a0-6bbc61b1b5a4",
   "metadata": {},
   "outputs": [],
   "source": [
    "#Q3\n",
    "# Creating Datd\n",
    "exercise = [1.8,1.7,1.5,0,1.5,1.1,1.7,1.7,1.4,0.8,1.7,1.7,1.7,1.4,1.7,1.7,1.7,1.5,1.5,1.4,0.5,1,1.7,1.7,1.5,1.4,1.8,\n",
    "0.5,0.7,1.7,1.7,1.7,1.7,1.4,1.7,1.7,1.6,1.4,1.6,1.7,0.6,1.4,1.6,1.7,1.71,1.6,1.4,1.6,1.7,1.7,\n",
    "]\n",
    "BMI = [31.9357195,27.0236996,31.09261186,16.84180897,38.89601025,27.12629527,25.37024221,28.83991347,16.88872209,31.26399713,27.12287541,25.40138408,\n",
    "28.80273121,16.65972511,27.11945556,25.43252595,28.76554895,35.91836735,31.9259734,16.65972511,38.7109375,27.1160357,25.46366782,28.72836668,29.98299118,16.70600213,\n",
    "30.40123457,38.76428939,26.79826933,25.19749667,28.36045307,32.11195241,55.3633218,16.48100804,26.81179016,25.24537465,30.13001042,\n",
    "16.5266618,38.69449481,26.80840995,29.073312,16.30557182,38.75171468,26.80502975,25.30693205,28.515625,16.35061484,\n",
    "39.07644259,26.80164954,25.33771075\n",
    "]"
   ]
  },
  {
   "cell_type": "code",
   "execution_count": 8,
   "id": "f9140195-be16-4d35-aa9d-9dc504578849",
   "metadata": {},
   "outputs": [
    {
     "name": "stdout",
     "output_type": "stream",
     "text": [
      "50\n",
      "50\n"
     ]
    }
   ],
   "source": [
    "print(len(BMI))\n",
    "print(len(exercise))\n"
   ]
  },
  {
   "cell_type": "code",
   "execution_count": 9,
   "id": "1159b195-5d19-4828-9126-9a6afcde964a",
   "metadata": {},
   "outputs": [
    {
     "name": "stdout",
     "output_type": "stream",
     "text": [
      "Pearson correlation coeffecient: 0.06335004948200938\n",
      "Interpretation: The above data has positive linear realtionship \n",
      "Spearman correlation: 0.06678629221165341\n",
      "P value: 0.6449270799705993\n",
      "Interpretation: The above data has positive monotonic correlation\n"
     ]
    }
   ],
   "source": [
    "# Pearson correlation coefficient\n",
    "CorrCoff = np.corrcoef(exercise, BMI)[0, 1]\n",
    "\n",
    "if CorrCoff > 0:\n",
    "    interpret = \"The above data has positive linear realtionship \"\n",
    "elif CorrCoff < 0:\n",
    "    interpret = \"The above data has negative linear realtionship \"\n",
    "else:\n",
    "    interpret = \"There in no linear realtionship \"\n",
    "\n",
    "print(f\"Pearson correlation coeffecient: {CorrCoff}\")\n",
    "print(f\"Interpretation: {interpret}\")\n",
    "\n",
    "# Spearman correlation \n",
    "spearmanCorr_BMI, p_value = spearmanr(exercise, BMI)\n",
    "\n",
    "if spearmanCorr_BMI > 0:\n",
    "    interpret1 = \"The above data has positive monotonic correlation\"\n",
    "elif spearmanCorr_BMI > 0:\n",
    "    interpret1 = \"The above data has negative monotonic correlation\"\n",
    "else:\n",
    "    interpret1 = \"The above data has no monotonic correlation\"\n",
    "\n",
    "print(f\"Spearman correlation: {spearmanCorr_BMI}\")\n",
    "print(f\"P value: {p_value}\")\n",
    "print(f\"Interpretation: {interpret1}\")"
   ]
  },
  {
   "cell_type": "code",
   "execution_count": 10,
   "id": "f53cb98f-7113-435d-b257-546e398f138b",
   "metadata": {},
   "outputs": [],
   "source": [
    "#Q4\n",
    "# Creating data\n",
    "import random\n",
    "Phyiscal_activity =  [round(random.uniform(1, 8), 1) for _ in range(50)]\n",
    "TV_watchTime = [round(random.uniform(1, 7), 1) for _ in range(50)]"
   ]
  },
  {
   "cell_type": "code",
   "execution_count": 11,
   "id": "1caf929b-932a-4553-b569-c8f13d7906a7",
   "metadata": {},
   "outputs": [
    {
     "name": "stdout",
     "output_type": "stream",
     "text": [
      "Pearson correlation coeffecient: -0.0072775291590442435\n",
      "Interpretation: The above data has negative linear realtionship \n"
     ]
    }
   ],
   "source": [
    "# Pearson correlation coefficient\n",
    "CorrCoff = np.corrcoef(Phyiscal_activity, TV_watchTime)[0, 1]\n",
    "\n",
    "if CorrCoff > 0:\n",
    "    interpret = \"The above data has positive linear realtionship \"\n",
    "elif CorrCoff < 0:\n",
    "    interpret = \"The above data has negative linear realtionship \"\n",
    "else:\n",
    "    interpret = \"There in no linear realtionship \"\n",
    "\n",
    "print(f\"Pearson correlation coeffecient: {CorrCoff}\")\n",
    "print(f\"Interpretation: {interpret}\")"
   ]
  },
  {
   "cell_type": "code",
   "execution_count": 57,
   "id": "8b3b673e-ceb9-4ae9-815c-6ad7c9abab9c",
   "metadata": {},
   "outputs": [
    {
     "data": {
      "image/png": "[encoded data removed]",
      "text/plain": [
       "<Figure size 640x480 with 1 Axes>"
      ]
     },
     "metadata": {},
     "output_type": "display_data"
    }
   ],
   "source": [
    "#Q5\n",
    "import matplotlib.pyplot as plt\n",
    "\n",
    "# Survey data\n",
    "ages = [25, 42, 37, 19, 31, 28]\n",
    "preferences = ['Coke', 'Pepsi', 'Mountain Dew', 'Coke', 'Pepsi', 'Coke']\n",
    "\n",
    "# Create a dictionary to store the count of each soft drink preference\n",
    "preference_counts = {}\n",
    "\n",
    "# Count the occurrences of each soft drink preference\n",
    "for preference in preferences:\n",
    "    preference_counts[preference] = preference_counts.get(preference, 0) + 1\n",
    "\n",
    "# Plotting the data\n",
    "plt.bar(preference_counts.keys(), preference_counts.values())\n",
    "plt.xlabel('Soft Drink Preference')\n",
    "plt.ylabel('Number of Respondents')\n",
    "plt.title('Soft Drink Preference by Age')\n",
    "plt.show()"
   ]
  },
  {
   "cell_type": "code",
   "execution_count": 58,
   "id": "21e838ca-255f-409b-935c-73c3311a68f6",
   "metadata": {},
   "outputs": [
    {
     "name": "stdout",
     "output_type": "stream",
     "text": [
      "Pearson correlation coeffecient: 0.15788455677159471\n",
      "Interpretation: The above data has positive linear realtionship \n"
     ]
    }
   ],
   "source": [
    "sales_day =  [round(random.uniform(1, 5), 1) for _ in range(30)]\n",
    "sales_week = [round(random.uniform(10, 30), 1) for _ in range(30)]\n",
    "pearCorrf = np.corrcoef(sales_day, sales_week)[0, 1]\n",
    "print(\n",
    "\n",
    "if pearCorrf > 0:\n",
    "    interpret = \"The above data has positive linear realtionship \"\n",
    "elif CorrCoff < 0:\n",
    "    interpret = \"The above data has negative linear realtionship \"\n",
    "else:\n",
    "    interpret = \"There in no linear realtionship \"\n",
    "\n",
    "print(f\"Pearson correlation coeffecient: {pearCorrf}\")\n",
    "print(f\"Interpretation: {interpret}\")"
   ]
  }
 ],
 "metadata": {
  "kernelspec": {
   "display_name": "Python 3 (ipykernel)",
   "language": "python",
   "name": "python3"
  },
  "language_info": {
   "codemirror_mode": {
    "name": "ipython",
    "version": 3
   },
   "file_extension": ".py",
   "mimetype": "text/x-python",
   "name": "python",
   "nbconvert_exporter": "python",
   "pygments_lexer": "ipython3",
   "version": "3.11.5"
  }
 },
 "nbformat": 4,
 "nbformat_minor": 5
}
