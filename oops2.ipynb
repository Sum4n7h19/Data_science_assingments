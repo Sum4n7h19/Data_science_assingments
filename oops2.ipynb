{
 "cells": [
  {
   "cell_type": "code",
   "execution_count": 1,
   "id": "29e875ce",
   "metadata": {},
   "outputs": [],
   "source": [
    "#Q1\n",
    "class vehicle:\n",
    "    \n",
    "    def __init__(self,name_of_vehicle,max_speed,average_of_speed):\n",
    "        self.name_of_vehicle=name_of_vehicle\n",
    "        self.max_speed=max_speed\n",
    "        self.average_of_speed=average_of_speed\n",
    "        \n",
    "\n",
    "    \n",
    "        "
   ]
  },
  {
   "cell_type": "code",
   "execution_count": 6,
   "id": "65b7d8c9",
   "metadata": {},
   "outputs": [],
   "source": [
    "car=vehicle(\"Toyata\",120,60)"
   ]
  },
  {
   "cell_type": "code",
   "execution_count": 7,
   "id": "d3e7ae16",
   "metadata": {},
   "outputs": [
    {
     "data": {
      "text/plain": [
       "'Toyata'"
      ]
     },
     "execution_count": 7,
     "metadata": {},
     "output_type": "execute_result"
    }
   ],
   "source": [
    "car.name_of_vehicle"
   ]
  },
  {
   "cell_type": "code",
   "execution_count": 8,
   "id": "2ec8954c",
   "metadata": {},
   "outputs": [
    {
     "data": {
      "text/plain": [
       "120"
      ]
     },
     "execution_count": 8,
     "metadata": {},
     "output_type": "execute_result"
    }
   ],
   "source": [
    "car.max_speed"
   ]
  },
  {
   "cell_type": "code",
   "execution_count": 9,
   "id": "f64730f7",
   "metadata": {},
   "outputs": [
    {
     "data": {
      "text/plain": [
       "60"
      ]
     },
     "execution_count": 9,
     "metadata": {},
     "output_type": "execute_result"
    }
   ],
   "source": [
    "car.average_of_speed"
   ]
  },
  {
   "cell_type": "code",
   "execution_count": 10,
   "id": "46a98943",
   "metadata": {},
   "outputs": [],
   "source": [
    "#Q2\n",
    "class car(vehicle):\n",
    "    \n",
    "    def seating_capacity(self,capacity):\n",
    "        return f\"the {self.name_of_vehicle} has a seating capacity of {self.capacity}\"\n",
    "        pass"
   ]
  },
  {
   "cell_type": "code",
   "execution_count": 11,
   "id": "b80eca45",
   "metadata": {},
   "outputs": [
    {
     "data": {
      "text/plain": [
       "5"
      ]
     },
     "execution_count": 11,
     "metadata": {},
     "output_type": "execute_result"
    }
   ],
   "source": [
    "car.seating_capacity=5 \n",
    "car.seating_capacity"
   ]
  },
  {
   "cell_type": "code",
   "execution_count": 12,
   "id": "df690829",
   "metadata": {},
   "outputs": [],
   "source": [
    "#Q3\n",
    "class stastistics:\n",
    "    def stats(self):\n",
    "        print(\"This is stastistics\")\n",
    "        \n",
    "class programming:\n",
    "    def python(self):\n",
    "        print(\"this is python\")\n",
    "\n",
    "class domain_knowledge:\n",
    "    def domain(self):\n",
    "        print(\"this is the domain\")\n",
    "        \n",
    "class machine_learning:\n",
    "    def ML(self):\n",
    "        print(\"this is machine learning\")\n",
    "        \n",
    "class data_science(stastistics,programming,domain_knowledge,machine_learning):\n",
    "    def data_sci(self):\n",
    "        print(\"the combination of all the field is data science\")\n",
    "        pass"
   ]
  },
  {
   "cell_type": "code",
   "execution_count": 13,
   "id": "f7b3e7c6",
   "metadata": {},
   "outputs": [
    {
     "name": "stdout",
     "output_type": "stream",
     "text": [
      "This is stastistics\n",
      "this is python\n",
      "this is the domain\n",
      "this is machine learning\n",
      "the combination of all the field is data science\n"
     ]
    }
   ],
   "source": [
    "data_sci=data_science()\n",
    "data_sci.stats()\n",
    "data_sci.python()\n",
    "data_sci.domain()\n",
    "data_sci.ML()\n",
    "data_sci.data_sci()"
   ]
  },
  {
   "cell_type": "code",
   "execution_count": 14,
   "id": "15e7558b",
   "metadata": {},
   "outputs": [],
   "source": [
    "#Q4\n",
    "class course:\n",
    "    \n",
    "    def __init__(self,course_fees,course_year,course_name):\n",
    "        self.__course_fees=course_fees\n",
    "        self.course_year=course_year\n",
    "        self.course_name=course_name\n",
    "        \n",
    "    @property\n",
    "    def course_fees_acess(self):\n",
    "        return self.__course_fees\n",
    "    \n",
    "    @course_fees_acess.setter\n",
    "    def course_fees_set(self,fees):\n",
    "        self.__course_fees=course_fees\n",
    "        \n",
    "        \n",
    "        "
   ]
  },
  {
   "cell_type": "code",
   "execution_count": 15,
   "id": "8eb2584d",
   "metadata": {},
   "outputs": [],
   "source": [
    "course=course(46000,2022,\"Masters in Science\")"
   ]
  },
  {
   "cell_type": "code",
   "execution_count": 16,
   "id": "bef0269e",
   "metadata": {},
   "outputs": [
    {
     "data": {
      "text/plain": [
       "2022"
      ]
     },
     "execution_count": 16,
     "metadata": {},
     "output_type": "execute_result"
    }
   ],
   "source": [
    "course.course_year"
   ]
  },
  {
   "cell_type": "code",
   "execution_count": 17,
   "id": "2c49281e",
   "metadata": {},
   "outputs": [
    {
     "data": {
      "text/plain": [
       "'Masters in Science'"
      ]
     },
     "execution_count": 17,
     "metadata": {},
     "output_type": "execute_result"
    }
   ],
   "source": [
    "course.course_name"
   ]
  },
  {
   "cell_type": "code",
   "execution_count": 18,
   "id": "83ea78b3",
   "metadata": {},
   "outputs": [
    {
     "data": {
      "text/plain": [
       "46000"
      ]
     },
     "execution_count": 18,
     "metadata": {},
     "output_type": "execute_result"
    }
   ],
   "source": [
    "course.course_fees_acess"
   ]
  },
  {
   "cell_type": "code",
   "execution_count": 19,
   "id": "233fd79a",
   "metadata": {},
   "outputs": [],
   "source": [
    "\"\"\"Q5. Method overriding is a feature in object-oriented programming where a subclass provides its own implementation \n",
    "of a method that is already defined in its superclass. The overridden method in the subclass is called instead of the \n",
    "superclass method when invoked on an instance of the subclass. Here's an example:\"\"\"\n",
    "class Teacher:\n",
    "    def greet(self):\n",
    "        print(\"welcome\")\n",
    "        \n",
    "class student:\n",
    "    def greet(self):\n",
    "        print(\"Welcome\")"
   ]
  },
  {
   "cell_type": "code",
   "execution_count": 20,
   "id": "9fbd630b",
   "metadata": {},
   "outputs": [],
   "source": [
    "teacher=Teacher()\n",
    "Student=student()"
   ]
  },
  {
   "cell_type": "code",
   "execution_count": 21,
   "id": "bdc039d3",
   "metadata": {},
   "outputs": [
    {
     "name": "stdout",
     "output_type": "stream",
     "text": [
      "welcome\n",
      "Welcome\n"
     ]
    }
   ],
   "source": [
    "teacher.greet()\n",
    "Student.greet()"
   ]
  }
 ],
 "metadata": {
  "kernelspec": {
   "display_name": "Python 3 (ipykernel)",
   "language": "python",
   "name": "python3"
  },
  "language_info": {
   "codemirror_mode": {
    "name": "ipython",
    "version": 3
   },
   "file_extension": ".py",
   "mimetype": "text/x-python",
   "name": "python",
   "nbconvert_exporter": "python",
   "pygments_lexer": "ipython3",
   "version": "3.10.9"
  }
 },
 "nbformat": 4,
 "nbformat_minor": 5
}
