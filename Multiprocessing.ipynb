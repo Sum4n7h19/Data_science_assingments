{
 "cells": [
  {
   "cell_type": "markdown",
   "id": "6e7f9ce8",
   "metadata": {},
   "source": [
    "#Q1\n",
    "Multipal processing refers to  creating and executing multiple processes simultaneously.it uses the processors cores to execute the processes parallely.\n",
    "1.increased performance\n",
    "2.Parallel Execution.\n",
    "3.Resource Utilization.\n",
    "4.Isolation and Robustness.\n",
    "5.Flexibility and Scalability.\n",
    "6.Compatibility with CPU-bound Tasks."
   ]
  },
  {
   "cell_type": "markdown",
   "id": "fe646b72",
   "metadata": {},
   "source": [
    "#Q2\n",
    "Multipal processing refers to  creating and executing multiple processes simultaneously.it uses the processors cores to execute the processes parallely.where as a multithreading refers to Multiple threading refers to performing multiple therads(threads refers to the set of instructions or programs) in a single program or processor.it is used to perform programs which can be executed in parallel or simultaneously threading module is used to hamdle multiple threading."
   ]
  },
  {
   "cell_type": "code",
   "execution_count": 1,
   "id": "04a6f518",
   "metadata": {},
   "outputs": [
    {
     "name": "stdout",
     "output_type": "stream",
     "text": [
      "The decimal numbers\n"
     ]
    }
   ],
   "source": [
    "#Q3\n",
    "import multiprocessing\n",
    "#THIS IS NOT PRINTING THE LIST IN JUPYTER BUT THE CODE IS WORKING FINE IN VS CODE\n",
    "def multitask():\n",
    "    print(list(range(0,10))/n)\n",
    "    \n",
    "if __name__ == '__main__':\n",
    "    n=multiprocessing.Process(target=multitask)\n",
    "    print(\"The decimal numbers\")\n",
    "    n.start()\n",
    "    n.join()"
   ]
  },
  {
   "cell_type": "markdown",
   "id": "47d383c8",
   "metadata": {},
   "source": [
    "#Q4\n",
    "In Python, a multiprocessing pool is a feature provided by the multiprocessing module that allows for convenient parallel execution of a function across multiple processes. It provides a way to distribute the workload among a fixed number of worker processes, called a pool, and execute tasks concurrently.\n",
    "Parallel Execution: A multiprocessing pool enables the parallel execution of a function across multiple processes. The pool automatically distributes the tasks among the available worker processes, allowing for concurrent processing and improved performance.\n",
    "\n",
    "1.Workload Distribution: The pool handles the distribution of tasks among the worker processes, making it easier to distribute the workload evenly.\n",
    "\n",
    "2.Simplified Interface: Using a multiprocessing pool abstracts away the details of process creation, inter-process communication, and synchronization.\n",
    "\n",
    "3.Resource Management: The multiprocessing pool manages the worker processes for you, including their creation, termination, and communication.\n",
    "\n",
    "4.Scalability: Multiprocessing pools are well-suited for handling large workloads and scaling to the available resources.\n",
    "\n",
    "5.Easy Result Gathering: The map function in the multiprocessing pool allows you to collect the results of the executed tasks conveniently. "
   ]
  },
  {
   "cell_type": "code",
   "execution_count": null,
   "id": "6c7243d3",
   "metadata": {},
   "outputs": [],
   "source": [
    "#Q5\n",
    "#THE PROGRAM IS NOT WORKING IN JUYPTER PROPERLY BUT IS WORKING IN VS_CODE\n",
    "def oddNumber(x):\n",
    "    if x % 2 != 0:\n",
    "        return x\n",
    "odd=[]\n",
    "if __name__ == '__main__':\n",
    "    with multiprocessing.Pool(processes=10) as pool:\n",
    "        odds=pool.map(oddNumber,list(range(1,100)))\n",
    "        odd.append(odds)\n",
    "        print(odd)"
   ]
  },
  {
   "cell_type": "code",
   "execution_count": 7,
   "id": "c90156ed",
   "metadata": {},
   "outputs": [],
   "source": [
    "#Q6\n",
    "#THE PROGRAM IS NOT WORKING IN JUYPTER PROPERLY BUT IS WORKING IN VS_CODE\n",
    "def sender(conn , m):\n",
    "    for i in m:\n",
    "        i=(i+1/i-1)\n",
    "        conn.send(i)\n",
    "    conn.close()\n",
    "    \n",
    "def receive(conn) :\n",
    "    while True:\n",
    "        try:\n",
    "            m=conn.recv()\n",
    "            if m % 2 == 0:\n",
    "                break\n",
    "            print(m)\n",
    "        except Exception as e :\n",
    "            print(e)\n",
    "            print(\"cant be done\")\n",
    "            break\n",
    "        print(m)\n",
    "\n",
    "if __name__ == '__main__':\n",
    "    m = [2,3,4,5]\n",
    "    parent_conn , child_conn = multiprocessing.Pipe()\n",
    "    m1 = multiprocessing.Process(target=sender , args = (child_conn , m))\n",
    "    m2 = multiprocessing.Process(target=receive , args = (parent_conn,))\n",
    "    m1.start()\n",
    "    m2.start()\n",
    "    m1.join()\n",
    "    child_conn.close()\n",
    "    m2.join()\n",
    "    parent_conn.close()   "
   ]
  }
 ],
 "metadata": {
  "kernelspec": {
   "display_name": "Python 3 (ipykernel)",
   "language": "python",
   "name": "python3"
  },
  "language_info": {
   "codemirror_mode": {
    "name": "ipython",
    "version": 3
   },
   "file_extension": ".py",
   "mimetype": "text/x-python",
   "name": "python",
   "nbconvert_exporter": "python",
   "pygments_lexer": "ipython3",
   "version": "3.10.9"
  }
 },
 "nbformat": 4,
 "nbformat_minor": 5
}
