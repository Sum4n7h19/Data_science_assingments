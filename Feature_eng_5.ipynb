{
 "cells": [
  {
   "attachments": {
    "Covariance-Formula.png": {
     "image/png": "[encoded data removed]"
    }
   },
   "cell_type": "markdown",
   "id": "49a45963",
   "metadata": {},
   "source": [
    "**Q1: Difference between Ordinal Encoding and Label Encoding:**\n",
    "\n",
    "- **Label Encoding:**\n",
    "  - Involves converting categorical labels into numeric form.\n",
    "  - Assigns a unique integer to each category, often starting from 0 or 1.\n",
    "  - The order or magnitude of the numeric values doesn't have a specific meaning.\n",
    "  - It is suitable for nominal categorical data (categories with no inherent order).\n",
    "\n",
    "- **Ordinal Encoding:**\n",
    "  - Similar to Label Encoding, but considers the order or ranking of the categories.\n",
    "  - Assigns integers based on the order or rank of the categories.\n",
    "  - The numeric values have an ordinal relationship, meaning one value is greater than another.\n",
    "  - Suitable for ordinal categorical data (categories with a meaningful order).\n",
    "\n",
    "**Example:**\n",
    "Consider a dataset with a \"Size\" feature having categories 'Small', 'Medium', and 'Large'.\n",
    "- **Label Encoding:** Assigns 0, 1, 2 to these categories.\n",
    "- **Ordinal Encoding:** Assigns 0, 1, 2 based on their order (e.g., 'Small' = 0, 'Medium' = 1, 'Large' = 2).\n",
    "\n",
    "**When to Choose:**\n",
    "- Use Label Encoding for nominal data where there is no inherent order.\n",
    "- Use Ordinal Encoding when the categorical data has a meaningful order or ranking.\n",
    "\n",
    "---\n",
    "\n",
    "**Q2: Target Guided Ordinal Encoding:**\n",
    "\n",
    "Target Guided Ordinal Encoding involves encoding categorical variables based on the mean of the target variable for each category. The steps include:\n",
    "\n",
    "1. Calculate the mean of the target variable for each category.\n",
    "2. Order the categories based on their mean values.\n",
    "3. Assign ordinal integers to categories based on their order.\n",
    "\n",
    "**Example:**\n",
    "Consider a \"City\" feature and a binary target variable indicating whether a customer made a purchase. Order cities based on the mean purchase rate, then assign ordinal integers.\n",
    "\n",
    "**Use Case:**\n",
    "It can be useful when dealing with categorical features where the target variable shows a clear ordinal relationship with the categories. This method leverages information from the target variable to create ordinal encoding that might be more informative for certain machine learning algorithms.\n",
    "\n",
    "---\n",
    "\n",
    "**Q3: Covariance:**\n",
    "\n",
    "Covariance measures the degree to which two variables change together. It indicates whether an increase in one variable corresponds to an increase or decrease in another. A positive covariance suggests a positive relationship, while a negative covariance suggests a negative relationship.\n",
    "\n",
    "**Importance:**\n",
    "- Helps understand the relationship between two variables.\n",
    "- Used in portfolio theory in finance to manage risk.\n",
    "\n",
    "**Calculation:**\n",
    "For two variables X and Y with n data points:\n",
    "![Covariance-Formula.png](attachment:Covariance-Formula.png)\n",
    "\n",
    "\n",
    "If Cov(X, Y) is:\n",
    "- Positive: X and Y tend to increase or decrease together.\n",
    "- Negative: X tends to increase when Y decreases or vice versa.\n",
    "- Close to 0: Weak or no linear relationship.\n",
    "\n",
    "Covariance's limitation is that its value depends on the scales of the variables, making interpretation challenging. To address this, correlation coefficient (normalized covariance) is often used."
   ]
  },
  {
   "cell_type": "code",
   "execution_count": 1,
   "id": "92e1980e",
   "metadata": {},
   "outputs": [
    {
     "name": "stdout",
     "output_type": "stream",
     "text": [
      "   Color    Size Material  color_encoded  Size_encoded  Material_encoded\n",
      "0    red   small     wood              2             2                 2\n",
      "1  green  medium    metal              1             1                 0\n",
      "2   blue   large  plastic              0             0                 1\n"
     ]
    },
    {
     "name": "stderr",
     "output_type": "stream",
     "text": [
      "C:\\Users\\wwwsu\\anaconda3\\Lib\\site-packages\\sklearn\\preprocessing\\_label.py:114: DataConversionWarning: A column-vector y was passed when a 1d array was expected. Please change the shape of y to (n_samples, ), for example using ravel().\n",
      "  y = column_or_1d(y, warn=True)\n",
      "C:\\Users\\wwwsu\\anaconda3\\Lib\\site-packages\\sklearn\\preprocessing\\_label.py:114: DataConversionWarning: A column-vector y was passed when a 1d array was expected. Please change the shape of y to (n_samples, ), for example using ravel().\n",
      "  y = column_or_1d(y, warn=True)\n",
      "C:\\Users\\wwwsu\\anaconda3\\Lib\\site-packages\\sklearn\\preprocessing\\_label.py:114: DataConversionWarning: A column-vector y was passed when a 1d array was expected. Please change the shape of y to (n_samples, ), for example using ravel().\n",
      "  y = column_or_1d(y, warn=True)\n"
     ]
    }
   ],
   "source": [
    "#Q4\n",
    "import pandas as pd\n",
    "from sklearn.preprocessing import LabelEncoder\n",
    "\n",
    "df = pd.DataFrame({'Color':['red', 'green', 'blue'], 'Size': ['small', 'medium','large'], \n",
    "                  'Material':['wood', 'metal', 'plastic']})\n",
    "\n",
    "columns = ['Color', 'Size', 'Material']\n",
    "\n",
    "lbl_encode = LabelEncoder()\n",
    "df['color_encoded'] =  lbl_encode.fit_transform(df[['Color']])\n",
    "df['Size_encoded'] =  lbl_encode.fit_transform(df[['Size']])\n",
    "df['Material_encoded'] =  lbl_encode.fit_transform(df[['Material']])\n",
    "    \n",
    "print(df)\n"
   ]
  },
  {
   "cell_type": "markdown",
   "id": "fc2b38ac",
   "metadata": {},
   "source": [
    "In the output DataFrame, you can see that each unique category in the original categorical columns (Color, Size, Material) has been replaced with a corresponding integer in the new columns (Color_encoded, Size_encoded, Material_encoded). The mapping of the categories to integers is done by the fit_transform method of the LabelEncoder class. The encoded values are integers ranging from 0 to the number of unique categories minus 1 for each column."
   ]
  },
  {
   "cell_type": "code",
   "execution_count": 2,
   "id": "742fa6cb",
   "metadata": {},
   "outputs": [
    {
     "name": "stdout",
     "output_type": "stream",
     "text": [
      "                            Age        Income  Education_encoded\n",
      "Age                   50.571429 -5.628571e+04           5.761905\n",
      "Income            -56285.714286  1.398614e+10       79452.380952\n",
      "Education_encoded      5.761905  7.945238e+04           1.904762\n"
     ]
    }
   ],
   "source": [
    "#Q5\n",
    "import pandas as pd\n",
    "\n",
    "data  = {\n",
    "    'Age':[23, 25, 28, 30, 45, 31, 30],\n",
    "    'Income': [20000, 30000, 340000, 19000, 50000, 28000, 23000],\n",
    "    'Education': ['B.sc', 'B.tech', 'M.sc', 'Highschool', 'M.tech', 'B.sc', 'B.sc' ]\n",
    "}\n",
    "df = pd.DataFrame(data)\n",
    "\n",
    "education_order = {'Highschool': 0, 'B.sc': 1, \"B.tech\": 2, 'M.sc': 3, 'M.tech':4}\n",
    "df['Education_encoded'] = df['Education'].map(education_order)\n",
    "\n",
    "# Assuming you have a DataFrame 'df' with columns 'Age', 'Income', and 'Education'\n",
    "covariance_matrix = df[['Age', 'Income', 'Education_encoded']].cov()\n",
    "\n",
    "print(covariance_matrix)\n"
   ]
  },
  {
   "cell_type": "markdown",
   "id": "769c32ac",
   "metadata": {},
   "source": [
    "**Q6**\n",
    "\n",
    "**1.Encoding Method: Binary encoding or one-hot encoding.**\n",
    "\n",
    "Explanation:\n",
    "Binary encoding can be used, where Male is encoded as 0 and Female as 1.\n",
    "Alternatively, one-hot encoding can be applied, creating two binary columns (Male and Female) with 0 or 1 values"
   ]
  },
  {
   "cell_type": "code",
   "execution_count": 3,
   "id": "096d7115",
   "metadata": {},
   "outputs": [
    {
     "name": "stdout",
     "output_type": "stream",
     "text": [
      "<bound method NDFrame.head of    Gender\n",
      "0    Male\n",
      "1  Female>\n",
      "[[0. 1.]\n",
      " [1. 0.]]\n",
      "   Gender  Gender_Female  Gender_Male\n",
      "0    Male            0.0          1.0\n",
      "1  Female            1.0          0.0\n"
     ]
    }
   ],
   "source": [
    "from sklearn.preprocessing import OneHotEncoder\n",
    "\n",
    "df = pd.DataFrame({'Gender': ['Male', 'Female']})\n",
    "print(df.head)\n",
    "cols = [\"Gender\"]\n",
    "encode = OneHotEncoder()\n",
    "\n",
    "enCode = encode.fit_transform(df[cols]).toarray()\n",
    "print(enCode)\n",
    "\n",
    "encoded_df = pd.DataFrame(enCode, columns=encode.get_feature_names_out())\n",
    "df_encoded = pd.concat([df, encoded_df], axis=1)\n",
    "print(df_encoded)"
   ]
  },
  {
   "cell_type": "markdown",
   "id": "16e27b00",
   "metadata": {},
   "source": [
    "**2.Education Level (Ordinal Variable):**\n",
    "\n",
    "Encoding Method: Ordinal encoding.\n",
    "Explanation:\n",
    "Education level has an inherent order (e.g., High School < Bachelor's < Master's < PhD), making ordinal encoding suitable."
   ]
  },
  {
   "cell_type": "code",
   "execution_count": 4,
   "id": "0530cc77",
   "metadata": {},
   "outputs": [
    {
     "name": "stdout",
     "output_type": "stream",
     "text": [
      "     Education  Education_encoded\n",
      "0   Bachelor.s                  1\n",
      "1          PhD                  3\n",
      "2     Master.s                  2\n",
      "3  High School                  0\n",
      "4     Master.s                  2\n",
      "5   Bachelor.s                  1\n",
      "6   Bachelor.s                  1\n"
     ]
    }
   ],
   "source": [
    "df = pd.DataFrame({'Education': ['Bachelor.s', 'PhD', 'Master.s', 'High School', 'Master.s', 'Bachelor.s', 'Bachelor.s' ]})\n",
    "\n",
    "education_order = {'High School': 0, \"Bachelor.s\": 1, \"Master.s\": 2, 'PhD': 3}\n",
    "df['Education_encoded'] = df['Education'].map(education_order)\n",
    "\n",
    "\n",
    "\n",
    "print(df)\n"
   ]
  },
  {
   "cell_type": "markdown",
   "id": "6592893a",
   "metadata": {},
   "source": [
    "**3.Employment Status (Nominal Variable):**\n",
    "\n",
    "Encoding Method: One-hot encoding.\n",
    "Explanation:\n",
    "Employment status is a nominal variable without a clear order. One-hot encoding creates binary columns for each category, preserving the independence of categories."
   ]
  },
  {
   "cell_type": "code",
   "execution_count": 5,
   "id": "1a24b521",
   "metadata": {},
   "outputs": [
    {
     "name": "stdout",
     "output_type": "stream",
     "text": [
      "   Employment_Full-Time  Employment_Part-Time  Employment_Unemployed\n",
      "0                 False                 False                   True\n",
      "1                 False                  True                  False\n",
      "2                  True                 False                  False\n"
     ]
    }
   ],
   "source": [
    "df = pd.DataFrame({'Employment Status': ['Unemployed','Part-Time', 'Full-Time']})\n",
    "\n",
    "df_nom = pd.get_dummies(df, columns=['Employment Status'], prefix='Employment')\n",
    "\n",
    "print(df_nom)\n"
   ]
  },
  {
   "cell_type": "code",
   "execution_count": 6,
   "id": "d58b8126",
   "metadata": {},
   "outputs": [
    {
     "name": "stdout",
     "output_type": "stream",
     "text": [
      "   Temperature  Humidity Weather_Condition Wind_Direction\n",
      "0           50      1.34             Sunny           East\n",
      "1           45      1.06             Sunny           West\n",
      "2           40      0.83             Sunny          South\n",
      "3           35      0.64            Cloudy           East\n",
      "4           30      0.49            Cloudy          North\n"
     ]
    }
   ],
   "source": [
    "#Q7\n",
    "\n",
    "data = { 'Temperature': [50,45,40,35,30,25,20,15],\n",
    "       'Humidity': [1.34,1.06,0.83,0.64,0.49,0.37,0.28,0.21],\n",
    "       'Weather_Condition':['Sunny','Sunny','Sunny','Cloudy','Cloudy','Rainy','Rainy','Rainy'],\n",
    "       'Wind_Direction':['East','West','South','East','North','South','West','North']}\n",
    "df = pd.DataFrame(data)\n",
    "print(df.head())"
   ]
  },
  {
   "cell_type": "code",
   "execution_count": 7,
   "id": "27ecde67",
   "metadata": {},
   "outputs": [
    {
     "name": "stdout",
     "output_type": "stream",
     "text": [
      "   Temperature  Humidity Weather_Condition Wind_Direction  \\\n",
      "0           50      1.34             Sunny           East   \n",
      "1           45      1.06             Sunny           West   \n",
      "2           40      0.83             Sunny          South   \n",
      "3           35      0.64            Cloudy           East   \n",
      "4           30      0.49            Cloudy          North   \n",
      "5           25      0.37             Rainy          South   \n",
      "6           20      0.28             Rainy           West   \n",
      "7           15      0.21             Rainy          North   \n",
      "\n",
      "   Weather_Condition_encoded  Wind_Direction_encoded  \n",
      "0                          2                       0  \n",
      "1                          2                       3  \n",
      "2                          2                       2  \n",
      "3                          0                       0  \n",
      "4                          0                       1  \n",
      "5                          1                       2  \n",
      "6                          1                       3  \n",
      "7                          1                       1  \n"
     ]
    }
   ],
   "source": [
    "from sklearn.preprocessing import LabelEncoder\n",
    "\n",
    "lbl_encoder = LabelEncoder()\n",
    "\n",
    "df['Weather_Condition_encoded'] = lbl_encoder.fit_transform(df['Weather_Condition'])\n",
    "df['Wind_Direction_encoded'] = lbl_encoder.fit_transform(df['Wind_Direction'])\n",
    "\n",
    "print(df)"
   ]
  },
  {
   "cell_type": "code",
   "execution_count": 8,
   "id": "663dd7e6",
   "metadata": {},
   "outputs": [
    {
     "name": "stdout",
     "output_type": "stream",
     "text": [
      "                           Temperature  Humidity  Weather_Condition_encoded  \\\n",
      "Temperature                 150.000000  4.764286                   5.357143   \n",
      "Humidity                      4.764286  0.158736                   0.206786   \n",
      "Weather_Condition_encoded     5.357143  0.206786                   0.696429   \n",
      "Wind_Direction_encoded       -2.857143 -0.101429                   0.357143   \n",
      "\n",
      "                           Wind_Direction_encoded  \n",
      "Temperature                             -2.857143  \n",
      "Humidity                                -0.101429  \n",
      "Weather_Condition_encoded                0.357143  \n",
      "Wind_Direction_encoded                   1.428571  \n"
     ]
    }
   ],
   "source": [
    "cov_matrix = df[['Temperature', 'Humidity', 'Weather_Condition_encoded', 'Wind_Direction_encoded']].cov()\n",
    "print(cov_matrix)"
   ]
  }
 ],
 "metadata": {
  "kernelspec": {
   "display_name": "Python 3 (ipykernel)",
   "language": "python",
   "name": "python3"
  },
  "language_info": {
   "codemirror_mode": {
    "name": "ipython",
    "version": 3
   },
   "file_extension": ".py",
   "mimetype": "text/x-python",
   "name": "python",
   "nbconvert_exporter": "python",
   "pygments_lexer": "ipython3",
   "version": "3.11.5"
  }
 },
 "nbformat": 4,
 "nbformat_minor": 5
}
