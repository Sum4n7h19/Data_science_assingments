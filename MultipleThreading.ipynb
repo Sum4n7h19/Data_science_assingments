{
 "cells": [
  {
   "cell_type": "raw",
   "id": "d0487a28",
   "metadata": {},
   "source": [
    "#Q1\n",
    "Multiple threading refers to performing multiple therads(threads refers to the set of instructions or programs) in a single \n",
    "program or processor.it is used to perform programs which can be executed in parallel or simultaneously\n",
    "threading module is used to hamdle multiple threading."
   ]
  },
  {
   "cell_type": "code",
   "execution_count": 93,
   "id": "2317dc84",
   "metadata": {},
   "outputs": [
    {
     "name": "stdout",
     "output_type": "stream",
     "text": [
      "Executing my_function in thread: Thread-75 (my_function)\n",
      "Executing my_function in thread: Thread-76 (my_function)\n",
      "Executing my_function in thread: Thread-77 (my_function)\n",
      "Executing my_function in thread: Thread-78 (my_function)\n",
      "Executing my_function in thread: Thread-79 (my_function)\n",
      "Number of active threads: 6\n",
      "Current thread name: MainThread\n",
      "Active threads:\n",
      "Thread name: MainThread\n",
      "Thread name: IOPub\n",
      "Thread name: Heartbeat\n",
      "Thread name: Control\n",
      "Thread name: IPythonHistorySavingThread\n",
      "Thread name: Thread-4\n"
     ]
    },
    {
     "name": "stderr",
     "output_type": "stream",
     "text": [
      "C:\\Users\\wwwsu\\AppData\\Local\\Temp\\ipykernel_14384\\1014983715.py:7: DeprecationWarning: currentThread() is deprecated, use current_thread() instead\n",
      "  print(\"Executing my_function in thread:\", threading.currentThread().getName())\n",
      "C:\\Users\\wwwsu\\AppData\\Local\\Temp\\ipykernel_14384\\1014983715.py:7: DeprecationWarning: getName() is deprecated, get the name attribute instead\n",
      "  print(\"Executing my_function in thread:\", threading.currentThread().getName())\n",
      "C:\\Users\\wwwsu\\AppData\\Local\\Temp\\ipykernel_14384\\1014983715.py:17: DeprecationWarning: activeCount() is deprecated, use active_count() instead\n",
      "  print(\"Number of active threads:\", threading.activeCount())\n",
      "C:\\Users\\wwwsu\\AppData\\Local\\Temp\\ipykernel_14384\\1014983715.py:20: DeprecationWarning: currentThread() is deprecated, use current_thread() instead\n",
      "  current_thread = threading.currentThread()\n",
      "C:\\Users\\wwwsu\\AppData\\Local\\Temp\\ipykernel_14384\\1014983715.py:21: DeprecationWarning: getName() is deprecated, get the name attribute instead\n",
      "  print(\"Current thread name:\", current_thread.getName())\n",
      "C:\\Users\\wwwsu\\AppData\\Local\\Temp\\ipykernel_14384\\1014983715.py:26: DeprecationWarning: getName() is deprecated, get the name attribute instead\n",
      "  print(\"Thread name:\", thread.getName())\n"
     ]
    }
   ],
   "source": [
    "#Q2\n",
    "\"\"\"Threading module is used to perform multiple therads in a single program and it gives higher level of interface in creating\n",
    "and synthesizing the program\"\"\"\n",
    "import threading\n",
    "\n",
    "def my_function():\n",
    "    print(\"Executing my_function in thread:\", threading.currentThread().getName())\n",
    "\n",
    "# Create multiple threads\n",
    "threads = []\n",
    "for i in range(5):\n",
    "    thread = threading.Thread(target=my_function)\n",
    "    threads.append(thread)\n",
    "    thread.start()\n",
    "\n",
    "# Get the count of active threads\n",
    "print(\"Number of active threads:\", threading.activeCount())\n",
    "\n",
    "# Get the currently executing thread\n",
    "current_thread = threading.currentThread()\n",
    "print(\"Current thread name:\", current_thread.getName())\n",
    "\n",
    "# Enumerate through all active threads\n",
    "print(\"Active threads:\")\n",
    "for thread in threading.enumerate():\n",
    "    print(\"Thread name:\", thread.getName())\n"
   ]
  },
  {
   "cell_type": "raw",
   "id": "24765fd7",
   "metadata": {},
   "source": [
    "#Q3\n",
    "Certainly! Here's an explanation of the functions you mentioned in the context of Python:\n",
    "\n",
    "1. run(): In Python, the `run` function is not a built-in function, but it is commonly used when working with threads. To use it, you typically create a class that extends the `Thread` class from the `threading` module and override the `run` method within that class. The `run` method contains the code that will be executed when the thread is started. When you call the `start` method on an instance of the class, it internally calls the `run` method, executing the code within it.\n",
    "\n",
    "2. start(): The `start` method is used to start the execution of a thread in Python. It is a method provided by the `Thread` class from the `threading` module. When you create an instance of the `Thread` class and call the `start` method on that instance, it launches a new thread and invokes the `run` method associated with that thread. The code inside the `run` method will be executed concurrently with the main program or other threads.\n",
    "\n",
    "3. join(): The `join` method is used to wait for a thread to complete its execution before proceeding further in Python. It is also a method provided by the `Thread` class. When you call the `join` method on a thread object, the calling thread will be blocked until the target thread finishes. This is useful when you want to ensure that certain operations are completed in a specific order or when you need to wait for the results of a thread's execution before continuing with the main program.\n",
    "\n",
    "4. isAlive(): The `isAlive` method is used to check if a thread is currently active or running in Python. It is a method provided by the `Thread` class. When you call the `isAlive` method on a thread object, it returns a boolean value (`True` or `False`) indicating whether the target thread is alive or not. You can use this method to check the status of a thread and make decisions based on its execution state, such as waiting for a thread to finish or performing actions based on its current status."
   ]
  },
  {
   "cell_type": "code",
   "execution_count": 94,
   "id": "fc6d2618",
   "metadata": {},
   "outputs": [],
   "source": [
    "#Q4\n",
    "def Square():\n",
    "    squares=[m ** 2 for m in range(1,11)]\n",
    "    for j in squares:\n",
    "        print(j)"
   ]
  },
  {
   "cell_type": "code",
   "execution_count": 95,
   "id": "9371399b",
   "metadata": {},
   "outputs": [],
   "source": [
    "thread1 = threading.Thread(target=Square) "
   ]
  },
  {
   "cell_type": "code",
   "execution_count": 96,
   "id": "1ae0f82d",
   "metadata": {},
   "outputs": [
    {
     "name": "stdout",
     "output_type": "stream",
     "text": [
      "1\n",
      "4\n",
      "9\n",
      "16\n",
      "25\n",
      "36\n",
      "49\n",
      "64\n",
      "81\n",
      "100\n"
     ]
    }
   ],
   "source": [
    "thread1.start()"
   ]
  },
  {
   "cell_type": "code",
   "execution_count": 97,
   "id": "2957157e",
   "metadata": {},
   "outputs": [],
   "source": [
    "def Cubes():\n",
    "    cubes=[n ** 3 for n in range(1,11)]\n",
    "    for i in cubes:\n",
    "        print(i)"
   ]
  },
  {
   "cell_type": "code",
   "execution_count": 98,
   "id": "77beaf75",
   "metadata": {},
   "outputs": [],
   "source": [
    "thread2=threading.Thread(target=Cubes)"
   ]
  },
  {
   "cell_type": "code",
   "execution_count": 99,
   "id": "39289f43",
   "metadata": {},
   "outputs": [
    {
     "name": "stdout",
     "output_type": "stream",
     "text": [
      "1\n",
      "8\n",
      "27\n",
      "64\n",
      "125\n",
      "216\n",
      "343\n",
      "512\n",
      "729\n",
      "1000\n"
     ]
    }
   ],
   "source": [
    "thread2.start()"
   ]
  },
  {
   "cell_type": "raw",
   "id": "78e9813b",
   "metadata": {},
   "source": [
    "#Q5\n",
    "advantages and disadvantages. Here are some of them:\n",
    "\n",
    "Advantages of Multithreading:\n",
    "\n",
    "1. Increased Responsiveness\n",
    "\n",
    "2. Enhanced Performance\n",
    "\n",
    "3. Resource Sharing\n",
    "\n",
    "4. Simplified Design\n",
    "Disadvantages of Multithreading:\n",
    "\n",
    "1. Complexity and Synchronization\n",
    "\n",
    "2. Debugging and Testing\n",
    "\n",
    "3. Overhead\n",
    "\n",
    "4. Scalability Limitations\n",
    "\n",
    "\n"
   ]
  },
  {
   "cell_type": "raw",
   "id": "0319c26a",
   "metadata": {},
   "source": [
    "#Q6\n",
    "Certainly! Deadlocks and race conditions are two common synchronization problems that can occur in concurrent programming. Here's an explanation of each:\n",
    "\n",
    "1. Deadlocks:\n",
    "A deadlock occurs when two or more threads or processes are unable to proceed because each is waiting for a resource that is held by another, resulting in a circular dependency. In other words, each thread/process is waiting for a resource that can only be released by another thread/process. As a result, none of the threads/processes can make progress, leading to a deadlock situation.\n",
    "\n",
    "A deadlock typically involves four conditions, known as the necessary conditions for deadlock:\n",
    "\n",
    "- Mutual Exclusion: At least one resource must be held in a non-sharable mode, meaning that only one thread/process can use it at a time.\n",
    "- Hold and Wait: A thread/process holding at least one resource is waiting to acquire additional resources that are currently held by other threads/processes.\n",
    "- No Preemption: Resources cannot be forcibly taken away from a thread/process; they can only be released voluntarily.\n",
    "- Circular Wait: There is a circular chain of two or more threads/processes, where each thread/process is waiting for a resource held by another thread/process in the chain.\n",
    "\n",
    "Deadlocks can cause programs to hang or become unresponsive, as the threads/processes involved are unable to proceed. Preventing and resolving deadlocks require careful design and implementation of synchronization mechanisms, resource allocation strategies, and deadlock detection algorithms.\n",
    "\n",
    "2. Race Conditions:\n",
    "A race condition occurs when the behavior of a program or system depends on the interleaving or timing of multiple threads/processes accessing shared resources or variables, and the outcome of the execution becomes unpredictable. It arises when two or more threads/processes access and manipulate shared data concurrently, without proper synchronization.\n",
    "\n",
    "Race conditions can lead to incorrect or inconsistent results because the order of execution and access to shared resources is indeterminate. The outcome of the program may vary each time it is run, depending on the timing and scheduling of the threads/processes.\n",
    "\n",
    "To avoid race conditions, proper synchronization mechanisms, such as locks, mutexes, or semaphores, need to be employed to ensure mutually exclusive access to shared resources. By synchronizing access to shared data, race conditions can be prevented, and the program's behavior can be made predictable and consistent.\n",
    "\n",
    "Both deadlocks and race conditions are important considerations in concurrent programming, and careful synchronization and resource management techniques should be employed to mitigate these problems and ensure the correctness and reliability of concurrent systems."
   ]
  }
 ],
 "metadata": {
  "kernelspec": {
   "display_name": "Python 3 (ipykernel)",
   "language": "python",
   "name": "python3"
  },
  "language_info": {
   "codemirror_mode": {
    "name": "ipython",
    "version": 3
   },
   "file_extension": ".py",
   "mimetype": "text/x-python",
   "name": "python",
   "nbconvert_exporter": "python",
   "pygments_lexer": "ipython3",
   "version": "3.10.9"
  }
 },
 "nbformat": 4,
 "nbformat_minor": 5
}
