{
  "nbformat": 4,
  "nbformat_minor": 0,
  "metadata": {
    "colab": {
      "provenance": []
    },
    "kernelspec": {
      "name": "python3",
      "display_name": "Python 3"
    },
    "language_info": {
      "name": "python"
    }
  },
  "cells": [
    {
      "cell_type": "markdown",
      "source": [
        "#Q1\n",
        "Sure, here are five functions from the pandas library along with their executions:\n",
        "\n",
        "1. **`read_csv`**: This function is used to read data from a CSV file into a pandas DataFrame.\n",
        "\n",
        "```python\n",
        "import pandas as pd\n",
        "\n",
        "# Read CSV file into a DataFrame\n",
        "data = pd.read_csv('data.csv')\n",
        "\n",
        "# Display the first few rows of the DataFrame\n",
        "print(data.head())\n",
        "```\n",
        "\n",
        "2. **`info`**: This function provides a concise summary of a DataFrame, including information about the data types and non-null values in each column.\n",
        "\n",
        "```python\n",
        "# Display summary information about the DataFrame\n",
        "data.info()\n",
        "```\n",
        "\n",
        "3. **`groupby`**: This function is used to group data in a DataFrame based on one or more columns, and then perform aggregate functions on those groups.\n",
        "\n",
        "```python\n",
        "# Group data by 'category' and calculate the mean of 'value' column for each group\n",
        "grouped_data = data.groupby('category')['value'].mean()\n",
        "\n",
        "# Display the result\n",
        "print(grouped_data)\n",
        "```\n",
        "\n",
        "4. **`fillna`**: This function is used to fill missing values in a DataFrame with specified values.\n",
        "\n",
        "```python\n",
        "# Fill missing values in the 'age' column with the mean age\n",
        "data['age'].fillna(data['age'].mean(), inplace=True)\n",
        "\n",
        "# Display the DataFrame with filled values\n",
        "print(data.head())\n",
        "```\n",
        "\n",
        "5. **`pivot_table`**: This function creates a pivot table from a DataFrame, allowing you to summarize and analyze data in a tabular format.\n",
        "\n",
        "```python\n",
        "# Create a pivot table that shows the mean 'value' for each 'category' and 'month'\n",
        "pivot_table = data.pivot_table(values='value', index='category', columns='month', aggfunc='mean')\n",
        "\n",
        "# Display the pivot table\n",
        "print(pivot_table)\n",
        "```\n",
        "\n",
        "Remember that the above code examples assume you have appropriate data files or DataFrames named 'data.csv' and 'data', and you've imported the pandas library using `import pandas as pd`. Make sure to adjust the code according to your specific use case and data.\n"
      ],
      "metadata": {
        "id": "kjudzyBG2sXw"
      }
    },
    {
      "cell_type": "code",
      "source": [
        "import pandas as pd"
      ],
      "metadata": {
        "id": "ft1F5p1-2xM2"
      },
      "execution_count": 2,
      "outputs": []
    },
    {
      "cell_type": "code",
      "source": [
        "#Q2\n",
        "def reindex_with_increment(df):\n",
        "    new_index = pd.Index(range(1, len(df)*2, 2))\n",
        "    df_reindexed = df.copy()\n",
        "    df_reindexed.index = new_index\n",
        "    return df_reindexed\n",
        "\n",
        "# Example DataFrame with columns 'A', 'B', and 'C'\n",
        "data = {'A': [10, 20, 30],\n",
        "        'B': [15, 25, 35],\n",
        "        'C': [100, 200, 300]}\n",
        "\n",
        "df = pd.DataFrame(data)\n",
        "\n",
        "# Call the function to re-index the DataFrame\n",
        "reindexed_df = reindex_with_increment(df)\n",
        "\n",
        "# Display the re-indexed DataFrame\n",
        "print(reindexed_df)\n"
      ],
      "metadata": {
        "colab": {
          "base_uri": "https://localhost:8080/"
        },
        "id": "2njdeHqj2-1_",
        "outputId": "00d81bd2-1292-48d2-f591-cc7cee439f81"
      },
      "execution_count": 3,
      "outputs": [
        {
          "output_type": "stream",
          "name": "stdout",
          "text": [
            "    A   B    C\n",
            "1  10  15  100\n",
            "3  20  25  200\n",
            "5  30  35  300\n"
          ]
        }
      ]
    },
    {
      "cell_type": "code",
      "source": [
        "#Q3\n",
        "def calculate_sum_of_first_three(df):\n",
        "    # Get the first three values in the 'Values' column\n",
        "    first_three_values = df['Values'][:3]\n",
        "\n",
        "    # Calculate the sum of the first three values\n",
        "    sum_first_three = first_three_values.sum()\n",
        "\n",
        "    # Print the sum to the console\n",
        "    print(\"Sum of the first three values:\", sum_first_three)\n",
        "\n",
        "# Example DataFrame with a 'Values' column\n",
        "data = {'Values': [10, 20, 30, 40, 50]}\n",
        "\n",
        "df = pd.DataFrame(data)\n",
        "\n",
        "# Call the function to calculate and print the sum\n",
        "calculate_sum_of_first_three(df)\n"
      ],
      "metadata": {
        "colab": {
          "base_uri": "https://localhost:8080/"
        },
        "id": "CyPsgj349pxQ",
        "outputId": "b1cff113-9adb-474d-d6e6-344b5a863e77"
      },
      "execution_count": 14,
      "outputs": [
        {
          "output_type": "stream",
          "name": "stdout",
          "text": [
            "Sum of the first three values: 60\n"
          ]
        }
      ]
    },
    {
      "cell_type": "code",
      "source": [
        "#Q4\n",
        "def add_word_count_column(df):\n",
        "    # Split each text into words and count the number of words\n",
        "    df['Word_Count'] = df['Text'].apply(lambda x: len(x.split()))\n",
        "    return df\n",
        "\n",
        "# Example DataFrame with a 'Text' column\n",
        "data = {'Text': [\"This is a sample text.\",\n",
        "                 \"Another example with more words.\",\n",
        "                 \"Short text.\"]}\n",
        "\n",
        "df = pd.DataFrame(data)\n",
        "\n",
        "# Call the function to add the 'Word_Count' column\n",
        "df_with_word_count = add_word_count_column(df)\n",
        "\n",
        "# Display the DataFrame with the new 'Word_Count' column\n",
        "print(df_with_word_count)\n"
      ],
      "metadata": {
        "colab": {
          "base_uri": "https://localhost:8080/"
        },
        "id": "-JLoO5p79wh2",
        "outputId": "cb542d11-afd8-45b9-d360-bea6365abb02"
      },
      "execution_count": 15,
      "outputs": [
        {
          "output_type": "stream",
          "name": "stdout",
          "text": [
            "                               Text  Word_Count\n",
            "0            This is a sample text.           5\n",
            "1  Another example with more words.           5\n",
            "2                       Short text.           2\n"
          ]
        }
      ]
    },
    {
      "cell_type": "markdown",
      "source": [
        "#Q5\n",
        "In pandas, `DataFrame.size` and `DataFrame.shape` are both attributes of a DataFrame, but they provide different information about the structure of the DataFrame:\n",
        "\n",
        "1. **`DataFrame.size`**:\n",
        "   - This attribute returns the total number of elements in the DataFrame, which is equal to the product of the number of rows and the number of columns.\n",
        "   - It gives you the total count of cells in the DataFrame, including cells with missing or NaN values.\n",
        "   - The value returned by `DataFrame.size` is an integer.\n",
        "\n",
        "Example:\n",
        "```python\n",
        "import pandas as pd\n",
        "\n",
        "data = {'A': [1, 2, 3],\n",
        "        'B': [4, 5, 6]}\n",
        "\n",
        "df = pd.DataFrame(data)\n",
        "\n",
        "print(df.size)  # Output: 6 (2 rows * 3 columns)\n",
        "```\n",
        "\n",
        "2. **`DataFrame.shape`**:\n",
        "   - This attribute returns a tuple representing the dimensions of the DataFrame.\n",
        "   - The tuple contains two elements: the number of rows and the number of columns.\n",
        "   - It provides a concise way to understand the structure of the DataFrame.\n",
        "\n",
        "Example:\n",
        "```python\n",
        "import pandas as pd\n",
        "\n",
        "data = {'A': [1, 2, 3],\n",
        "        'B': [4, 5, 6]}\n",
        "\n",
        "df = pd.DataFrame(data)\n",
        "\n",
        "print(df.shape)  # Output: (3, 2) (3 rows, 2 columns)\n",
        "```\n",
        "\n",
        "In summary, `DataFrame.size` gives you the total number of elements in the DataFrame, while `DataFrame.shape` gives you the dimensions of the DataFrame as a tuple (number of rows, number of columns)."
      ],
      "metadata": {
        "id": "iSja7d_R94_G"
      }
    },
    {
      "cell_type": "markdown",
      "source": [
        "#Q6\n",
        "# Read Excel file into a DataFrame\n",
        "df = pd.read_excel('file.xlsx')\n",
        "\n",
        "# Display the DataFrame\n",
        "print(df)\n"
      ],
      "metadata": {
        "id": "1loXTwuJ-IVF"
      }
    },
    {
      "cell_type": "code",
      "source": [
        "#Q7\n",
        "def extract_username(df):\n",
        "    # Extract usernames from email addresses using string splitting\n",
        "    df['Username'] = df['Email'].str.split('@').str[0]\n",
        "    return df\n",
        "\n",
        "# Example DataFrame with an 'Email' column\n",
        "data = {'Email': ['john.doe@example.com',\n",
        "                  'jane.smith@example.com',\n",
        "                  'alice.wonderland@example.com']}\n",
        "\n",
        "df = pd.DataFrame(data)\n",
        "\n",
        "# Call the function to extract usernames and create the 'Username' column\n",
        "df_with_username = extract_username(df)\n",
        "\n",
        "# Display the DataFrame with the new 'Username' column\n",
        "print(df_with_username)\n"
      ],
      "metadata": {
        "colab": {
          "base_uri": "https://localhost:8080/"
        },
        "id": "mx39GS-v-UzN",
        "outputId": "4dd59b3b-e231-47b3-d8ac-b6fd70b51cf8"
      },
      "execution_count": 16,
      "outputs": [
        {
          "output_type": "stream",
          "name": "stdout",
          "text": [
            "                          Email          Username\n",
            "0          john.doe@example.com          john.doe\n",
            "1        jane.smith@example.com        jane.smith\n",
            "2  alice.wonderland@example.com  alice.wonderland\n"
          ]
        }
      ]
    },
    {
      "cell_type": "code",
      "source": [
        "#Q8\n",
        "def select_rows(df):\n",
        "    selected_rows = df[(df['A'] > 5) & (df['B'] < 10)]\n",
        "    return selected_rows\n",
        "\n",
        "# Example DataFrame with columns 'A', 'B', and 'C'\n",
        "data = {'A': [3, 8, 6, 2, 9],\n",
        "        'B': [5, 2, 9, 3, 1],\n",
        "        'C': [1, 7, 4, 5, 2]}\n",
        "\n",
        "df = pd.DataFrame(data)\n",
        "\n",
        "# Call the function to select rows based on the conditions\n",
        "selected_df = select_rows(df)\n",
        "\n",
        "# Display the selected DataFrame\n",
        "print(selected_df)\n"
      ],
      "metadata": {
        "colab": {
          "base_uri": "https://localhost:8080/"
        },
        "id": "WogRbw8G-Z49",
        "outputId": "17a978a0-56ef-4776-e76c-0c210e3d5b68"
      },
      "execution_count": 10,
      "outputs": [
        {
          "output_type": "stream",
          "name": "stdout",
          "text": [
            "   A  B  C\n",
            "1  8  2  7\n",
            "2  6  9  4\n",
            "4  9  1  2\n"
          ]
        }
      ]
    },
    {
      "cell_type": "code",
      "source": [
        "#Q9\n",
        "def calculate_stats(df):\n",
        "    mean_value = df['Values'].mean()\n",
        "    median_value = df['Values'].median()\n",
        "    std_dev = df['Values'].std()\n",
        "    return mean_value, median_value, std_dev\n",
        "\n",
        "# Example DataFrame with a 'Values' column\n",
        "data = {'Values': [10, 20, 30, 40, 50]}\n",
        "\n",
        "df = pd.DataFrame(data)\n",
        "\n",
        "# Call the function to calculate statistics\n",
        "mean, median, std_dev = calculate_stats(df)\n",
        "\n",
        "# Display the calculated statistics\n",
        "print(\"Mean:\", mean)\n",
        "print(\"Median:\", median)\n",
        "print(\"Standard Deviation:\", std_dev)\n"
      ],
      "metadata": {
        "colab": {
          "base_uri": "https://localhost:8080/"
        },
        "id": "bEgGbFPh_nRN",
        "outputId": "9508beed-bbda-4e9d-a983-55f1467af757"
      },
      "execution_count": 17,
      "outputs": [
        {
          "output_type": "stream",
          "name": "stdout",
          "text": [
            "Mean: 30.0\n",
            "Median: 30.0\n",
            "Standard Deviation: 15.811388300841896\n"
          ]
        }
      ]
    },
    {
      "cell_type": "code",
      "source": [
        "#Q10\n",
        "def calculate_moving_average(df):\n",
        "    df['MovingAverage'] = df['Sales'].rolling(window=7, min_periods=1).mean()\n",
        "    return df\n",
        "\n",
        "# Example DataFrame with 'Sales' and 'Date' columns\n",
        "data = {'Sales': [50, 45, 60, 70, 55, 80, 75, 90, 65, 70],\n",
        "        'Date': pd.date_range('2023-08-01', periods=10)}\n",
        "\n",
        "df = pd.DataFrame(data)\n",
        "\n",
        "# Call the function to calculate the moving average\n",
        "df_with_moving_avg = calculate_moving_average(df)\n",
        "\n",
        "# Display the DataFrame with the new 'MovingAverage' column\n",
        "print(df_with_moving_avg)\n"
      ],
      "metadata": {
        "colab": {
          "base_uri": "https://localhost:8080/"
        },
        "id": "yHNF1A-4-hZ2",
        "outputId": "02c13e88-cb44-42bd-a205-8e822af0d9eb"
      },
      "execution_count": 11,
      "outputs": [
        {
          "output_type": "stream",
          "name": "stdout",
          "text": [
            "   Sales       Date  MovingAverage\n",
            "0     50 2023-08-01      50.000000\n",
            "1     45 2023-08-02      47.500000\n",
            "2     60 2023-08-03      51.666667\n",
            "3     70 2023-08-04      56.250000\n",
            "4     55 2023-08-05      56.000000\n",
            "5     80 2023-08-06      60.000000\n",
            "6     75 2023-08-07      62.142857\n",
            "7     90 2023-08-08      67.857143\n",
            "8     65 2023-08-09      70.714286\n",
            "9     70 2023-08-10      72.142857\n"
          ]
        }
      ]
    },
    {
      "cell_type": "code",
      "source": [
        "#Q11\n",
        "def add_weekday_column(df):\n",
        "    df['Weekday'] = df['Date'].dt.strftime('%A')\n",
        "    return df\n",
        "\n",
        "# Example DataFrame with a 'Date' column\n",
        "data = {'Date': pd.to_datetime(['2023-01-01', '2023-01-02', '2023-01-03', '2023-01-04', '2023-01-05'])}\n",
        "\n",
        "df = pd.DataFrame(data)\n",
        "\n",
        "# Call the function to add the 'Weekday' column\n",
        "df_with_weekday = add_weekday_column(df)\n",
        "\n",
        "# Display the DataFrame with the new 'Weekday' column\n",
        "print(df_with_weekday)\n"
      ],
      "metadata": {
        "colab": {
          "base_uri": "https://localhost:8080/"
        },
        "id": "GOXDloL1_EZM",
        "outputId": "4e330cb7-131a-46fd-d29f-496f15dffc3a"
      },
      "execution_count": 13,
      "outputs": [
        {
          "output_type": "stream",
          "name": "stdout",
          "text": [
            "        Date    Weekday\n",
            "0 2023-01-01     Sunday\n",
            "1 2023-01-02     Monday\n",
            "2 2023-01-03    Tuesday\n",
            "3 2023-01-04  Wednesday\n",
            "4 2023-01-05   Thursday\n"
          ]
        }
      ]
    },
    {
      "cell_type": "code",
      "source": [
        "#Q12\n",
        "import pandas as pd\n",
        "\n",
        "def select_rows_between_dates(df):\n",
        "    start_date = '2023-01-01'\n",
        "    end_date = '2023-01-31'\n",
        "    selected_rows = df[(df['Date'] >= start_date) & (df['Date'] <= end_date)]\n",
        "    return selected_rows\n",
        "\n",
        "# Example DataFrame with a 'Date' column\n",
        "data = {'Date': pd.to_datetime(['2023-01-15', '2023-01-25', '2023-02-05', '2023-01-10', '2023-02-01'])}\n",
        "\n",
        "df = pd.DataFrame(data)\n",
        "\n",
        "# Call the function to select rows between the specified dates\n",
        "selected_df = select_rows_between_dates(df)\n",
        "\n",
        "# Display the selected DataFrame\n",
        "print(selected_df)\n"
      ],
      "metadata": {
        "colab": {
          "base_uri": "https://localhost:8080/"
        },
        "id": "kh0E9Bre-om_",
        "outputId": "34156389-6516-4f83-8d51-6797acf92f45"
      },
      "execution_count": 18,
      "outputs": [
        {
          "output_type": "stream",
          "name": "stdout",
          "text": [
            "        Date\n",
            "0 2023-01-15\n",
            "1 2023-01-25\n",
            "3 2023-01-10\n"
          ]
        }
      ]
    },
    {
      "cell_type": "markdown",
      "source": [
        "#Q13\n",
        "To use the basic functions of pandas, you need to import the `pandas` library itself. Here's how you can import it:\n",
        "\n",
        "```python\n",
        "import pandas as pd\n",
        "```\n",
        "\n",
        "By convention, the `pandas` library is usually imported with the alias `pd`, which makes it easier to refer to pandas functions and classes using the `pd` prefix. Once you've imported the `pandas` library, you can use its functions and classes to work with DataFrames, Series, and various data manipulation and analysis tasks."
      ],
      "metadata": {
        "id": "15CsOfA3-t21"
      }
    }
  ]
}