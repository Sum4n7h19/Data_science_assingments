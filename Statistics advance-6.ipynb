{
 "cells": [
  {
   "cell_type": "markdown",
   "id": "de6cca6e",
   "metadata": {},
   "source": [
    "Q1: Assumptions and Violations in ANOVA:\n",
    "Assumptions required for the analysis of variance (ANOVA) include:\n",
    "1. Independence: Observations within and between groups should be independent.\n",
    "2. Normality: The residuals (differences between observed and predicted values) should follow a normal distribution.\n",
    "3. Homogeneity of Variance: The variance of the residuals should be approximately equal for all groups (homoscedasticity).\n",
    "\n",
    "Violations of these assumptions can impact the validity of ANOVA results. For example:\n",
    "- Violation of independence can lead to pseudoreplication, where the same data is treated as independent.\n",
    "- Violation of normality can affect the validity of p-values and confidence intervals.\n",
    "- Violation of homogeneity of variance can lead to unreliable F-statistics and p-values.\n",
    "\n",
    "Q2: Types of ANOVA:\n",
    "There are three main types of ANOVA:\n",
    "1. One-Way ANOVA: Used to compare the means of three or more groups when you have one categorical independent variable.\n",
    "2. Two-Way ANOVA: Used when there are two categorical independent variables (factors), and you want to examine their main effects and interaction.\n",
    "3. N-Way ANOVA: Generalization of two-way ANOVA to more than two independent variables.\n",
    "\n",
    "In a one-way ANOVA, you compare the means of different groups. In a two-way ANOVA, you explore the influence of two factors and their interaction on a dependent variable.\n",
    "\n",
    "Q3: Partitioning of Variance in ANOVA:\n",
    "The partitioning of variance in ANANOVA involves breaking down the total variability in the data into different sources:\n",
    "- Total Sum of Squares (SST): The total variability in the data.\n",
    "- Explained Sum of Squares (SSE): The variability attributed to the independent variable(s) or factors.\n",
    "- Residual Sum of Squares (SSR): The unexplained variability or error in the model.\n",
    "\n",
    "Understanding this partitioning is important because it allows you to assess the proportion of variance explained by the factors, helping you determine if the differences are statistically significant.\n"
   ]
  },
  {
   "cell_type": "code",
   "execution_count": 1,
   "id": "cd00d122",
   "metadata": {},
   "outputs": [
    {
     "name": "stdout",
     "output_type": "stream",
     "text": [
      "223.73333333333335 20.400000000000002 203.33333333333334\n"
     ]
    }
   ],
   "source": [
    "#Q4\n",
    "import numpy as np\n",
    "from scipy.stats import f_oneway\n",
    "\n",
    "# Data for different groups\n",
    "group1 = [5, 7, 8, 6, 5]\n",
    "group2 = [9, 11, 12, 10, 9]\n",
    "group3 = [14, 16, 17, 15, 14]\n",
    "\n",
    "# Combine data into a single array\n",
    "data = np.concatenate([group1, group2, group3])\n",
    "\n",
    "# Calculate one-way ANOVA\n",
    "f_statistic, p_value = f_oneway(group1, group2, group3)\n",
    "\n",
    "# Calculate SST, SSE, and SSR\n",
    "n = len(data)\n",
    "grand_mean = np.mean(data)\n",
    "sst = np.sum((data - grand_mean) ** 2)\n",
    "sse = np.sum((group1 - np.mean(group1)) ** 2) + np.sum((group2 - np.mean(group2)) ** 2) + np.sum((group3 - np.mean(group3)) ** 2)\n",
    "ssr = sst - sse\n",
    "print(sst,sse,ssr)"
   ]
  },
  {
   "cell_type": "code",
   "execution_count": 2,
   "id": "0acdd360",
   "metadata": {},
   "outputs": [
    {
     "name": "stdout",
     "output_type": "stream",
     "text": [
      "0.03237107707340793\n",
      "0.08712907082472318\n",
      "0.5196155385847366\n"
     ]
    }
   ],
   "source": [
    "#Q5\n",
    "import statsmodels.api as sm\n",
    "from statsmodels.formula.api import ols\n",
    "\n",
    "# Create a DataFrame with your data\n",
    "import pandas as pd\n",
    "data = pd.DataFrame({'A': [1, 1, 2, 2, 3, 3],\n",
    "                     'B': [1, 2, 1, 2, 1, 2],\n",
    "                     'Y': [5, 7, 6, 8, 9, 10]})\n",
    "\n",
    "# Fit a two-way ANOVA model\n",
    "model = ols('Y ~ A * B', data=data).fit()\n",
    "anova_table = sm.stats.anova_lm(model, typ=2)\n",
    "\n",
    "# Extract main effects and interaction effect\n",
    "main_effect_A = anova_table.loc['A', 'PR(>F)']\n",
    "main_effect_B = anova_table.loc['B', 'PR(>F)']\n",
    "interaction_effect = anova_table.loc['A:B', 'PR(>F)']\n",
    "\n",
    "print(main_effect_A)\n",
    "print(main_effect_B)\n",
    "print(interaction_effect)"
   ]
  },
  {
   "cell_type": "markdown",
   "id": "8b73b529",
   "metadata": {},
   "source": [
    "\n",
    "Q6: Interpretation of ANOVA Results:\n",
    "In a one-way ANOVA with an F-statistic of 5.23 and a p-value of 0.02, you can conclude the following:\n",
    "\n",
    "- The F-statistic measures the ratio of variance explained by the group differences to the variance within the groups.\n",
    "- The p-value (0.02) is less than the chosen significance level (e.g., 0.05), indicating that there is evidence to reject the null hypothesis.\n",
    "\n",
    "Interpretation:\n",
    "- There are statistically significant differences between at least two of the groups.\n",
    "- In other words, the teaching methods have a significant effect on student performance.\n",
    "- Further post-hoc tests or pairwise comparisons can help identify which groups differ significantly.\n",
    "\n",
    "Keep in mind that a significant ANOVA result indicates group differences but doesn't specify which group(s) are different from the others."
   ]
  },
  {
   "cell_type": "markdown",
   "id": "8d3b3f0d",
   "metadata": {},
   "source": [
    "Q7: Handling Missing Data in Repeated Measures ANOVA:\n",
    "Handling missing data in a repeated measures ANOVA can be challenging but is essential to maintain the integrity of the analysis. Some common methods to handle missing data include:\n",
    "\n",
    "1. Listwise Deletion: Exclude participants with any missing data. This method is straightforward but can lead to reduced sample size and potentially biased results if the missing data is not random.\n",
    "\n",
    "2. Pairwise Deletion: Include all available data points for each comparison, even if it means different subjects for different comparisons. This method uses all available data but can lead to variability in sample sizes across comparisons.\n",
    "\n",
    "3. Imputation: Fill in missing values with estimates (e.g., mean, median, regression-based) to complete the dataset. Imputation methods assume that the data are missing at random. However, the choice of imputation method can affect the results.\n",
    "\n",
    "Consequences of using different methods:\n",
    "- Listwise deletion can reduce sample size, potentially leading to lower statistical power.\n",
    "- Pairwise deletion uses all available data but can lead to varying sample sizes and may not account for missing data patterns.\n",
    "- Imputation can introduce bias if the imputation model is not accurate and does not fully account for missing data patterns.\n",
    "\n",
    "The choice of method should be based on the nature of the data and the assumptions made about missing data.\n",
    "\n",
    "Q8: Common Post-Hoc Tests:\n",
    "Common post-hoc tests used after ANOVA include:\n",
    "1. Tukey's HSD (Honestly Significant Difference): Used to compare all pairs of groups to identify which specific pairs differ significantly.\n",
    "2. Bonferroni Correction: Adjusts the significance level for multiple comparisons to control for the family-wise error rate.\n",
    "3. Sidak Correction: Similar to Bonferroni, but it is slightly less conservative.\n",
    "4. Scheffé's Test: Used for comparing multiple groups in a more flexible manner, especially when sample sizes are unequal.\n",
    "\n",
    "You would use a post-hoc test when you have conducted an ANOVA and found a significant difference among groups. Post-hoc tests help pinpoint which specific groups are different from each other.\n"
   ]
  },
  {
   "cell_type": "code",
   "execution_count": 3,
   "id": "f8a1d89c",
   "metadata": {},
   "outputs": [
    {
     "name": "stdout",
     "output_type": "stream",
     "text": [
      "F-statistic: 11.581967213114753\n",
      "P-value: 0.00023341261881643774\n",
      "There is a significant difference between at least one pair of diets.\n"
     ]
    }
   ],
   "source": [
    "#Q9\n",
    "from scipy import stats\n",
    "\n",
    "# Sample data for each diet\n",
    "diet_A = [4, 5, 6, 4, 3, 5, 6, 7, 3, 5]\n",
    "diet_B = [5, 6, 7, 4, 6, 5, 7, 8, 6, 5]\n",
    "diet_C = [6, 7, 8, 7, 9, 8, 7, 6, 8, 7]\n",
    "\n",
    "# Perform one-way ANOVA\n",
    "f_statistic, p_value = stats.f_oneway(diet_A, diet_B, diet_C)\n",
    "\n",
    "# Report the results\n",
    "print(f\"F-statistic: {f_statistic}\")\n",
    "print(f\"P-value: {p_value}\")\n",
    "\n",
    "# Interpretation\n",
    "if p_value < 0.05:\n",
    "    print(\"There is a significant difference between at least one pair of diets.\")\n",
    "else:\n",
    "    print(\"There is no significant difference between the diets.\")\n"
   ]
  },
  {
   "cell_type": "code",
   "execution_count": null,
   "id": "cf714171",
   "metadata": {},
   "outputs": [],
   "source": [
    "#Q10\n",
    "import statsmodels.api as sm\n",
    "from statsmodels.formula.api import ols\n",
    "\n",
    "# Create a DataFrame with your data\n",
    "import pandas as pd\n",
    "\n",
    "# Assuming you have a DataFrame 'data' with columns: 'Time', 'Program', and 'ExperienceLevel'\n",
    "model = ols('Time ~ Program * ExperienceLevel', data=data).fit()\n",
    "anova_table = sm.stats.anova_lm(model, typ=2)\n",
    "\n",
    "# Report the results\n",
    "print(anova_table)\n",
    "\n",
    "'''/* Time data for each employee and program */ with the actual time data. The C() function in the formula indicates categorical variables.'''\n"
   ]
  },
  {
   "cell_type": "code",
   "execution_count": 5,
   "id": "fd24fdfc",
   "metadata": {},
   "outputs": [
    {
     "name": "stdout",
     "output_type": "stream",
     "text": [
      "T-statistic: -2.85178292166329\n",
      "P-value: 0.010591036481113826\n",
      "There is a significant difference in test scores between the control and experimental groups.\n"
     ]
    }
   ],
   "source": [
    "#q11\n",
    "from scipy import stats\n",
    "\n",
    "# Sample data for the two groups\n",
    "control_group = [85, 88, 90, 82, 87, 89, 84, 86, 92, 88]\n",
    "experimental_group = [90, 92, 94, 85, 88, 91, 93, 89, 95, 92]\n",
    "\n",
    "# Perform a two-sample t-test\n",
    "t_statistic, p_value = stats.ttest_ind(control_group, experimental_group)\n",
    "\n",
    "# Report the results\n",
    "print(f\"T-statistic: {t_statistic}\")\n",
    "print(f\"P-value: {p_value}\")\n",
    "\n",
    "# Interpretation\n",
    "if p_value < 0.05:\n",
    "    print(\"There is a significant difference in test scores between the control and experimental groups.\")\n",
    "else:\n",
    "    print(\"There is no significant difference in test scores between the groups.\")\n"
   ]
  },
  {
   "cell_type": "code",
   "execution_count": null,
   "id": "7a011c19",
   "metadata": {},
   "outputs": [],
   "source": [
    "#Q12\n",
    "import pandas as pd\n",
    "import pingouin as pg\n",
    "from statsmodels.stats.anova import AnovaRM\n",
    "\n",
    "# Assuming you have a DataFrame with columns 'Store', 'Day', and 'Sales'\n",
    "# where 'Store' has values 'A', 'B', 'C', and 'Day' has values from 1 to 30\n",
    "# and 'Sales' contains the daily sales data\n",
    "\n",
    "# Example data creation\n",
    "data = {'Store': ['A']*30 + ['B']*30 + ['C']*30,\n",
    "        'Day': list(range(1, 31))*3,\n",
    "        'Sales': [/* Sales data for each day and store */]}\n",
    "\n",
    "df = pd.DataFrame(data)\n",
    "\n",
    "# Repeated measures ANOVA\n",
    "aovrm = AnovaRM(df, 'Sales', 'Day', within=['Store'])\n",
    "res = aovrm.fit()\n",
    "\n",
    "# Print ANOVA results\n",
    "print(res)\n",
    "\n",
    "# Post-hoc test\n",
    "posthoc_res = pg.pairwise_ttests(data=df, dv='Sales', within='Store', subject='Day', padjust='bonf')\n",
    "\n",
    "# Print post-hoc results\n",
    "print(posthoc_res)\n",
    "\n",
    "'''/* Sales data for each day and store */ with the actual sales data. The within parameter in the ANOVA indicates that you are comparing measurements within the 'Store' variable.''''\n"
   ]
  },
  {
   "cell_type": "code",
   "execution_count": null,
   "id": "4aa6821e",
   "metadata": {},
   "outputs": [],
   "source": []
  }
 ],
 "metadata": {
  "kernelspec": {
   "display_name": "Python 3 (ipykernel)",
   "language": "python",
   "name": "python3"
  },
  "language_info": {
   "codemirror_mode": {
    "name": "ipython",
    "version": 3
   },
   "file_extension": ".py",
   "mimetype": "text/x-python",
   "name": "python",
   "nbconvert_exporter": "python",
   "pygments_lexer": "ipython3",
   "version": "3.11.5"
  }
 },
 "nbformat": 4,
 "nbformat_minor": 5
}
