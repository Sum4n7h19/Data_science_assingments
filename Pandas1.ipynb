{
  "cells": [
    {
      "cell_type": "code",
      "execution_count": 2,
      "id": "508af264",
      "metadata": {
        "id": "508af264"
      },
      "outputs": [],
      "source": [
        "import pandas as pd"
      ]
    },
    {
      "cell_type": "code",
      "execution_count": 3,
      "id": "20745467",
      "metadata": {
        "colab": {
          "base_uri": "https://localhost:8080/"
        },
        "id": "20745467",
        "outputId": "a23a6ad6-fa2a-45f5-9dac-5cae5a38a91c"
      },
      "outputs": [
        {
          "output_type": "stream",
          "name": "stdout",
          "text": [
            "0     4\n",
            "1     8\n",
            "2    15\n",
            "3    16\n",
            "4    23\n",
            "5    42\n",
            "dtype: int64\n"
          ]
        }
      ],
      "source": [
        "#Q1\n",
        "data=[4, 8, 15, 16, 23,42]\n",
        "series=pd.Series(data)\n",
        "print(series)"
      ]
    },
    {
      "cell_type": "code",
      "execution_count": 4,
      "id": "5574b25d",
      "metadata": {
        "colab": {
          "base_uri": "https://localhost:8080/"
        },
        "id": "5574b25d",
        "outputId": "0fe1d161-3012-41a8-f86b-f87421a97cc2"
      },
      "outputs": [
        {
          "output_type": "stream",
          "name": "stdout",
          "text": [
            "[1, 4, 27, 256, 3125, 46656, 823543, 16777216, 387420489, 10000000000]\n"
          ]
        }
      ],
      "source": [
        "#Q2\n",
        "data2=[]\n",
        "for i in range(1,10+1):\n",
        "    i=i**i\n",
        "    data2.append(i)\n",
        "print(data2)\n",
        ""
      ]
    },
    {
      "cell_type": "code",
      "execution_count": 5,
      "id": "e11eb7b6",
      "metadata": {
        "colab": {
          "base_uri": "https://localhost:8080/"
        },
        "id": "e11eb7b6",
        "outputId": "9f3ec86c-d4f7-477e-fe00-b1b29625f059"
      },
      "outputs": [
        {
          "output_type": "stream",
          "name": "stdout",
          "text": [
            "0              1\n",
            "1              4\n",
            "2             27\n",
            "3            256\n",
            "4           3125\n",
            "5          46656\n",
            "6         823543\n",
            "7       16777216\n",
            "8      387420489\n",
            "9    10000000000\n",
            "dtype: int64\n"
          ]
        }
      ],
      "source": [
        "dat2=data2\n",
        "series2=pd.Series(dat2)\n",
        "print(series2)"
      ]
    },
    {
      "cell_type": "code",
      "execution_count": 6,
      "id": "f5860e4b",
      "metadata": {
        "colab": {
          "base_uri": "https://localhost:8080/"
        },
        "id": "f5860e4b",
        "outputId": "01e92d73-0a4a-4696-9fc4-688d8740ad02"
      },
      "outputs": [
        {
          "output_type": "stream",
          "name": "stdout",
          "text": [
            "     Name Age  Gender\n",
            "0   Alice  25  Female\n",
            "1     Bob  30    male\n",
            "2  Claire  27  Female\n"
          ]
        }
      ],
      "source": [
        "#Q3\n",
        "data3={\n",
        "    'Name':[\"Alice\",\"Bob\",\"Claire\"],\n",
        "    \"Age\":[\"25\",\"30\",\"27\"],\n",
        "    \"Gender\":[\"Female\",\"male\",\"Female\"],\n",
        "}\n",
        "datframe=pd.DataFrame(data3)\n",
        "print(datframe)"
      ]
    },
    {
      "cell_type": "markdown",
      "id": "1d5411be",
      "metadata": {
        "id": "1d5411be"
      },
      "source": [
        "#Q4\n",
        "In Pandas, a DataFrame is a two-dimensional tabular data structure, similar to a spreadsheet or an SQL table. It is a collection of Series objects, where each Series represents a column of data. A DataFrame can contain different data types in its columns and can handle data of heterogeneous types.\n",
        "\n",
        "On the other hand, a Pandas Series is a one-dimensional labeled array capable of holding any data type. It is similar to a list or a NumPy array but has an associated set of labels, called the index, which allows for easy and efficient data alignment."
      ]
    },
    {
      "cell_type": "code",
      "execution_count": 7,
      "id": "4bdbb449",
      "metadata": {
        "colab": {
          "base_uri": "https://localhost:8080/"
        },
        "id": "4bdbb449",
        "outputId": "29476805-860b-49a8-a4c4-bc25f2c17256"
      },
      "outputs": [
        {
          "output_type": "stream",
          "name": "stdout",
          "text": [
            "     Name Age  Gender\n",
            "0   Alice  25  Female\n",
            "1     Bob  30    male\n",
            "2  Claire  27  Female \n",
            "\n",
            "0              1\n",
            "1              4\n",
            "2             27\n",
            "3            256\n",
            "4           3125\n",
            "5          46656\n",
            "6         823543\n",
            "7       16777216\n",
            "8      387420489\n",
            "9    10000000000\n",
            "dtype: int64\n"
          ]
        }
      ],
      "source": [
        "#ex:\n",
        "#dataframe\n",
        "data3={\n",
        "    'Name':[\"Alice\",\"Bob\",\"Claire\"],\n",
        "    \"Age\":[\"25\",\"30\",\"27\"],\n",
        "    \"Gender\":[\"Female\",\"male\",\"Female\"],\n",
        "}\n",
        "datframe=pd.DataFrame(data3)\n",
        "print(datframe,'\\n')\n",
        "\n",
        "#Series\n",
        "series2=pd.Series(dat2)\n",
        "print(series2)"
      ]
    },
    {
      "cell_type": "markdown",
      "id": "4e039a7c",
      "metadata": {
        "id": "4e039a7c"
      },
      "source": [
        "#Q5\n",
        " What are some common functions you can use to manipulate data in a Pandas DataFrame? Can you give an example of when you might use one of these functions?\n",
        "\n",
        "Pandas provides a wide range of functions to manipulate data in a DataFrame. Some common functions include:\n",
        "\n",
        "head(): It returns the first few rows of the DataFrame (default 5 rows).\n",
        "\n",
        "tail(): It returns the last few rows of the DataFrame (default 5 rows).\n",
        "\n",
        "info(): It provides a concise summary of the DataFrame, including column names, non-null values, and data types.\n",
        "\n",
        "describe(): It generates descriptive statistics of the DataFrame, such as count, mean, min, max, etc.\n",
        "\n",
        "drop(): It is used to remove rows or columns from the DataFrame.\n",
        "\n",
        "groupby(): It is used to group data based on a specific column(s) and perform aggregate functions on the grouped data."
      ]
    },
    {
      "cell_type": "code",
      "execution_count": 13,
      "id": "ed62be08",
      "metadata": {
        "id": "ed62be08"
      },
      "outputs": [],
      "source": [
        "url = \"https://archive.ics.uci.edu/ml/machine-learning-databases/iris/iris.data\"\n",
        "columns = ['sepal_length', 'sepal_width', 'petal_length', 'petal_width', 'class']\n",
        "df = pd.read_csv(url, names=columns)"
      ]
    },
    {
      "cell_type": "code",
      "execution_count": 14,
      "id": "45356bb0",
      "metadata": {
        "colab": {
          "base_uri": "https://localhost:8080/"
        },
        "id": "45356bb0",
        "outputId": "9168dd20-5255-4022-d1e4-62e7fa6cde76"
      },
      "outputs": [
        {
          "output_type": "stream",
          "name": "stdout",
          "text": [
            "   sepal_length  sepal_width  petal_length  petal_width        class\n",
            "0           5.1          3.5           1.4          0.2  Iris-setosa\n",
            "1           4.9          3.0           1.4          0.2  Iris-setosa\n",
            "2           4.7          3.2           1.3          0.2  Iris-setosa\n",
            "3           4.6          3.1           1.5          0.2  Iris-setosa\n",
            "4           5.0          3.6           1.4          0.2  Iris-setosa\n"
          ]
        }
      ],
      "source": [
        "print(df.head())"
      ]
    },
    {
      "cell_type": "code",
      "source": [
        "print(df.tail())"
      ],
      "metadata": {
        "colab": {
          "base_uri": "https://localhost:8080/"
        },
        "id": "4czP8IwYoCiK",
        "outputId": "03fb4898-7167-4ad5-f75c-4a19287823e8"
      },
      "id": "4czP8IwYoCiK",
      "execution_count": 15,
      "outputs": [
        {
          "output_type": "stream",
          "name": "stdout",
          "text": [
            "     sepal_length  sepal_width  petal_length  petal_width           class\n",
            "145           6.7          3.0           5.2          2.3  Iris-virginica\n",
            "146           6.3          2.5           5.0          1.9  Iris-virginica\n",
            "147           6.5          3.0           5.2          2.0  Iris-virginica\n",
            "148           6.2          3.4           5.4          2.3  Iris-virginica\n",
            "149           5.9          3.0           5.1          1.8  Iris-virginica\n"
          ]
        }
      ]
    },
    {
      "cell_type": "code",
      "source": [
        "print(df.tail())"
      ],
      "metadata": {
        "colab": {
          "base_uri": "https://localhost:8080/"
        },
        "id": "ErU7y0q7oFNj",
        "outputId": "ed785109-fbca-4341-f53d-1b30f986f005"
      },
      "id": "ErU7y0q7oFNj",
      "execution_count": 16,
      "outputs": [
        {
          "output_type": "stream",
          "name": "stdout",
          "text": [
            "     sepal_length  sepal_width  petal_length  petal_width           class\n",
            "145           6.7          3.0           5.2          2.3  Iris-virginica\n",
            "146           6.3          2.5           5.0          1.9  Iris-virginica\n",
            "147           6.5          3.0           5.2          2.0  Iris-virginica\n",
            "148           6.2          3.4           5.4          2.3  Iris-virginica\n",
            "149           5.9          3.0           5.1          1.8  Iris-virginica\n"
          ]
        }
      ]
    },
    {
      "cell_type": "code",
      "source": [
        "print(df.describe())"
      ],
      "metadata": {
        "colab": {
          "base_uri": "https://localhost:8080/"
        },
        "id": "3Wfjmch0oH2P",
        "outputId": "278838eb-a12b-4f0d-dbc0-f145ac44f927"
      },
      "id": "3Wfjmch0oH2P",
      "execution_count": 22,
      "outputs": [
        {
          "output_type": "stream",
          "name": "stdout",
          "text": [
            "       sepal_length  sepal_width  petal_length  petal_width\n",
            "count    150.000000   150.000000    150.000000   150.000000\n",
            "mean       5.843333     3.054000      3.758667     1.198667\n",
            "std        0.828066     0.433594      1.764420     0.763161\n",
            "min        4.300000     2.000000      1.000000     0.100000\n",
            "25%        5.100000     2.800000      1.600000     0.300000\n",
            "50%        5.800000     3.000000      4.350000     1.300000\n",
            "75%        6.400000     3.300000      5.100000     1.800000\n",
            "max        7.900000     4.400000      6.900000     2.500000\n"
          ]
        }
      ]
    },
    {
      "cell_type": "code",
      "source": [
        "print(df.drop('class',axis=1))"
      ],
      "metadata": {
        "colab": {
          "base_uri": "https://localhost:8080/"
        },
        "id": "dYxhHr9GoOG8",
        "outputId": "0b713bcc-4a6e-48e8-ae9d-b334beae1c21"
      },
      "id": "dYxhHr9GoOG8",
      "execution_count": 26,
      "outputs": [
        {
          "output_type": "stream",
          "name": "stdout",
          "text": [
            "     sepal_length  sepal_width  petal_length  petal_width\n",
            "0             5.1          3.5           1.4          0.2\n",
            "1             4.9          3.0           1.4          0.2\n",
            "2             4.7          3.2           1.3          0.2\n",
            "3             4.6          3.1           1.5          0.2\n",
            "4             5.0          3.6           1.4          0.2\n",
            "..            ...          ...           ...          ...\n",
            "145           6.7          3.0           5.2          2.3\n",
            "146           6.3          2.5           5.0          1.9\n",
            "147           6.5          3.0           5.2          2.0\n",
            "148           6.2          3.4           5.4          2.3\n",
            "149           5.9          3.0           5.1          1.8\n",
            "\n",
            "[150 rows x 4 columns]\n"
          ]
        }
      ]
    },
    {
      "cell_type": "code",
      "source": [
        "group=df.groupby('sepal_length').std()\n",
        "print(group)"
      ],
      "metadata": {
        "colab": {
          "base_uri": "https://localhost:8080/"
        },
        "id": "ABc6wXLJoelv",
        "outputId": "35b4d600-2cf3-4a71-b6dd-d59dec528f24"
      },
      "id": "ABc6wXLJoelv",
      "execution_count": 32,
      "outputs": [
        {
          "output_type": "stream",
          "name": "stdout",
          "text": [
            "              sepal_width  petal_length  petal_width\n",
            "sepal_length                                        \n",
            "4.3                   NaN           NaN          NaN\n",
            "4.4              0.152753      0.057735     0.000000\n",
            "4.5                   NaN           NaN          NaN\n",
            "4.6              0.221736      0.221736     0.050000\n",
            "4.7              0.000000      0.212132     0.000000\n",
            "4.8              0.204939      0.204939     0.070711\n",
            "4.9              0.326599      1.309071     0.671317\n",
            "5.0              0.543241      0.834266     0.326769\n",
            "5.1              0.411636      0.504425     0.282843\n",
            "5.2              0.573730      1.217580     0.618466\n",
            "5.3                   NaN           NaN          NaN\n",
            "5.4              0.350714      1.217648     0.491596\n",
            "5.5              0.723089      1.302196     0.489898\n",
            "5.6              0.194079      0.456070     0.312517\n",
            "5.7              0.656832      1.296630     0.545108\n",
            "5.8              0.494734      1.381683     0.728011\n",
            "5.9              0.115470      0.458258     0.173205\n",
            "6.0              0.471876      0.403733     0.268328\n",
            "6.1              0.151658      0.516720     0.204124\n",
            "6.2              0.492443      0.479583     0.434933\n",
            "6.3              0.400347      0.504975     0.407567\n",
            "6.4              0.207020      0.534968     0.368394\n",
            "6.5              0.141421      0.450555     0.264575\n",
            "6.6              0.070711      0.141421     0.070711\n",
            "6.7              0.250713      0.523552     0.420671\n",
            "6.8              0.200000      0.556776     0.472582\n",
            "6.9              0.050000      0.350000     0.378594\n",
            "7.0                   NaN           NaN          NaN\n",
            "7.1                   NaN           NaN          NaN\n",
            "7.2              0.305505      0.152753     0.472582\n",
            "7.3                   NaN           NaN          NaN\n",
            "7.4                   NaN           NaN          NaN\n",
            "7.6                   NaN           NaN          NaN\n",
            "7.7              0.525991      0.346410     0.141421\n",
            "7.9                   NaN           NaN          NaN\n"
          ]
        },
        {
          "output_type": "stream",
          "name": "stderr",
          "text": [
            "<ipython-input-32-e991ff4e091b>:1: FutureWarning: The default value of numeric_only in DataFrameGroupBy.std is deprecated. In a future version, numeric_only will default to False. Either specify numeric_only or select only columns which should be valid for the function.\n",
            "  group=df.groupby('sepal_length').std()\n"
          ]
        }
      ]
    },
    {
      "cell_type": "markdown",
      "source": [
        "#Q6\n",
        "In Pandas, both Series and DataFrame are mutable objects, meaning you can modify their content after creation. However, Panel objects, which were part of Pandas in earlier versions, have been deprecated, and multi-dimensional data is now typically handled using other data structures like DataFrame with MultiIndex or three-dimensional arrays"
      ],
      "metadata": {
        "id": "OOLvEmdQpUPh"
      },
      "id": "OOLvEmdQpUPh"
    },
    {
      "cell_type": "code",
      "source": [
        "\n",
        "dataName=[\"Alice\",\"Bob\",\"Claire\"]\n",
        "dataAge=[\"25\",\"30\",\"27\"]\n",
        "dataGen=[\"Female\",\"male\",\"Female\"]\n",
        "data6={\n",
        "    'Name':dataName,\n",
        "    \"Age\":dataAge,\n",
        "    \"Gender\":dataGen,\n",
        "}\n",
        "datframe=pd.DataFrame(data6)\n",
        "print(datframe)"
      ],
      "metadata": {
        "colab": {
          "base_uri": "https://localhost:8080/"
        },
        "id": "S8kmlAgUpWPx",
        "outputId": "efe67353-3c52-48ff-a2c0-a7008d93f34a"
      },
      "id": "S8kmlAgUpWPx",
      "execution_count": 34,
      "outputs": [
        {
          "output_type": "stream",
          "name": "stdout",
          "text": [
            "     Name Age  Gender\n",
            "0   Alice  25  Female\n",
            "1     Bob  30    male\n",
            "2  Claire  27  Female\n"
          ]
        }
      ]
    }
  ],
  "metadata": {
    "kernelspec": {
      "display_name": "Python 3 (ipykernel)",
      "language": "python",
      "name": "python3"
    },
    "language_info": {
      "codemirror_mode": {
        "name": "ipython",
        "version": 3
      },
      "file_extension": ".py",
      "mimetype": "text/x-python",
      "name": "python",
      "nbconvert_exporter": "python",
      "pygments_lexer": "ipython3",
      "version": "3.10.9"
    },
    "colab": {
      "provenance": []
    }
  },
  "nbformat": 4,
  "nbformat_minor": 5
}
