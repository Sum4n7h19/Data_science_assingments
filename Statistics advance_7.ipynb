{
 "cells": [
  {
   "cell_type": "code",
   "execution_count": 1,
   "id": "40464b3f",
   "metadata": {},
   "outputs": [],
   "source": [
    "#Q1\n",
    "import numpy as np\n",
    "from scipy.stats import f_oneway\n",
    "\n",
    "def variance_ratio_test(data1, data2):\n",
    "    \"\"\"\n",
    "    Perform a variance ratio test (F-test) between two arrays of data.\n",
    "\n",
    "    Parameters:\n",
    "    - data1: numpy array or list, first array of data\n",
    "    - data2: numpy array or list, second array of data\n",
    "\n",
    "    Returns:\n",
    "    - f_value: float, calculated F-value for the test\n",
    "    - p_value: float, corresponding p-value for the test\n",
    "    \"\"\"\n",
    "    # Ensure data1 and data2 are numpy arrays\n",
    "    data1 = np.array(data1)\n",
    "    data2 = np.array(data2)\n",
    "\n",
    "    # Perform F-test\n",
    "    f_value, p_value = f_oneway(data1, data2)\n",
    "\n",
    "    return f_value, p_value\n"
   ]
  },
  {
   "cell_type": "code",
   "execution_count": 2,
   "id": "88b6d92a",
   "metadata": {},
   "outputs": [
    {
     "name": "stdout",
     "output_type": "stream",
     "text": [
      "F-value: 0.225\n",
      "P-value: 0.6479336011632201\n"
     ]
    }
   ],
   "source": [
    "# Example usage\n",
    "data_array1 = [5, 7, 8, 9, 10]\n",
    "data_array2 = [6, 7, 8, 10, 11]\n",
    "\n",
    "f_value, p_value = variance_ratio_test(data_array1, data_array2)\n",
    "\n",
    "print(f\"F-value: {f_value}\")\n",
    "print(f\"P-value: {p_value}\")\n"
   ]
  },
  {
   "cell_type": "code",
   "execution_count": 3,
   "id": "3b27b5f2",
   "metadata": {},
   "outputs": [],
   "source": [
    "#Q2\n",
    "from scipy.stats import f\n",
    "\n",
    "def critical_f_value(alpha, df_num, df_denom):\n",
    "    \"\"\"\n",
    "    Calculate the critical F-value for a two-tailed test.\n",
    "\n",
    "    Parameters:\n",
    "    - alpha: float, significance level\n",
    "    - df_num: int, degrees of freedom for the numerator\n",
    "    - df_denom: int, degrees of freedom for the denominator\n",
    "\n",
    "    Returns:\n",
    "    - crit_f_value: float, critical F-value\n",
    "    \"\"\"\n",
    "    crit_f_value = f.ppf(1 - alpha / 2, df_num, df_denom)\n",
    "    return crit_f_value\n"
   ]
  },
  {
   "cell_type": "code",
   "execution_count": 4,
   "id": "ace4d8ab",
   "metadata": {},
   "outputs": [
    {
     "name": "stdout",
     "output_type": "stream",
     "text": [
      "F-value: 0.6566179287774841\n",
      "Degrees of Freedom (numerator): 99\n",
      "Degrees of Freedom (denominator): 99\n",
      "P-value: 0.4187293314234368\n"
     ]
    }
   ],
   "source": [
    "#Q3\n",
    "import numpy as np\n",
    "from scipy.stats import f_oneway\n",
    "\n",
    "def f_test_for_variances(sample1, sample2):\n",
    "    \"\"\"\n",
    "    Perform an F-test for equality of variances between two samples.\n",
    "\n",
    "    Parameters:\n",
    "    - sample1: numpy array, first sample\n",
    "    - sample2: numpy array, second sample\n",
    "\n",
    "    Returns:\n",
    "    - f_value: float, calculated F-value for the test\n",
    "    - df_num: int, degrees of freedom for the numerator\n",
    "    - df_denom: int, degrees of freedom for the denominator\n",
    "    - p_value: float, corresponding p-value for the test\n",
    "    \"\"\"\n",
    "    # Ensure sample1 and sample2 are numpy arrays\n",
    "    sample1 = np.array(sample1)\n",
    "    sample2 = np.array(sample2)\n",
    "\n",
    "    # Perform F-test\n",
    "    f_value, p_value = f_oneway(sample1, sample2)\n",
    "\n",
    "    # Degrees of freedom\n",
    "    df_num = len(sample1) - 1\n",
    "    df_denom = len(sample2) - 1\n",
    "\n",
    "    return f_value, df_num, df_denom, p_value\n",
    "\n",
    "# Example usage\n",
    "np.random.seed(42)  # for reproducibility\n",
    "sample1 = np.random.normal(loc=0, scale=1, size=100)\n",
    "sample2 = np.random.normal(loc=0, scale=1.5, size=100)\n",
    "\n",
    "f_value, df_num, df_denom, p_value = f_test_for_variances(sample1, sample2)\n",
    "\n",
    "print(f\"F-value: {f_value}\")\n",
    "print(f\"Degrees of Freedom (numerator): {df_num}\")\n",
    "print(f\"Degrees of Freedom (denominator): {df_denom}\")\n",
    "print(f\"P-value: {p_value}\")\n"
   ]
  },
  {
   "cell_type": "code",
   "execution_count": 6,
   "id": "3826b6df",
   "metadata": {},
   "outputs": [
    {
     "name": "stdout",
     "output_type": "stream",
     "text": [
      "F-Statistic: 0.6666666666666666\n",
      "Critical F-Value: 3.473699051085809\n",
      "P-Value: 0.5123897987357996\n",
      "Fail to reject the null hypothesis. There is no significant difference in variances.\n"
     ]
    }
   ],
   "source": [
    "#Q4\n",
    "from scipy.stats import f\n",
    "\n",
    "# Given data\n",
    "variance1 = 10\n",
    "variance2 = 15\n",
    "sample_size = 12\n",
    "significance_level = 0.05\n",
    "\n",
    "# Calculate the F-statistic\n",
    "f_statistic = variance1 / variance2\n",
    "\n",
    "# Degrees of freedom\n",
    "df_num = sample_size - 1\n",
    "df_denom = sample_size - 1\n",
    "\n",
    "# Calculate the critical F-value for a two-tailed test\n",
    "critical_f_value = f.ppf(1 - significance_level / 2, df_num, df_denom)\n",
    "\n",
    "# Perform the F-test\n",
    "p_value = 2 * min(f.cdf(f_statistic, df_num, df_denom), 1 - f.cdf(f_statistic, df_num, df_denom))\n",
    "\n",
    "# Print the results\n",
    "print(f\"F-Statistic: {f_statistic}\")\n",
    "print(f\"Critical F-Value: {critical_f_value}\")\n",
    "print(f\"P-Value: {p_value}\")\n",
    "\n",
    "# Check significance level\n",
    "if p_value < significance_level:\n",
    "    print(\"Reject the null hypothesis. The variances are significantly different.\")\n",
    "else:\n",
    "    print(\"Fail to reject the null hypothesis. There is no significant difference in variances.\")\n"
   ]
  },
  {
   "cell_type": "code",
   "execution_count": 7,
   "id": "45ffe581",
   "metadata": {},
   "outputs": [
    {
     "name": "stdout",
     "output_type": "stream",
     "text": [
      "Critical F-Value: 2.966741631292762\n",
      "P-Value: 0.6587309365634488\n",
      "Fail to reject the null hypothesis. The claim is justified.\n"
     ]
    }
   ],
   "source": [
    "#Q5\n",
    "from scipy.stats import f\n",
    "\n",
    "# Given data\n",
    "claimed_variance = 0.005\n",
    "sample_variance = 0.006\n",
    "sample_size = 25\n",
    "significance_level = 0.01\n",
    "\n",
    "# Degrees of freedom\n",
    "df_num = sample_size - 1\n",
    "df_denom = sample_size - 1\n",
    "\n",
    "# Calculate the critical F-value for a two-tailed test\n",
    "critical_f_value = f.ppf(1 - significance_level / 2, df_num, df_denom)\n",
    "\n",
    "# Perform the F-test\n",
    "p_value = 2 * min(f.cdf(sample_variance / claimed_variance, df_num, df_denom),\n",
    "                  1 - f.cdf(sample_variance / claimed_variance, df_num, df_denom))\n",
    "\n",
    "# Print the results\n",
    "print(f\"Critical F-Value: {critical_f_value}\")\n",
    "print(f\"P-Value: {p_value}\")\n",
    "\n",
    "# Check significance level\n",
    "if p_value < significance_level:\n",
    "    print(\"Reject the null hypothesis. The claim is not justified.\")\n",
    "else:\n",
    "    print(\"Fail to reject the null hypothesis. The claim is justified.\")\n"
   ]
  },
  {
   "cell_type": "code",
   "execution_count": 8,
   "id": "6a3fe5b5",
   "metadata": {},
   "outputs": [],
   "source": [
    "#Q6\n",
    "def mean_and_variance_of_f_distribution(df_num, df_denom):\n",
    "    \"\"\"\n",
    "    Calculate the mean and variance of an F-distribution.\n",
    "\n",
    "    Parameters:\n",
    "    - df_num: int, degrees of freedom for the numerator\n",
    "    - df_denom: int, degrees of freedom for the denominator\n",
    "\n",
    "    Returns:\n",
    "    - mean: float, mean of the F-distribution\n",
    "    - variance: float, variance of the F-distribution\n",
    "    \"\"\"\n",
    "    mean = df_denom / (df_denom - 2)  # if df_denom > 2\n",
    "    variance = (2 * (df_denom ** 2) * (df_num + df_denom - 2)) / (df_num * (df_denom - 2) ** 2 * (df_denom - 4))\n",
    "    return mean, variance\n"
   ]
  },
  {
   "cell_type": "code",
   "execution_count": 9,
   "id": "dac8e636",
   "metadata": {},
   "outputs": [
    {
     "name": "stdout",
     "output_type": "stream",
     "text": [
      "Critical F-Value: 3.178893104458269\n",
      "F-Statistic: 1.25\n",
      "P-Value: 0.7450016995870201\n",
      "Fail to reject the null hypothesis. There is no significant difference in variances.\n"
     ]
    }
   ],
   "source": [
    "#Q7\n",
    "from scipy.stats import f\n",
    "\n",
    "# Given data\n",
    "sample_variance1 = 25\n",
    "sample_size1 = 10\n",
    "\n",
    "sample_variance2 = 20\n",
    "sample_size2 = 15\n",
    "\n",
    "significance_level = 0.10\n",
    "\n",
    "# Degrees of freedom\n",
    "df_num1 = sample_size1 - 1\n",
    "df_denom1 = df_num1\n",
    "\n",
    "df_num2 = sample_size2 - 1\n",
    "df_denom2 = df_num2\n",
    "\n",
    "# Calculate the critical F-value for a two-tailed test\n",
    "critical_f_value = f.ppf(1 - significance_level / 2, df_num1, df_denom1)\n",
    "\n",
    "# Perform the F-test\n",
    "f_statistic = sample_variance1 / sample_variance2\n",
    "p_value = 2 * min(f.cdf(f_statistic, df_num1, df_denom1), 1 - f.cdf(f_statistic, df_num1, df_denom1))\n",
    "\n",
    "# Print the results\n",
    "print(f\"Critical F-Value: {critical_f_value}\")\n",
    "print(f\"F-Statistic: {f_statistic}\")\n",
    "print(f\"P-Value: {p_value}\")\n",
    "\n",
    "# Check significance level\n",
    "if p_value < significance_level:\n",
    "    print(\"Reject the null hypothesis. The variances are significantly different.\")\n",
    "else:\n",
    "    print(\"Fail to reject the null hypothesis. There is no significant difference in variances.\")\n"
   ]
  },
  {
   "cell_type": "code",
   "execution_count": 10,
   "id": "e28cbf5f",
   "metadata": {},
   "outputs": [
    {
     "name": "stdout",
     "output_type": "stream",
     "text": [
      "Critical F-Value: 6.977701858535566\n",
      "F-Statistic: 1.4551907719609583\n",
      "P-Value: 0.6974815747937484\n",
      "Fail to reject the null hypothesis. There is no significant difference in variances.\n"
     ]
    }
   ],
   "source": [
    "#Q8\n",
    "from scipy.stats import f\n",
    "\n",
    "# Given data\n",
    "waiting_times_a = [24, 25, 28, 23, 22, 20, 27]\n",
    "waiting_times_b = [31, 33, 35, 30, 32, 36]\n",
    "\n",
    "significance_level = 0.05\n",
    "\n",
    "# Sample variances and sizes\n",
    "sample_variance_a = np.var(waiting_times_a, ddof=1)\n",
    "sample_size_a = len(waiting_times_a)\n",
    "\n",
    "sample_variance_b = np.var(waiting_times_b, ddof=1)\n",
    "sample_size_b = len(waiting_times_b)\n",
    "\n",
    "# Degrees of freedom\n",
    "df_num = sample_size_a - 1\n",
    "df_denom = sample_size_b - 1\n",
    "\n",
    "# Calculate the critical F-value for a two-tailed test\n",
    "critical_f_value = f.ppf(1 - significance_level / 2, df_num, df_denom)\n",
    "\n",
    "# Perform the F-test\n",
    "f_statistic = sample_variance_a / sample_variance_b\n",
    "p_value = 2 * min(f.cdf(f_statistic, df_num, df_denom), 1 - f.cdf(f_statistic, df_num, df_denom))\n",
    "\n",
    "# Print the results\n",
    "print(f\"Critical F-Value: {critical_f_value}\")\n",
    "print(f\"F-Statistic: {f_statistic}\")\n",
    "print(f\"P-Value: {p_value}\")\n",
    "\n",
    "# Check significance level\n",
    "if p_value < significance_level:\n",
    "    print(\"Reject the null hypothesis. The variances are significantly different.\")\n",
    "else:\n",
    "    print(\"Fail to reject the null hypothesis. There is no significant difference in variances.\")\n"
   ]
  },
  {
   "cell_type": "code",
   "execution_count": 11,
   "id": "2526094d",
   "metadata": {},
   "outputs": [
    {
     "name": "stdout",
     "output_type": "stream",
     "text": [
      "Critical F-Value: 14.51326300612403\n",
      "F-Statistic: 1.4551907719609583\n",
      "P-Value: 0.6974815747937484\n",
      "Fail to reject the null hypothesis. There is no significant difference in variances.\n"
     ]
    }
   ],
   "source": [
    "#Q9\n",
    "from scipy.stats import f\n",
    "\n",
    "# Given data\n",
    "group_a = [80, 85, 90, 92, 87, 83]\n",
    "group_b = [75, 78, 82, 79, 81, 84]\n",
    "\n",
    "significance_level = 0.01\n",
    "\n",
    "# Sample variances and sizes\n",
    "sample_variance_a = np.var(waiting_times_a, ddof=1)\n",
    "sample_size_a = len(waiting_times_a)\n",
    "\n",
    "sample_variance_b = np.var(waiting_times_b, ddof=1)\n",
    "sample_size_b = len(waiting_times_b)\n",
    "\n",
    "# Degrees of freedom\n",
    "df_num = sample_size_a - 1\n",
    "df_denom = sample_size_b - 1\n",
    "\n",
    "# Calculate the critical F-value for a two-tailed test\n",
    "critical_f_value = f.ppf(1 - significance_level / 2, df_num, df_denom)\n",
    "\n",
    "# Perform the F-test\n",
    "f_statistic = sample_variance_a / sample_variance_b\n",
    "p_value = 2 * min(f.cdf(f_statistic, df_num, df_denom), 1 - f.cdf(f_statistic, df_num, df_denom))\n",
    "\n",
    "# Print the results\n",
    "print(f\"Critical F-Value: {critical_f_value}\")\n",
    "print(f\"F-Statistic: {f_statistic}\")\n",
    "print(f\"P-Value: {p_value}\")\n",
    "\n",
    "# Check significance level\n",
    "if p_value < significance_level:\n",
    "    print(\"Reject the null hypothesis. The variances are significantly different.\")\n",
    "else:\n",
    "    print(\"Fail to reject the null hypothesis. There is no significant difference in variances.\")\n"
   ]
  }
 ],
 "metadata": {
  "kernelspec": {
   "display_name": "Python 3 (ipykernel)",
   "language": "python",
   "name": "python3"
  },
  "language_info": {
   "codemirror_mode": {
    "name": "ipython",
    "version": 3
   },
   "file_extension": ".py",
   "mimetype": "text/x-python",
   "name": "python",
   "nbconvert_exporter": "python",
   "pygments_lexer": "ipython3",
   "version": "3.11.5"
  }
 },
 "nbformat": 4,
 "nbformat_minor": 5
}
